{
 "cells": [
  {
   "cell_type": "code",
   "execution_count": 1,
   "id": "f60f00b1",
   "metadata": {},
   "outputs": [],
   "source": [
    "import dask.dataframe as dd\n",
    "import os"
   ]
  },
  {
   "cell_type": "code",
   "execution_count": 2,
   "id": "2fe9682a",
   "metadata": {},
   "outputs": [],
   "source": [
    "from dask.distributed import Client\n",
    "\n",
    "client = Client()"
   ]
  },
  {
   "cell_type": "code",
   "execution_count": 3,
   "id": "40b99b99",
   "metadata": {},
   "outputs": [],
   "source": [
    "KL_data_dir = \"/home/djl34/lab_pd/kl/data\"\n",
    "scratch_dir = \"/n/scratch3/users/d/djl34\""
   ]
  },
  {
   "cell_type": "code",
   "execution_count": 7,
   "id": "bd0e45ec",
   "metadata": {},
   "outputs": [],
   "source": [
    "input_dir = \"ukb_ac\"\n",
    "output_dir = \"KL_input/intergenic_footprinting\"\n",
    "chrom = \"22\"\n",
    "        \n",
    "rate = dd.read_parquet(KL_data_dir + \"/\" + input_dir + \"/\" + chrom + \"/part.*.parquet\")"
   ]
  },
  {
   "cell_type": "code",
   "execution_count": 8,
   "id": "81e2173f",
   "metadata": {},
   "outputs": [],
   "source": [
    "rate_intergenic = rate[rate[\"intergenic\"].isna() == False]"
   ]
  },
  {
   "cell_type": "code",
   "execution_count": 9,
   "id": "57acaea7",
   "metadata": {},
   "outputs": [
    {
     "data": {
      "text/plain": [
       "Index(['Pos', 'mu', 'Allele_ref', 'Allele', 'footprint_intensity',\n",
       "       'footprint_id', 'DHS_intensity', 'DHS_identifier', 'DHS_tissue',\n",
       "       'coding', 'TSS_Gene', 'TSS_Distance', 'TSS_KL', 'intergenic', 'Filter',\n",
       "       'AC', 'AN', 'AF', 'mean', 'median_approx', 'MAF', 'Freq_bin',\n",
       "       'filter_ukb', 'AC_ukb', 'AN_ukb'],\n",
       "      dtype='object')"
      ]
     },
     "execution_count": 9,
     "metadata": {},
     "output_type": "execute_result"
    }
   ],
   "source": [
    "rate.columns"
   ]
  },
  {
   "cell_type": "code",
   "execution_count": 10,
   "id": "2b0ac54f",
   "metadata": {},
   "outputs": [
    {
     "data": {
      "text/plain": [
       "'/home/djl34/lab_pd/kl/data/ukb_ac/22/part.*.parquet'"
      ]
     },
     "execution_count": 10,
     "metadata": {},
     "output_type": "execute_result"
    }
   ],
   "source": [
    "KL_data_dir + \"/\" + input_dir + \"/\" + chrom + \"/part.*.parquet\""
   ]
  },
  {
   "cell_type": "code",
   "execution_count": null,
   "id": "9d4459f2",
   "metadata": {},
   "outputs": [],
   "source": [
    "filename = os.path.join(KL_data_dir, \"ukb_ac/{chrom}/_metadata\")"
   ]
  }
 ],
 "metadata": {
  "kernelspec": {
   "display_name": "Python 3 (ipykernel)",
   "language": "python",
   "name": "python3"
  },
  "language_info": {
   "codemirror_mode": {
    "name": "ipython",
    "version": 3
   },
   "file_extension": ".py",
   "mimetype": "text/x-python",
   "name": "python",
   "nbconvert_exporter": "python",
   "pygments_lexer": "ipython3",
   "version": "3.10.6"
  }
 },
 "nbformat": 4,
 "nbformat_minor": 5
}
