{
 "cells": [
  {
   "cell_type": "markdown",
   "id": "bad947aa",
   "metadata": {},
   "source": [
    "## Run KL analysis for intergenic region, footprinting region, and DHS sites"
   ]
  },
  {
   "cell_type": "markdown",
   "id": "12251b94",
   "metadata": {},
   "source": [
    "## There are functions to include"
   ]
  },
  {
   "cell_type": "code",
   "execution_count": 1,
   "id": "3ee76011",
   "metadata": {},
   "outputs": [
    {
     "name": "stderr",
     "output_type": "stream",
     "text": [
      "/home/djl34/.conda/envs/kl/lib/python3.10/site-packages/tqdm/auto.py:22: TqdmWarning: IProgress not found. Please update jupyter and ipywidgets. See https://ipywidgets.readthedocs.io/en/stable/user_install.html\n",
      "  from .autonotebook import tqdm as notebook_tqdm\n"
     ]
    }
   ],
   "source": [
    "import logging\n",
    "import os\n",
    "import math\n",
    "\n",
    "import torch\n",
    "import numpy as np\n",
    "import pandas as pd\n",
    "import seaborn as sns\n",
    "import matplotlib.pyplot as plt\n",
    "\n",
    "import pyro\n",
    "import pyro.distributions as dist\n",
    "import pyro.distributions.constraints as constraints\n",
    "from pyro.nn import PyroModule\n",
    "\n",
    "\n",
    "import torch.distributions.transforms as transforms\n",
    "\n",
    "from tqdm import tqdm\n",
    "import matplotlib"
   ]
  },
  {
   "cell_type": "code",
   "execution_count": 2,
   "id": "1e8a10a8",
   "metadata": {},
   "outputs": [],
   "source": [
    "## Model fitting\n",
    "####################################################\n",
    "def plot_losses(losses):\n",
    "    \"\"\"\n",
    "    Make a plot of SVI losses\n",
    "    \"\"\"\n",
    "    fig, ax = plt.subplots(figsize=(10, 4))\n",
    "    ax.plot(losses)\n",
    "    ax.set_xlabel(\"SVI step\")\n",
    "    ax.set_ylabel(\"ELBO loss\");\n",
    "    ax.set_yscale(\"log\")\n",
    "    return fig, ax\n",
    "\n",
    "## Useful transformations\n",
    "####################################################\n",
    "pad = torch.nn.ConstantPad1d((1,0), 0.)            # Add a 0 to a tensor\n",
    "softmax = torch.nn.Softmax(-1)                     # softmax transform along the last dimension\n",
    "relu = torch.nn.ReLU()                             # map everything < 0 -> 0 \n",
    "order_trans = dist.transforms.OrderedTransform()   # y_0=x_0; y_i=y_0+sum_j=1^i exp(x_j) [not really used anymore, weird properties]\n",
    "####################################################\n",
    "\n",
    "## Transformations of the SFS\n",
    "####################################################\n",
    "def multinomial_trans(sfs_probs, offset=None):\n",
    "    sfs_probs = np.array(sfs_probs)\n",
    "    P_0 = sfs_probs[...,0]\n",
    "    if offset:\n",
    "        betas = np.log(sfs_probs[...,1:]) - np.log(P_0[...,None]) - offset\n",
    "    else:\n",
    "        betas = np.log(sfs_probs[...,1:]) - np.log(P_0[...,None])\n",
    "    return betas\n",
    "\n",
    "def multinomial_trans_torch(sfs_probs):\n",
    "    P_0 = sfs_probs[...,0]\n",
    "    return torch.log(sfs_probs[...,1:]) - torch.log(P_0[...,None])\n",
    "\n",
    "def KL_fw(neut_probs, sel_probs):\n",
    "    return np.sum(neut_probs * (np.log(neut_probs) - np.log(sel_probs)), axis=-1)\n",
    "\n",
    "def KL_rv(neut_probs, sel_probs):\n",
    "    return np.sum(sel_probs * (np.log(sel_probs) - np.log(neut_probs)), axis=-1)\n",
    "\n",
    "\n",
    "def calc_KL_genewise(fit, ref_mu_ii=None):\n",
    "    \"\"\"\n",
    "    Calculate KL between the neutral distribution at a reference mutation rate and \n",
    "    the fit selected distribution at each gene.\n",
    "    \"\"\"\n",
    "    neut_sfs_full = fit[\"neut_sfs_full\"]\n",
    "    beta_neut_full = fit[\"beta_neut_full\"]\n",
    "    mu_ref = fit[\"mu_ref\"]\n",
    "    if ref_mu_ii:\n",
    "        fit[\"ref_mu_ii\"] = ref_mu_ii\n",
    "    ref_mu_ii = fit[\"ref_mu_ii\"]\n",
    "    beta_neut = beta_neut_full[ref_mu_ii,:] # neutral betas for the reference mutation rate\n",
    "\n",
    "    beta_prior_b = fit[\"beta_prior_b\"] # need the interaction term between mutation rate and selection\n",
    "    post_samples = fit[\"post_samples\"] # grab dictionary with posterior samples\n",
    "\n",
    "    # apply the correction transormation to the latent beta_sel\n",
    "    # (definitely the kind of thing to store elsewhere in the class structure)\n",
    "    if fit[\"trans\"] == \"abs\":\n",
    "        post_trans = torch.cumsum(torch.abs(post_samples[\"beta_sel\"]), dim=-1)\n",
    "    elif fit[\"trans\"] ==\"logabs\":\n",
    "        post_trans = torch.cumsum(torch.log(torch.abs(post_samples[\"beta_sel\"])+1), dim=-1)\n",
    "    elif fit[\"trans\"]==\"relu\":\n",
    "        post_trans = torch.cumsum(relu(post_samples[\"beta_sel\"]), dim=-1)\n",
    "    elif fit[\"trans\"]==\"logrelu\":\n",
    "        post_trans = torch.cumsum(torch.log(relu(post_samples[\"beta_sel\"])+1), dim=-1)\n",
    "    \n",
    "    # transform to probabilities (SFS) for ecah gene and store as a numpy array\n",
    "    post_probs = softmax(pad(beta_neut - post_trans -\n",
    "                              mu_ref[ref_mu_ii]*torch.cumsum(beta_prior_b, -1)*post_trans\n",
    "                             )\n",
    "                         ).detach().numpy()\n",
    "    \n",
    "    # calculate KL for each draw from the posterior distribution for each gene\n",
    "    KL_fw_post = KL_fw(neut_sfs_full[ref_mu_ii,:].detach().numpy(), post_probs)\n",
    "    KL_rv_post = KL_rv(neut_sfs_full[ref_mu_ii,:].detach().numpy(), post_probs)\n",
    "    \n",
    "    fit[\"post_probs\"] = post_probs\n",
    "    fit[\"KL_fw_post\"] = KL_fw_post\n",
    "    fit[\"KL_rv_post\"] = KL_rv_post\n",
    "    \n",
    "    return fit"
   ]
  },
  {
   "cell_type": "markdown",
   "id": "238c2c59",
   "metadata": {},
   "source": [
    "## Change Evan's Code to class format"
   ]
  },
  {
   "cell_type": "code",
   "execution_count": 3,
   "id": "9a209d31",
   "metadata": {},
   "outputs": [
    {
     "ename": "SyntaxError",
     "evalue": "'(' was never closed (1077912867.py, line 82)",
     "output_type": "error",
     "traceback": [
      "\u001b[0;36m  Input \u001b[0;32mIn [3]\u001b[0;36m\u001b[0m\n\u001b[0;31m    sfs = softmax(pad(mn_sfs[..., gene_ids, mu_vals, :]\u001b[0m\n\u001b[0m                     ^\u001b[0m\n\u001b[0;31mSyntaxError\u001b[0m\u001b[0;31m:\u001b[0m '(' was never closed\n"
     ]
    }
   ],
   "source": [
    "class KL_inference():\n",
    "    def __init__(self, neut_sfs_full, n_bins, mu_ref, n_covs, n_genes,\n",
    "                 n_mix=2, cov_sigma_prior=torch.tensor(0.1, dtype=torch.float32), ref_mu_ii=-1,\n",
    "                 trans=\"abs\", pdist=\"t\"):\n",
    "        \n",
    "        mu = torch.unique(mu_vals)             # set of all possible mutation rates\n",
    "        n_mu = len(mu)                         # number of unique mutation rates\n",
    "        \n",
    "        beta_neut_full = multinomial_trans_torch(neut_sfs_full) #neut_sfs_full is the neutral sfs\n",
    "        beta_neut = beta_neut_full[ref_mu_ii,:]\n",
    "        self.beta_neut = beta_neut\n",
    "        \n",
    "        self.n_bins = n_bins        \n",
    "        self.mu_ref = mu_ref\n",
    "        self.n_covs = n_covs\n",
    "        self.n_genes = n_genes\n",
    "        \n",
    "        self.n_mix = n_mix\n",
    "        self.cov_sigma_prior = cov_sigma_prior\n",
    "        self.trans = trans\n",
    "        self.pdist = pdist\n",
    "        \n",
    "    def model(self, mu_vals, gene_ids, covariates = None, sample_sfs=None):\n",
    "        n_sites = len(mu_vals)\n",
    "        \n",
    "        ## Setup flexible prior\n",
    "        # parameters describing the prior over genes are set as pyro.param, meaning they will get point estimates (no posterior)\n",
    "        if self.pdist==\"t\":\n",
    "            # t-distribution can modulate covariance (L) and kurtosis (df)\n",
    "            # uses a fixed \"point mass\" at zero as one of the mixtures, not sure if this should be kept\n",
    "            beta_prior_mean = pyro.param(\"beta_prior_mean\", torch.randn((self.n_mix-1,self.n_bins)),\n",
    "                                         constraint=constraints.real)\n",
    "            beta_prior_L = pyro.param(\"beta_prior_L\", torch.linalg.cholesky(0.01*torch.diag(torch.ones(self.n_bins, dtype=torch.float32))).expand(self.n_mix-1, self.n_bins, self.n_bins), \n",
    "                                                                            constraint=constraints.lower_cholesky)\n",
    "            beta_prior_df = pyro.param(\"beta_prior_df\", torch.tensor([10]*(self.n_mix-1), dtype=torch.float32), constraint=constraints.positive)\n",
    "            mix_probs = pyro.param(\"mix_probs\", torch.ones(self.n_mix, dtype=torch.float32)/self.n_mix, constraint=constraints.simplex)\n",
    "        elif self.pdist==\"normal\":\n",
    "            # normal model has zero covariance, a different variance for each bin though\n",
    "            mix_probs = pyro.param(\"mix_probs\", torch.ones(self.n_mix, dtype=torch.float32)/self.n_mix, constraint=constraints.simplex)\n",
    "            beta_prior_loc = pyro.param(\"beta_prior_loc\", torch.randn((self.n_mix, self.n_bins)), constraint=constraints.real)\n",
    "            beta_prior_scale = pyro.param(\"beta_prior_scale\", torch.rand((self.n_mix, self.n_bins)), constraint=constraints.positive)\n",
    "\n",
    "        # interaction term bewteen gene-based selection and mutation rate\n",
    "        beta_prior_b = pyro.param(\"beta_prior_b\", torch.tensor([0.001]*self.n_bins, dtype=torch.float32), constraint=constraints.positive)\n",
    "        \n",
    "        if self.n_covs > 0:\n",
    "            # Each covariate has a vector of betas, one for each bin, maybe think about different prior here?\n",
    "            with pyro.plate(\"covariates\", self.n_covs):\n",
    "                beta_cov = pyro.sample(\"beta_cov\", dist.HalfCauchy(self.cov_sigma_prior).expand([self.n_bins]).to_event(1))\n",
    "\n",
    "        with pyro.plate(\"genes\", self.n_genes):\n",
    "            # sample latent betas from either t or normal distribution\n",
    "            if self.pdist==\"t\":\n",
    "                beta_sel = pyro.sample(\"beta_sel\", dist.MixtureSameFamily(dist.Categorical(mix_probs),\n",
    "                                       dist.MultivariateStudentT(df=torch.cat((beta_prior_df, torch.tensor([1000], dtype=torch.float32))), \n",
    "                                                                 loc=torch.cat((beta_prior_mean, \n",
    "                                                                                torch.tensor([0]*self.n_bins, dtype=torch.float32).expand((1, self.n_bins)))), \n",
    "                                                                 scale_tril=torch.cat((beta_prior_L, \n",
    "                                                                                       torch.linalg.cholesky(torch.diag(1e-8*torch.ones(self.n_bins, dtype=torch.float32))).expand(1, self.n_bins, self.n_bins))))))\n",
    "            elif self.pdist==\"normal\":\n",
    "                beta_sel = pyro.sample(\"beta_sel\", dist.MixtureSameFamily(dist.Categorical(mix_probs),\n",
    "                                                                          dist.Normal(beta_prior_loc, beta_prior_scale).to_event(1)))\n",
    "            # apply transform to latent betas\n",
    "            if self.trans == \"abs\":\n",
    "                beta_trans = torch.cumsum(torch.abs(beta_sel), dim=-1)\n",
    "            elif self.trans==\"logabs\":\n",
    "                beta_trans = torch.cumsum(torch.log(torch.abs(beta_sel)+1), dim=-1)\n",
    "            elif self.trans==\"relu\":\n",
    "                beta_trans = torch.cumsum(relu(beta_sel), dim=-1)\n",
    "            elif self.trans==\"logrelu\":\n",
    "                beta_trans = torch.cumsum(torch.log(relu(beta_sel)+1), dim=-1)\n",
    "\n",
    "        # calculate the multinomial coefficients for each gene and each mutation rate\n",
    "        mu_adj = self.mu_ref[...,None] * torch.cumsum(beta_prior_b, -1) * beta_trans[...,None,:]\n",
    "        mn_sfs = (self.beta_neut  - \n",
    "                  beta_trans[...,None,:] -\n",
    "                  mu_adj)\n",
    "        # convert to probabilities per-site and adjust for covariates\n",
    "        if self.n_covs > 0:\n",
    "            sfs = softmax(pad(mn_sfs[..., gene_ids, mu_vals, :] - torch.matmul(covariates, torch.cumsum(beta_cov, -1))))\n",
    "        else:\n",
    "            sfs = softmax(pad(mn_sfs[..., gene_ids, mu_vals, :])\n",
    "\n",
    "        with pyro.plate(\"sites\", n_sites):\n",
    "            pyro.sample(\"obs\", dist.Categorical(sfs), obs=sample_sfs)\n",
    "        "
   ]
  },
  {
   "cell_type": "markdown",
   "id": "4f785611",
   "metadata": {},
   "source": [
    "## load file"
   ]
  },
  {
   "cell_type": "code",
   "execution_count": null,
   "id": "253df319",
   "metadata": {},
   "outputs": [],
   "source": [
    "KL_data_dir = \"/home/djl34/lab_pd/kl/data/\"\n",
    "scratch_dir = \"/n/scratch3/users/d/djl34/\""
   ]
  },
  {
   "cell_type": "code",
   "execution_count": null,
   "id": "5acd6104",
   "metadata": {},
   "outputs": [],
   "source": [
    "sfs = pd.read_csv(KL_data_dir + \"neutral_SFS_5bins.tsv\", sep = \"\\t\")\n",
    "\n",
    "bin_columns = []\n",
    "\n",
    "for i in range(5):\n",
    "    bin_columns.append(str(i) + \"_bin\")\n",
    "\n",
    "neutral_sfs = torch.tensor(sfs[bin_columns].values)\n",
    "\n",
    "mu_ref = torch.tensor(sfs[\"mu\"].values)"
   ]
  },
  {
   "cell_type": "code",
   "execution_count": null,
   "id": "160a04af",
   "metadata": {},
   "outputs": [],
   "source": [
    "df = pd.read_csv(scratch_dir + \"KL_input/intergenic_footprinting/22.tsv\", sep = \"\\t\")"
   ]
  },
  {
   "cell_type": "code",
   "execution_count": null,
   "id": "cf99721b",
   "metadata": {},
   "outputs": [],
   "source": [
    "# initially, filter out mu values that are not in the list\n",
    "df = df[df[\"mu\"].isin(list(sfs[\"mu\"].unique()))]\n",
    "res = dict(zip(sfs[\"mu\"], sfs.index))\n",
    "df[\"mu_index\"] = [res[x] for x in df[\"mu\"]]"
   ]
  },
  {
   "cell_type": "code",
   "execution_count": null,
   "id": "8f7340e9",
   "metadata": {},
   "outputs": [],
   "source": [
    "mu_vals = torch.tensor(df[\"mu_index\"].values)\n",
    "gene_ids = torch.tensor(df[\"type\"].values - 1)\n",
    "sample_sfs = torch.tensor(df[\"Freq_bin\"].values)"
   ]
  },
  {
   "cell_type": "code",
   "execution_count": 87,
   "id": "d757a449",
   "metadata": {},
   "outputs": [],
   "source": [
    "covariates = torch.tensor([1]*len(mu_vals))\n",
    "covariates = covariates.unsqueeze(0).transpose(0,1).type(torch.FloatTensor)"
   ]
  },
  {
   "cell_type": "code",
   "execution_count": 88,
   "id": "e4b4ee90",
   "metadata": {},
   "outputs": [
    {
     "data": {
      "text/plain": [
       "tensor([[1.],\n",
       "        [1.],\n",
       "        [1.],\n",
       "        ...,\n",
       "        [1.],\n",
       "        [1.],\n",
       "        [1.]])"
      ]
     },
     "execution_count": 88,
     "metadata": {},
     "output_type": "execute_result"
    }
   ],
   "source": [
    "covariates"
   ]
  },
  {
   "cell_type": "markdown",
   "id": "9392e618",
   "metadata": {},
   "source": [
    "## inference portion"
   ]
  },
  {
   "cell_type": "code",
   "execution_count": 76,
   "id": "12b56223",
   "metadata": {},
   "outputs": [],
   "source": [
    "#define variables\n",
    "#define neut_sfs_full, mu_vals, gene_ids, covariates\n",
    "n_covs = covariates.shape[-1]          # number of covariates included\n",
    "n_genes = len(torch.unique(gene_ids))  # number of genes\n",
    "\n",
    "# n_covs = 1\n",
    "# n_genes = 3\n",
    "n_bins = len(neutral_sfs[1]) - 1"
   ]
  },
  {
   "cell_type": "code",
   "execution_count": 77,
   "id": "f229c272",
   "metadata": {},
   "outputs": [
    {
     "data": {
      "text/plain": [
       "1"
      ]
     },
     "execution_count": 77,
     "metadata": {},
     "output_type": "execute_result"
    }
   ],
   "source": [
    "n_covs"
   ]
  },
  {
   "cell_type": "code",
   "execution_count": 93,
   "id": "aae204f1",
   "metadata": {},
   "outputs": [],
   "source": [
    "#define model and guide\n",
    "KL = KL_inference(neutral_sfs, n_bins, mu_ref, n_covs, n_genes)\n",
    "model = KL.model\n",
    "guide = pyro.infer.autoguide.AutoNormal(model)"
   ]
  },
  {
   "cell_type": "code",
   "execution_count": 94,
   "id": "f32ced73",
   "metadata": {},
   "outputs": [],
   "source": [
    "#run inference\n",
    "pyro.clear_param_store()\n",
    "# run SVI\n",
    "adam = pyro.optim.Adam({\"lr\":0.005})\n",
    "elbo = pyro.infer.Trace_ELBO(num_particles=1, vectorize_particles=True)\n",
    "svi = pyro.infer.SVI(model, guide, adam, elbo)\n",
    "losses = []"
   ]
  },
  {
   "cell_type": "code",
   "execution_count": null,
   "id": "26964c9a",
   "metadata": {
    "scrolled": true
   },
   "outputs": [
    {
     "name": "stderr",
     "output_type": "stream",
     "text": [
      "  0%|                                                                                                                    | 1/1000 [00:04<1:11:35,  4.30s/it]"
     ]
    },
    {
     "name": "stdout",
     "output_type": "stream",
     "text": [
      "7348741.253620269\n"
     ]
    },
    {
     "name": "stderr",
     "output_type": "stream",
     "text": [
      "\r",
      "  0%|▏                                                                                                                   | 2/1000 [00:08<1:08:07,  4.10s/it]"
     ]
    },
    {
     "name": "stdout",
     "output_type": "stream",
     "text": [
      "8007515.370271911\n"
     ]
    },
    {
     "name": "stderr",
     "output_type": "stream",
     "text": [
      "\r",
      "  0%|▎                                                                                                                   | 3/1000 [00:12<1:06:39,  4.01s/it]"
     ]
    },
    {
     "name": "stdout",
     "output_type": "stream",
     "text": [
      "7520206.523268225\n"
     ]
    },
    {
     "name": "stderr",
     "output_type": "stream",
     "text": [
      "\r",
      "  0%|▍                                                                                                                   | 4/1000 [00:16<1:06:11,  3.99s/it]"
     ]
    },
    {
     "name": "stdout",
     "output_type": "stream",
     "text": [
      "7563960.494541134\n"
     ]
    },
    {
     "name": "stderr",
     "output_type": "stream",
     "text": [
      "\r",
      "  0%|▌                                                                                                                   | 5/1000 [00:20<1:07:50,  4.09s/it]"
     ]
    },
    {
     "name": "stdout",
     "output_type": "stream",
     "text": [
      "7585336.087578438\n"
     ]
    },
    {
     "name": "stderr",
     "output_type": "stream",
     "text": [
      "\r",
      "  1%|▋                                                                                                                   | 6/1000 [00:24<1:10:10,  4.24s/it]"
     ]
    },
    {
     "name": "stdout",
     "output_type": "stream",
     "text": [
      "7970398.648467205\n"
     ]
    },
    {
     "name": "stderr",
     "output_type": "stream",
     "text": [
      "\r",
      "  1%|▊                                                                                                                   | 7/1000 [00:29<1:11:29,  4.32s/it]"
     ]
    },
    {
     "name": "stdout",
     "output_type": "stream",
     "text": [
      "7529706.291865379\n"
     ]
    },
    {
     "name": "stderr",
     "output_type": "stream",
     "text": [
      "\r",
      "  1%|▉                                                                                                                   | 8/1000 [00:33<1:10:55,  4.29s/it]"
     ]
    },
    {
     "name": "stdout",
     "output_type": "stream",
     "text": [
      "8198695.260709029\n"
     ]
    },
    {
     "name": "stderr",
     "output_type": "stream",
     "text": [
      "\r",
      "  1%|█                                                                                                                   | 9/1000 [00:37<1:09:27,  4.20s/it]"
     ]
    },
    {
     "name": "stdout",
     "output_type": "stream",
     "text": [
      "6744117.916210762\n"
     ]
    },
    {
     "name": "stderr",
     "output_type": "stream",
     "text": [
      "\r",
      "  1%|█▏                                                                                                                 | 10/1000 [00:41<1:07:58,  4.12s/it]"
     ]
    },
    {
     "name": "stdout",
     "output_type": "stream",
     "text": [
      "8272835.055715386\n"
     ]
    },
    {
     "name": "stderr",
     "output_type": "stream",
     "text": [
      "\r",
      "  1%|█▎                                                                                                                 | 11/1000 [00:45<1:07:51,  4.12s/it]"
     ]
    },
    {
     "name": "stdout",
     "output_type": "stream",
     "text": [
      "7445005.551404382\n"
     ]
    },
    {
     "name": "stderr",
     "output_type": "stream",
     "text": [
      "\r",
      "  1%|█▍                                                                                                                 | 12/1000 [00:49<1:08:33,  4.16s/it]"
     ]
    },
    {
     "name": "stdout",
     "output_type": "stream",
     "text": [
      "8303601.250684148\n"
     ]
    },
    {
     "name": "stderr",
     "output_type": "stream",
     "text": [
      "\r",
      "  1%|█▍                                                                                                                 | 13/1000 [00:54<1:09:25,  4.22s/it]"
     ]
    },
    {
     "name": "stdout",
     "output_type": "stream",
     "text": [
      "8412820.650540046\n"
     ]
    },
    {
     "name": "stderr",
     "output_type": "stream",
     "text": [
      "\r",
      "  1%|█▌                                                                                                                 | 14/1000 [00:58<1:10:05,  4.26s/it]"
     ]
    },
    {
     "name": "stdout",
     "output_type": "stream",
     "text": [
      "7391999.183672994\n"
     ]
    },
    {
     "name": "stderr",
     "output_type": "stream",
     "text": [
      "\r",
      "  2%|█▋                                                                                                                 | 15/1000 [01:03<1:10:29,  4.29s/it]"
     ]
    },
    {
     "name": "stdout",
     "output_type": "stream",
     "text": [
      "7883926.374265255\n"
     ]
    },
    {
     "name": "stderr",
     "output_type": "stream",
     "text": [
      "\r",
      "  2%|█▊                                                                                                                 | 16/1000 [01:07<1:10:12,  4.28s/it]"
     ]
    },
    {
     "name": "stdout",
     "output_type": "stream",
     "text": [
      "7010916.023569815\n"
     ]
    },
    {
     "name": "stderr",
     "output_type": "stream",
     "text": [
      "\r",
      "  2%|█▉                                                                                                                 | 17/1000 [01:11<1:10:54,  4.33s/it]"
     ]
    },
    {
     "name": "stdout",
     "output_type": "stream",
     "text": [
      "7085113.318793656\n"
     ]
    },
    {
     "name": "stderr",
     "output_type": "stream",
     "text": [
      "\r",
      "  2%|██                                                                                                                 | 18/1000 [01:15<1:10:27,  4.31s/it]"
     ]
    },
    {
     "name": "stdout",
     "output_type": "stream",
     "text": [
      "7745641.566707842\n"
     ]
    },
    {
     "name": "stderr",
     "output_type": "stream",
     "text": [
      "\r",
      "  2%|██▏                                                                                                                | 19/1000 [01:20<1:10:50,  4.33s/it]"
     ]
    },
    {
     "name": "stdout",
     "output_type": "stream",
     "text": [
      "7247120.876896491\n"
     ]
    },
    {
     "name": "stderr",
     "output_type": "stream",
     "text": [
      "\r",
      "  2%|██▎                                                                                                                | 20/1000 [01:25<1:12:17,  4.43s/it]"
     ]
    },
    {
     "name": "stdout",
     "output_type": "stream",
     "text": [
      "7233158.316696401\n"
     ]
    },
    {
     "name": "stderr",
     "output_type": "stream",
     "text": [
      "\r",
      "  2%|██▍                                                                                                                | 21/1000 [01:29<1:11:25,  4.38s/it]"
     ]
    },
    {
     "name": "stdout",
     "output_type": "stream",
     "text": [
      "7036681.155528162\n"
     ]
    },
    {
     "name": "stderr",
     "output_type": "stream",
     "text": [
      "\r",
      "  2%|██▌                                                                                                                | 22/1000 [01:33<1:10:56,  4.35s/it]"
     ]
    },
    {
     "name": "stdout",
     "output_type": "stream",
     "text": [
      "6825944.784872372\n"
     ]
    },
    {
     "name": "stderr",
     "output_type": "stream",
     "text": [
      "\r",
      "  2%|██▋                                                                                                                | 23/1000 [01:37<1:10:03,  4.30s/it]"
     ]
    },
    {
     "name": "stdout",
     "output_type": "stream",
     "text": [
      "7377627.316130639\n"
     ]
    },
    {
     "name": "stderr",
     "output_type": "stream",
     "text": [
      "\r",
      "  2%|██▊                                                                                                                | 24/1000 [01:42<1:11:29,  4.40s/it]"
     ]
    },
    {
     "name": "stdout",
     "output_type": "stream",
     "text": [
      "7300295.044385185\n"
     ]
    },
    {
     "name": "stderr",
     "output_type": "stream",
     "text": [
      "\r",
      "  2%|██▉                                                                                                                | 25/1000 [01:47<1:13:59,  4.55s/it]"
     ]
    },
    {
     "name": "stdout",
     "output_type": "stream",
     "text": [
      "7134900.96610057\n"
     ]
    },
    {
     "name": "stderr",
     "output_type": "stream",
     "text": [
      "\r",
      "  3%|██▉                                                                                                                | 26/1000 [01:51<1:12:10,  4.45s/it]"
     ]
    },
    {
     "name": "stdout",
     "output_type": "stream",
     "text": [
      "6541977.585889512\n"
     ]
    },
    {
     "name": "stderr",
     "output_type": "stream",
     "text": [
      "\r",
      "  3%|███                                                                                                                | 27/1000 [01:55<1:10:02,  4.32s/it]"
     ]
    },
    {
     "name": "stdout",
     "output_type": "stream",
     "text": [
      "7658232.427220281\n"
     ]
    },
    {
     "name": "stderr",
     "output_type": "stream",
     "text": [
      "\r",
      "  3%|███▏                                                                                                               | 28/1000 [01:59<1:08:21,  4.22s/it]"
     ]
    },
    {
     "name": "stdout",
     "output_type": "stream",
     "text": [
      "7192315.782698114\n"
     ]
    },
    {
     "name": "stderr",
     "output_type": "stream",
     "text": [
      "\r",
      "  3%|███▎                                                                                                               | 29/1000 [02:03<1:07:57,  4.20s/it]"
     ]
    },
    {
     "name": "stdout",
     "output_type": "stream",
     "text": [
      "6040670.513327732\n"
     ]
    },
    {
     "name": "stderr",
     "output_type": "stream",
     "text": [
      "\r",
      "  3%|███▍                                                                                                               | 30/1000 [02:07<1:08:17,  4.22s/it]"
     ]
    },
    {
     "name": "stdout",
     "output_type": "stream",
     "text": [
      "7490551.38146485\n"
     ]
    },
    {
     "name": "stderr",
     "output_type": "stream",
     "text": [
      "\r",
      "  3%|███▌                                                                                                               | 31/1000 [02:12<1:09:18,  4.29s/it]"
     ]
    },
    {
     "name": "stdout",
     "output_type": "stream",
     "text": [
      "6510065.641501096\n"
     ]
    },
    {
     "name": "stderr",
     "output_type": "stream",
     "text": [
      "\r",
      "  3%|███▋                                                                                                               | 32/1000 [02:16<1:09:40,  4.32s/it]"
     ]
    },
    {
     "name": "stdout",
     "output_type": "stream",
     "text": [
      "7207888.091555939\n"
     ]
    },
    {
     "name": "stderr",
     "output_type": "stream",
     "text": [
      "\r",
      "  3%|███▊                                                                                                               | 33/1000 [02:20<1:09:07,  4.29s/it]"
     ]
    },
    {
     "name": "stdout",
     "output_type": "stream",
     "text": [
      "7235701.552376948\n"
     ]
    },
    {
     "name": "stderr",
     "output_type": "stream",
     "text": [
      "\r",
      "  3%|███▉                                                                                                               | 34/1000 [02:25<1:08:46,  4.27s/it]"
     ]
    },
    {
     "name": "stdout",
     "output_type": "stream",
     "text": [
      "7113851.329142528\n"
     ]
    },
    {
     "name": "stderr",
     "output_type": "stream",
     "text": [
      "\r",
      "  4%|████                                                                                                               | 35/1000 [02:29<1:08:05,  4.23s/it]"
     ]
    },
    {
     "name": "stdout",
     "output_type": "stream",
     "text": [
      "6360247.527120803\n"
     ]
    },
    {
     "name": "stderr",
     "output_type": "stream",
     "text": [
      "\r",
      "  4%|████▏                                                                                                              | 36/1000 [02:33<1:07:59,  4.23s/it]"
     ]
    },
    {
     "name": "stdout",
     "output_type": "stream",
     "text": [
      "7121083.747240241\n"
     ]
    },
    {
     "name": "stderr",
     "output_type": "stream",
     "text": [
      "\r",
      "  4%|████▎                                                                                                              | 37/1000 [02:37<1:07:45,  4.22s/it]"
     ]
    },
    {
     "name": "stdout",
     "output_type": "stream",
     "text": [
      "6864089.543007897\n"
     ]
    },
    {
     "name": "stderr",
     "output_type": "stream",
     "text": [
      "\r",
      "  4%|████▎                                                                                                              | 38/1000 [02:42<1:07:47,  4.23s/it]"
     ]
    },
    {
     "name": "stdout",
     "output_type": "stream",
     "text": [
      "7138965.27610434\n"
     ]
    },
    {
     "name": "stderr",
     "output_type": "stream",
     "text": [
      "\r",
      "  4%|████▍                                                                                                              | 39/1000 [02:46<1:08:08,  4.25s/it]"
     ]
    },
    {
     "name": "stdout",
     "output_type": "stream",
     "text": [
      "6165132.666043126\n"
     ]
    },
    {
     "name": "stderr",
     "output_type": "stream",
     "text": [
      "\r",
      "  4%|████▌                                                                                                              | 40/1000 [02:50<1:06:46,  4.17s/it]"
     ]
    },
    {
     "name": "stdout",
     "output_type": "stream",
     "text": [
      "6823841.423334196\n"
     ]
    },
    {
     "name": "stderr",
     "output_type": "stream",
     "text": [
      "\r",
      "  4%|████▋                                                                                                              | 41/1000 [02:54<1:05:58,  4.13s/it]"
     ]
    },
    {
     "name": "stdout",
     "output_type": "stream",
     "text": [
      "7199087.278012213\n"
     ]
    },
    {
     "name": "stderr",
     "output_type": "stream",
     "text": [
      "\r",
      "  4%|████▊                                                                                                              | 42/1000 [02:58<1:05:13,  4.08s/it]"
     ]
    },
    {
     "name": "stdout",
     "output_type": "stream",
     "text": [
      "7467389.664996517\n"
     ]
    },
    {
     "name": "stderr",
     "output_type": "stream",
     "text": [
      "\r",
      "  4%|████▉                                                                                                              | 43/1000 [03:02<1:06:01,  4.14s/it]"
     ]
    },
    {
     "name": "stdout",
     "output_type": "stream",
     "text": [
      "6914738.359969066\n"
     ]
    },
    {
     "name": "stderr",
     "output_type": "stream",
     "text": [
      "\r",
      "  4%|█████                                                                                                              | 44/1000 [03:06<1:06:49,  4.19s/it]"
     ]
    },
    {
     "name": "stdout",
     "output_type": "stream",
     "text": [
      "7763115.044683335\n"
     ]
    },
    {
     "name": "stderr",
     "output_type": "stream",
     "text": [
      "\r",
      "  4%|█████▏                                                                                                             | 45/1000 [03:11<1:06:59,  4.21s/it]"
     ]
    },
    {
     "name": "stdout",
     "output_type": "stream",
     "text": [
      "6418889.373290157\n"
     ]
    },
    {
     "name": "stderr",
     "output_type": "stream",
     "text": [
      "\r",
      "  5%|█████▎                                                                                                             | 46/1000 [03:15<1:07:07,  4.22s/it]"
     ]
    },
    {
     "name": "stdout",
     "output_type": "stream",
     "text": [
      "7509026.041089218\n"
     ]
    },
    {
     "name": "stderr",
     "output_type": "stream",
     "text": [
      "\r",
      "  5%|█████▍                                                                                                             | 47/1000 [03:19<1:06:41,  4.20s/it]"
     ]
    },
    {
     "name": "stdout",
     "output_type": "stream",
     "text": [
      "6983163.05064226\n"
     ]
    },
    {
     "name": "stderr",
     "output_type": "stream",
     "text": [
      "\r",
      "  5%|█████▌                                                                                                             | 48/1000 [03:23<1:06:55,  4.22s/it]"
     ]
    },
    {
     "name": "stdout",
     "output_type": "stream",
     "text": [
      "7001061.155733842\n"
     ]
    },
    {
     "name": "stderr",
     "output_type": "stream",
     "text": [
      "\r",
      "  5%|█████▋                                                                                                             | 49/1000 [03:27<1:05:25,  4.13s/it]"
     ]
    },
    {
     "name": "stdout",
     "output_type": "stream",
     "text": [
      "6156060.288768418\n"
     ]
    },
    {
     "name": "stderr",
     "output_type": "stream",
     "text": [
      "\r",
      "  5%|█████▊                                                                                                             | 50/1000 [03:31<1:04:49,  4.09s/it]"
     ]
    },
    {
     "name": "stdout",
     "output_type": "stream",
     "text": [
      "6849426.991646629\n"
     ]
    },
    {
     "name": "stderr",
     "output_type": "stream",
     "text": [
      "\r",
      "  5%|█████▊                                                                                                             | 51/1000 [03:36<1:05:42,  4.15s/it]"
     ]
    },
    {
     "name": "stdout",
     "output_type": "stream",
     "text": [
      "6500603.17075844\n"
     ]
    },
    {
     "name": "stderr",
     "output_type": "stream",
     "text": [
      "\r",
      "  5%|█████▉                                                                                                             | 52/1000 [03:40<1:07:03,  4.24s/it]"
     ]
    },
    {
     "name": "stdout",
     "output_type": "stream",
     "text": [
      "6444684.59688358\n"
     ]
    },
    {
     "name": "stderr",
     "output_type": "stream",
     "text": [
      "\r",
      "  5%|██████                                                                                                             | 53/1000 [03:44<1:06:41,  4.23s/it]"
     ]
    },
    {
     "name": "stdout",
     "output_type": "stream",
     "text": [
      "6539269.254751675\n"
     ]
    },
    {
     "name": "stderr",
     "output_type": "stream",
     "text": [
      "\r",
      "  5%|██████▏                                                                                                            | 54/1000 [03:48<1:06:55,  4.24s/it]"
     ]
    },
    {
     "name": "stdout",
     "output_type": "stream",
     "text": [
      "6086111.117869262\n"
     ]
    },
    {
     "name": "stderr",
     "output_type": "stream",
     "text": [
      "\r",
      "  6%|██████▎                                                                                                            | 55/1000 [03:53<1:06:49,  4.24s/it]"
     ]
    },
    {
     "name": "stdout",
     "output_type": "stream",
     "text": [
      "5427745.264139301\n"
     ]
    },
    {
     "name": "stderr",
     "output_type": "stream",
     "text": [
      "\r",
      "  6%|██████▍                                                                                                            | 56/1000 [03:57<1:06:47,  4.25s/it]"
     ]
    },
    {
     "name": "stdout",
     "output_type": "stream",
     "text": [
      "7136506.758270144\n"
     ]
    },
    {
     "name": "stderr",
     "output_type": "stream",
     "text": [
      "\r",
      "  6%|██████▌                                                                                                            | 57/1000 [04:01<1:06:40,  4.24s/it]"
     ]
    },
    {
     "name": "stdout",
     "output_type": "stream",
     "text": [
      "5243765.52828053\n"
     ]
    },
    {
     "name": "stderr",
     "output_type": "stream",
     "text": [
      "\r",
      "  6%|██████▋                                                                                                            | 58/1000 [04:05<1:06:22,  4.23s/it]"
     ]
    },
    {
     "name": "stdout",
     "output_type": "stream",
     "text": [
      "4716409.378748462\n"
     ]
    },
    {
     "name": "stderr",
     "output_type": "stream",
     "text": [
      "\r",
      "  6%|██████▊                                                                                                            | 59/1000 [04:10<1:05:43,  4.19s/it]"
     ]
    },
    {
     "name": "stdout",
     "output_type": "stream",
     "text": [
      "5262578.840806428\n"
     ]
    },
    {
     "name": "stderr",
     "output_type": "stream",
     "text": [
      "\r",
      "  6%|██████▉                                                                                                            | 60/1000 [04:14<1:06:13,  4.23s/it]"
     ]
    },
    {
     "name": "stdout",
     "output_type": "stream",
     "text": [
      "5802673.31772778\n"
     ]
    },
    {
     "name": "stderr",
     "output_type": "stream",
     "text": [
      "\r",
      "  6%|███████                                                                                                            | 61/1000 [04:18<1:05:13,  4.17s/it]"
     ]
    },
    {
     "name": "stdout",
     "output_type": "stream",
     "text": [
      "6689489.425635362\n"
     ]
    },
    {
     "name": "stderr",
     "output_type": "stream",
     "text": [
      "\r",
      "  6%|███████▏                                                                                                           | 62/1000 [04:22<1:03:39,  4.07s/it]"
     ]
    },
    {
     "name": "stdout",
     "output_type": "stream",
     "text": [
      "5916520.153015909\n"
     ]
    },
    {
     "name": "stderr",
     "output_type": "stream",
     "text": [
      "\r",
      "  6%|███████▏                                                                                                           | 63/1000 [04:26<1:02:20,  3.99s/it]"
     ]
    },
    {
     "name": "stdout",
     "output_type": "stream",
     "text": [
      "6011709.293111746\n"
     ]
    },
    {
     "name": "stderr",
     "output_type": "stream",
     "text": [
      "\r",
      "  6%|███████▎                                                                                                           | 64/1000 [04:30<1:02:25,  4.00s/it]"
     ]
    },
    {
     "name": "stdout",
     "output_type": "stream",
     "text": [
      "5380664.357518847\n"
     ]
    },
    {
     "name": "stderr",
     "output_type": "stream",
     "text": [
      "\r",
      "  6%|███████▍                                                                                                           | 65/1000 [04:34<1:02:50,  4.03s/it]"
     ]
    },
    {
     "name": "stdout",
     "output_type": "stream",
     "text": [
      "6439185.148149478\n"
     ]
    },
    {
     "name": "stderr",
     "output_type": "stream",
     "text": [
      "\r",
      "  7%|███████▌                                                                                                           | 66/1000 [04:38<1:02:58,  4.04s/it]"
     ]
    },
    {
     "name": "stdout",
     "output_type": "stream",
     "text": [
      "5586340.585618541\n"
     ]
    },
    {
     "name": "stderr",
     "output_type": "stream",
     "text": [
      "\r",
      "  7%|███████▋                                                                                                           | 67/1000 [04:42<1:03:00,  4.05s/it]"
     ]
    },
    {
     "name": "stdout",
     "output_type": "stream",
     "text": [
      "5397710.375126066\n"
     ]
    },
    {
     "name": "stderr",
     "output_type": "stream",
     "text": [
      "\r",
      "  7%|███████▊                                                                                                           | 68/1000 [04:46<1:03:32,  4.09s/it]"
     ]
    },
    {
     "name": "stdout",
     "output_type": "stream",
     "text": [
      "5694295.562196677\n"
     ]
    },
    {
     "name": "stderr",
     "output_type": "stream",
     "text": [
      "\r",
      "  7%|███████▉                                                                                                           | 69/1000 [04:50<1:04:30,  4.16s/it]"
     ]
    },
    {
     "name": "stdout",
     "output_type": "stream",
     "text": [
      "5317429.786252189\n"
     ]
    },
    {
     "name": "stderr",
     "output_type": "stream",
     "text": [
      "\r",
      "  7%|████████                                                                                                           | 70/1000 [04:54<1:04:44,  4.18s/it]"
     ]
    },
    {
     "name": "stdout",
     "output_type": "stream",
     "text": [
      "6425791.325681574\n"
     ]
    },
    {
     "name": "stderr",
     "output_type": "stream",
     "text": [
      "\r",
      "  7%|████████▏                                                                                                          | 71/1000 [04:58<1:02:51,  4.06s/it]"
     ]
    },
    {
     "name": "stdout",
     "output_type": "stream",
     "text": [
      "6283107.450626774\n"
     ]
    },
    {
     "name": "stderr",
     "output_type": "stream",
     "text": [
      "\r",
      "  7%|████████▎                                                                                                          | 72/1000 [05:02<1:01:44,  3.99s/it]"
     ]
    },
    {
     "name": "stdout",
     "output_type": "stream",
     "text": [
      "4974476.575519744\n"
     ]
    },
    {
     "name": "stderr",
     "output_type": "stream",
     "text": [
      "\r",
      "  7%|████████▍                                                                                                          | 73/1000 [05:06<1:01:28,  3.98s/it]"
     ]
    },
    {
     "name": "stdout",
     "output_type": "stream",
     "text": [
      "5520362.941558221\n"
     ]
    },
    {
     "name": "stderr",
     "output_type": "stream",
     "text": [
      "\r",
      "  7%|████████▌                                                                                                          | 74/1000 [05:10<1:01:18,  3.97s/it]"
     ]
    },
    {
     "name": "stdout",
     "output_type": "stream",
     "text": [
      "5826402.450245598\n"
     ]
    },
    {
     "name": "stderr",
     "output_type": "stream",
     "text": [
      "\r",
      "  8%|████████▋                                                                                                          | 75/1000 [05:14<1:00:28,  3.92s/it]"
     ]
    },
    {
     "name": "stdout",
     "output_type": "stream",
     "text": [
      "4743093.623730008\n"
     ]
    },
    {
     "name": "stderr",
     "output_type": "stream",
     "text": [
      "\r",
      "  8%|████████▋                                                                                                          | 76/1000 [05:18<1:01:07,  3.97s/it]"
     ]
    },
    {
     "name": "stdout",
     "output_type": "stream",
     "text": [
      "5112446.69576486\n"
     ]
    },
    {
     "name": "stderr",
     "output_type": "stream",
     "text": [
      "\r",
      "  8%|████████▊                                                                                                          | 77/1000 [05:22<1:01:46,  4.02s/it]"
     ]
    },
    {
     "name": "stdout",
     "output_type": "stream",
     "text": [
      "5150487.115371689\n"
     ]
    },
    {
     "name": "stderr",
     "output_type": "stream",
     "text": [
      "\r",
      "  8%|████████▉                                                                                                          | 78/1000 [05:26<1:02:18,  4.05s/it]"
     ]
    },
    {
     "name": "stdout",
     "output_type": "stream",
     "text": [
      "5838793.594013173\n"
     ]
    },
    {
     "name": "stderr",
     "output_type": "stream",
     "text": [
      "\r",
      "  8%|█████████                                                                                                          | 79/1000 [05:30<1:01:17,  3.99s/it]"
     ]
    },
    {
     "name": "stdout",
     "output_type": "stream",
     "text": [
      "5557134.39036251\n"
     ]
    },
    {
     "name": "stderr",
     "output_type": "stream",
     "text": [
      "\r",
      "  8%|█████████▏                                                                                                         | 80/1000 [05:34<1:00:08,  3.92s/it]"
     ]
    },
    {
     "name": "stdout",
     "output_type": "stream",
     "text": [
      "4993104.495415706\n"
     ]
    },
    {
     "name": "stderr",
     "output_type": "stream",
     "text": [
      "\r",
      "  8%|█████████▎                                                                                                         | 81/1000 [05:38<1:00:32,  3.95s/it]"
     ]
    },
    {
     "name": "stdout",
     "output_type": "stream",
     "text": [
      "5083114.703185746\n"
     ]
    },
    {
     "name": "stderr",
     "output_type": "stream",
     "text": [
      "\r",
      "  8%|█████████▍                                                                                                         | 82/1000 [05:42<1:00:45,  3.97s/it]"
     ]
    },
    {
     "name": "stdout",
     "output_type": "stream",
     "text": [
      "5680508.6542066205\n"
     ]
    },
    {
     "name": "stderr",
     "output_type": "stream",
     "text": [
      "\r",
      "  8%|█████████▌                                                                                                         | 83/1000 [05:46<1:00:19,  3.95s/it]"
     ]
    },
    {
     "name": "stdout",
     "output_type": "stream",
     "text": [
      "5621462.275718456\n"
     ]
    },
    {
     "name": "stderr",
     "output_type": "stream",
     "text": [
      "\r",
      "  8%|█████████▋                                                                                                         | 84/1000 [05:50<1:01:40,  4.04s/it]"
     ]
    },
    {
     "name": "stdout",
     "output_type": "stream",
     "text": [
      "6837936.301180371\n"
     ]
    },
    {
     "name": "stderr",
     "output_type": "stream",
     "text": [
      "\r",
      "  8%|█████████▊                                                                                                         | 85/1000 [05:54<1:02:19,  4.09s/it]"
     ]
    },
    {
     "name": "stdout",
     "output_type": "stream",
     "text": [
      "5009811.880937966\n"
     ]
    },
    {
     "name": "stderr",
     "output_type": "stream",
     "text": [
      "\r",
      "  9%|█████████▉                                                                                                         | 86/1000 [05:58<1:02:37,  4.11s/it]"
     ]
    },
    {
     "name": "stdout",
     "output_type": "stream",
     "text": [
      "4863686.733005983\n"
     ]
    },
    {
     "name": "stderr",
     "output_type": "stream",
     "text": [
      "\r",
      "  9%|██████████                                                                                                         | 87/1000 [06:02<1:01:32,  4.04s/it]"
     ]
    },
    {
     "name": "stdout",
     "output_type": "stream",
     "text": [
      "4612729.953721781\n"
     ]
    },
    {
     "name": "stderr",
     "output_type": "stream",
     "text": [
      "\r",
      "  9%|██████████                                                                                                         | 88/1000 [06:06<1:00:28,  3.98s/it]"
     ]
    },
    {
     "name": "stdout",
     "output_type": "stream",
     "text": [
      "5085180.377863856\n"
     ]
    },
    {
     "name": "stderr",
     "output_type": "stream",
     "text": [
      "\r",
      "  9%|██████████▏                                                                                                        | 89/1000 [06:10<1:00:53,  4.01s/it]"
     ]
    },
    {
     "name": "stdout",
     "output_type": "stream",
     "text": [
      "5143588.775126564\n"
     ]
    },
    {
     "name": "stderr",
     "output_type": "stream",
     "text": [
      "\r",
      "  9%|██████████▎                                                                                                        | 90/1000 [06:14<1:02:23,  4.11s/it]"
     ]
    },
    {
     "name": "stdout",
     "output_type": "stream",
     "text": [
      "5109512.857533455\n"
     ]
    },
    {
     "name": "stderr",
     "output_type": "stream",
     "text": [
      "\r",
      "  9%|██████████▍                                                                                                        | 91/1000 [06:18<1:01:11,  4.04s/it]"
     ]
    },
    {
     "name": "stdout",
     "output_type": "stream",
     "text": [
      "5249788.891298712\n"
     ]
    },
    {
     "name": "stderr",
     "output_type": "stream",
     "text": [
      "\r",
      "  9%|██████████▊                                                                                                          | 92/1000 [06:22<59:56,  3.96s/it]"
     ]
    },
    {
     "name": "stdout",
     "output_type": "stream",
     "text": [
      "5001770.928388482\n"
     ]
    },
    {
     "name": "stderr",
     "output_type": "stream",
     "text": [
      "\r",
      "  9%|██████████▉                                                                                                          | 93/1000 [06:26<59:06,  3.91s/it]"
     ]
    },
    {
     "name": "stdout",
     "output_type": "stream",
     "text": [
      "4989172.581116703\n"
     ]
    },
    {
     "name": "stderr",
     "output_type": "stream",
     "text": [
      "\r",
      "  9%|██████████▉                                                                                                          | 94/1000 [06:30<59:23,  3.93s/it]"
     ]
    },
    {
     "name": "stdout",
     "output_type": "stream",
     "text": [
      "4222553.897797519\n"
     ]
    },
    {
     "name": "stderr",
     "output_type": "stream",
     "text": [
      "\r",
      " 10%|██████████▉                                                                                                        | 95/1000 [06:34<1:00:28,  4.01s/it]"
     ]
    },
    {
     "name": "stdout",
     "output_type": "stream",
     "text": [
      "5384384.277552953\n"
     ]
    },
    {
     "name": "stderr",
     "output_type": "stream",
     "text": [
      "\r",
      " 10%|███████████▏                                                                                                         | 96/1000 [06:38<59:38,  3.96s/it]"
     ]
    },
    {
     "name": "stdout",
     "output_type": "stream",
     "text": [
      "4751072.352006885\n"
     ]
    },
    {
     "name": "stderr",
     "output_type": "stream",
     "text": [
      "\r",
      " 10%|███████████▎                                                                                                         | 97/1000 [06:42<58:57,  3.92s/it]"
     ]
    },
    {
     "name": "stdout",
     "output_type": "stream",
     "text": [
      "5214700.439891882\n"
     ]
    },
    {
     "name": "stderr",
     "output_type": "stream",
     "text": [
      "\r",
      " 10%|███████████▍                                                                                                         | 98/1000 [06:46<59:24,  3.95s/it]"
     ]
    },
    {
     "name": "stdout",
     "output_type": "stream",
     "text": [
      "5541488.8473654725\n"
     ]
    },
    {
     "name": "stderr",
     "output_type": "stream",
     "text": [
      "\r",
      " 10%|███████████▌                                                                                                         | 99/1000 [06:50<59:31,  3.96s/it]"
     ]
    },
    {
     "name": "stdout",
     "output_type": "stream",
     "text": [
      "4777795.764811771\n"
     ]
    },
    {
     "name": "stderr",
     "output_type": "stream",
     "text": [
      "\r",
      " 10%|███████████▌                                                                                                        | 100/1000 [06:54<58:50,  3.92s/it]"
     ]
    },
    {
     "name": "stdout",
     "output_type": "stream",
     "text": [
      "5051599.570026594\n"
     ]
    },
    {
     "name": "stderr",
     "output_type": "stream",
     "text": [
      "\r",
      " 10%|███████████▋                                                                                                        | 101/1000 [06:58<59:11,  3.95s/it]"
     ]
    },
    {
     "name": "stdout",
     "output_type": "stream",
     "text": [
      "4750001.137662401\n"
     ]
    },
    {
     "name": "stderr",
     "output_type": "stream",
     "text": [
      "\r",
      " 10%|███████████▊                                                                                                        | 102/1000 [07:02<59:32,  3.98s/it]"
     ]
    },
    {
     "name": "stdout",
     "output_type": "stream",
     "text": [
      "3483614.887630216\n"
     ]
    },
    {
     "name": "stderr",
     "output_type": "stream",
     "text": [
      "\r",
      " 10%|███████████▉                                                                                                        | 103/1000 [07:05<58:36,  3.92s/it]"
     ]
    },
    {
     "name": "stdout",
     "output_type": "stream",
     "text": [
      "5877443.54874707\n"
     ]
    },
    {
     "name": "stderr",
     "output_type": "stream",
     "text": [
      "\r",
      " 10%|████████████                                                                                                        | 104/1000 [07:10<59:47,  4.00s/it]"
     ]
    },
    {
     "name": "stdout",
     "output_type": "stream",
     "text": [
      "4335131.09198697\n"
     ]
    },
    {
     "name": "stderr",
     "output_type": "stream",
     "text": [
      "\r",
      " 10%|████████████▏                                                                                                       | 105/1000 [07:14<59:51,  4.01s/it]"
     ]
    },
    {
     "name": "stdout",
     "output_type": "stream",
     "text": [
      "4675335.335219184\n"
     ]
    },
    {
     "name": "stderr",
     "output_type": "stream",
     "text": [
      "\r",
      " 11%|████████████▍                                                                                                       | 107/1000 [07:22<59:06,  3.97s/it]"
     ]
    },
    {
     "name": "stdout",
     "output_type": "stream",
     "text": [
      "4835321.196534433\n"
     ]
    },
    {
     "name": "stderr",
     "output_type": "stream",
     "text": [
      "\r",
      " 11%|████████████▌                                                                                                       | 108/1000 [07:25<58:30,  3.94s/it]"
     ]
    },
    {
     "name": "stdout",
     "output_type": "stream",
     "text": [
      "5167554.253702147\n"
     ]
    },
    {
     "name": "stderr",
     "output_type": "stream",
     "text": [
      "\r",
      " 11%|████████████▋                                                                                                       | 109/1000 [07:29<58:03,  3.91s/it]"
     ]
    },
    {
     "name": "stdout",
     "output_type": "stream",
     "text": [
      "4965096.442262086\n"
     ]
    },
    {
     "name": "stderr",
     "output_type": "stream",
     "text": [
      "\r",
      " 11%|████████████▌                                                                                                     | 110/1000 [07:34<1:00:28,  4.08s/it]"
     ]
    },
    {
     "name": "stdout",
     "output_type": "stream",
     "text": [
      "4663353.925495793\n"
     ]
    },
    {
     "name": "stderr",
     "output_type": "stream",
     "text": [
      "\r",
      " 11%|████████████▋                                                                                                     | 111/1000 [07:38<1:00:57,  4.11s/it]"
     ]
    },
    {
     "name": "stdout",
     "output_type": "stream",
     "text": [
      "4788519.312985459\n"
     ]
    },
    {
     "name": "stderr",
     "output_type": "stream",
     "text": [
      "\r",
      " 11%|████████████▊                                                                                                     | 112/1000 [07:42<1:00:49,  4.11s/it]"
     ]
    },
    {
     "name": "stdout",
     "output_type": "stream",
     "text": [
      "4314415.240924082\n"
     ]
    },
    {
     "name": "stderr",
     "output_type": "stream",
     "text": [
      "\r",
      " 11%|████████████▉                                                                                                     | 113/1000 [07:46<1:01:22,  4.15s/it]"
     ]
    },
    {
     "name": "stdout",
     "output_type": "stream",
     "text": [
      "4133157.468919821\n"
     ]
    },
    {
     "name": "stderr",
     "output_type": "stream",
     "text": [
      "\r",
      " 11%|████████████▉                                                                                                     | 114/1000 [07:50<1:01:30,  4.17s/it]"
     ]
    },
    {
     "name": "stdout",
     "output_type": "stream",
     "text": [
      "4642807.234629896\n"
     ]
    },
    {
     "name": "stderr",
     "output_type": "stream",
     "text": [
      "\r",
      " 12%|█████████████                                                                                                     | 115/1000 [07:54<1:00:32,  4.10s/it]"
     ]
    },
    {
     "name": "stdout",
     "output_type": "stream",
     "text": [
      "3399301.8038550625\n"
     ]
    },
    {
     "name": "stderr",
     "output_type": "stream",
     "text": [
      "\r",
      " 12%|█████████████▍                                                                                                      | 116/1000 [07:58<59:24,  4.03s/it]"
     ]
    },
    {
     "name": "stdout",
     "output_type": "stream",
     "text": [
      "4458916.606863028\n"
     ]
    },
    {
     "name": "stderr",
     "output_type": "stream",
     "text": [
      "\r",
      " 12%|█████████████▌                                                                                                      | 117/1000 [08:02<58:29,  3.97s/it]"
     ]
    },
    {
     "name": "stdout",
     "output_type": "stream",
     "text": [
      "3679009.773565273\n"
     ]
    },
    {
     "name": "stderr",
     "output_type": "stream",
     "text": [
      "\r",
      " 12%|█████████████▋                                                                                                      | 118/1000 [08:06<58:40,  3.99s/it]"
     ]
    },
    {
     "name": "stdout",
     "output_type": "stream",
     "text": [
      "3784492.188740623\n"
     ]
    },
    {
     "name": "stderr",
     "output_type": "stream",
     "text": [
      "\r",
      " 12%|█████████████▊                                                                                                      | 119/1000 [08:10<59:33,  4.06s/it]"
     ]
    },
    {
     "name": "stdout",
     "output_type": "stream",
     "text": [
      "4486384.852965302\n"
     ]
    },
    {
     "name": "stderr",
     "output_type": "stream",
     "text": [
      "\r",
      " 12%|█████████████▋                                                                                                    | 120/1000 [08:15<1:00:10,  4.10s/it]"
     ]
    },
    {
     "name": "stdout",
     "output_type": "stream",
     "text": [
      "3349311.9223317197\n"
     ]
    },
    {
     "name": "stderr",
     "output_type": "stream",
     "text": [
      "\r",
      " 12%|█████████████▊                                                                                                    | 121/1000 [08:19<1:00:24,  4.12s/it]"
     ]
    },
    {
     "name": "stdout",
     "output_type": "stream",
     "text": [
      "4505174.230143374\n"
     ]
    },
    {
     "name": "stderr",
     "output_type": "stream",
     "text": [
      "\r",
      " 12%|█████████████▉                                                                                                    | 122/1000 [08:23<1:00:59,  4.17s/it]"
     ]
    },
    {
     "name": "stdout",
     "output_type": "stream",
     "text": [
      "4272737.416827374\n"
     ]
    },
    {
     "name": "stderr",
     "output_type": "stream",
     "text": [
      "\r",
      " 12%|██████████████                                                                                                    | 123/1000 [08:27<1:00:34,  4.14s/it]"
     ]
    },
    {
     "name": "stdout",
     "output_type": "stream",
     "text": [
      "3687222.773350129\n"
     ]
    },
    {
     "name": "stderr",
     "output_type": "stream",
     "text": [
      "\r",
      " 12%|██████████████▍                                                                                                     | 124/1000 [08:31<59:14,  4.06s/it]"
     ]
    },
    {
     "name": "stdout",
     "output_type": "stream",
     "text": [
      "4353952.194653539\n"
     ]
    },
    {
     "name": "stderr",
     "output_type": "stream",
     "text": [
      "\r",
      " 12%|██████████████▌                                                                                                     | 125/1000 [08:35<58:07,  3.99s/it]"
     ]
    },
    {
     "name": "stdout",
     "output_type": "stream",
     "text": [
      "3409326.4754277756\n"
     ]
    },
    {
     "name": "stderr",
     "output_type": "stream",
     "text": [
      "\r",
      " 13%|██████████████▌                                                                                                     | 126/1000 [08:39<58:05,  3.99s/it]"
     ]
    },
    {
     "name": "stdout",
     "output_type": "stream",
     "text": [
      "3310565.9296245677\n"
     ]
    },
    {
     "name": "stderr",
     "output_type": "stream",
     "text": [
      "\r",
      " 13%|██████████████▋                                                                                                     | 127/1000 [08:43<57:36,  3.96s/it]"
     ]
    },
    {
     "name": "stdout",
     "output_type": "stream",
     "text": [
      "3865605.66868684\n"
     ]
    },
    {
     "name": "stderr",
     "output_type": "stream",
     "text": [
      "\r",
      " 13%|██████████████▊                                                                                                     | 128/1000 [08:47<56:57,  3.92s/it]"
     ]
    },
    {
     "name": "stdout",
     "output_type": "stream",
     "text": [
      "2751792.2762130382\n"
     ]
    },
    {
     "name": "stderr",
     "output_type": "stream",
     "text": [
      "\r",
      " 13%|██████████████▉                                                                                                     | 129/1000 [08:50<56:59,  3.93s/it]"
     ]
    },
    {
     "name": "stdout",
     "output_type": "stream",
     "text": [
      "4563218.485949774\n"
     ]
    },
    {
     "name": "stderr",
     "output_type": "stream",
     "text": [
      "\r",
      " 13%|███████████████                                                                                                     | 130/1000 [08:55<57:32,  3.97s/it]"
     ]
    },
    {
     "name": "stdout",
     "output_type": "stream",
     "text": [
      "3892064.808752988\n"
     ]
    },
    {
     "name": "stderr",
     "output_type": "stream",
     "text": [
      "\r",
      " 13%|███████████████▏                                                                                                    | 131/1000 [08:59<58:26,  4.04s/it]"
     ]
    },
    {
     "name": "stdout",
     "output_type": "stream",
     "text": [
      "3216476.2650719546\n"
     ]
    },
    {
     "name": "stderr",
     "output_type": "stream",
     "text": [
      "\r",
      " 13%|███████████████▎                                                                                                    | 132/1000 [09:03<57:36,  3.98s/it]"
     ]
    },
    {
     "name": "stdout",
     "output_type": "stream",
     "text": [
      "3386537.837612902\n"
     ]
    },
    {
     "name": "stderr",
     "output_type": "stream",
     "text": [
      "\r",
      " 13%|███████████████▍                                                                                                    | 133/1000 [09:06<57:02,  3.95s/it]"
     ]
    },
    {
     "name": "stdout",
     "output_type": "stream",
     "text": [
      "4793653.465763092\n"
     ]
    },
    {
     "name": "stderr",
     "output_type": "stream",
     "text": [
      "\r",
      " 13%|███████████████▌                                                                                                    | 134/1000 [09:11<57:31,  3.99s/it]"
     ]
    },
    {
     "name": "stdout",
     "output_type": "stream",
     "text": [
      "3733947.5614579935\n"
     ]
    },
    {
     "name": "stderr",
     "output_type": "stream",
     "text": [
      "\r",
      " 14%|███████████████▋                                                                                                    | 135/1000 [09:14<56:38,  3.93s/it]"
     ]
    },
    {
     "name": "stdout",
     "output_type": "stream",
     "text": [
      "4084758.906551239\n"
     ]
    },
    {
     "name": "stderr",
     "output_type": "stream",
     "text": [
      "\r",
      " 14%|███████████████▊                                                                                                    | 136/1000 [09:18<57:15,  3.98s/it]"
     ]
    },
    {
     "name": "stdout",
     "output_type": "stream",
     "text": [
      "3764993.1664891653\n"
     ]
    },
    {
     "name": "stderr",
     "output_type": "stream",
     "text": [
      "\r",
      " 14%|███████████████▉                                                                                                    | 137/1000 [09:23<57:46,  4.02s/it]"
     ]
    },
    {
     "name": "stdout",
     "output_type": "stream",
     "text": [
      "4276189.5783255175\n"
     ]
    },
    {
     "name": "stderr",
     "output_type": "stream",
     "text": [
      "\r",
      " 14%|████████████████                                                                                                    | 138/1000 [09:27<58:36,  4.08s/it]"
     ]
    },
    {
     "name": "stdout",
     "output_type": "stream",
     "text": [
      "2997412.9543763734\n"
     ]
    },
    {
     "name": "stderr",
     "output_type": "stream",
     "text": [
      "\r",
      " 14%|████████████████                                                                                                    | 139/1000 [09:31<58:23,  4.07s/it]"
     ]
    },
    {
     "name": "stdout",
     "output_type": "stream",
     "text": [
      "4184981.9764023833\n"
     ]
    },
    {
     "name": "stderr",
     "output_type": "stream",
     "text": [
      "\r",
      " 14%|████████████████▏                                                                                                   | 140/1000 [09:35<58:50,  4.11s/it]"
     ]
    },
    {
     "name": "stdout",
     "output_type": "stream",
     "text": [
      "3077661.101364947\n"
     ]
    },
    {
     "name": "stderr",
     "output_type": "stream",
     "text": [
      "\r",
      " 14%|████████████████▎                                                                                                   | 141/1000 [09:39<59:46,  4.18s/it]"
     ]
    },
    {
     "name": "stdout",
     "output_type": "stream",
     "text": [
      "3648287.065405749\n"
     ]
    },
    {
     "name": "stderr",
     "output_type": "stream",
     "text": [
      "\r",
      " 14%|████████████████▍                                                                                                   | 142/1000 [09:44<59:49,  4.18s/it]"
     ]
    },
    {
     "name": "stdout",
     "output_type": "stream",
     "text": [
      "3594636.9958406556\n"
     ]
    },
    {
     "name": "stderr",
     "output_type": "stream",
     "text": [
      "\r",
      " 14%|████████████████▌                                                                                                   | 143/1000 [09:47<58:10,  4.07s/it]"
     ]
    },
    {
     "name": "stdout",
     "output_type": "stream",
     "text": [
      "3219378.22251943\n"
     ]
    },
    {
     "name": "stderr",
     "output_type": "stream",
     "text": [
      "\r",
      " 14%|████████████████▋                                                                                                   | 144/1000 [09:51<56:58,  3.99s/it]"
     ]
    },
    {
     "name": "stdout",
     "output_type": "stream",
     "text": [
      "2387164.0155502427\n"
     ]
    },
    {
     "name": "stderr",
     "output_type": "stream",
     "text": [
      "\r",
      " 14%|████████████████▊                                                                                                   | 145/1000 [09:55<56:55,  3.99s/it]"
     ]
    },
    {
     "name": "stdout",
     "output_type": "stream",
     "text": [
      "3056381.109361253\n"
     ]
    },
    {
     "name": "stderr",
     "output_type": "stream",
     "text": [
      "\r",
      " 15%|████████████████▉                                                                                                   | 146/1000 [09:59<56:17,  3.95s/it]"
     ]
    },
    {
     "name": "stdout",
     "output_type": "stream",
     "text": [
      "2484613.27838961\n"
     ]
    },
    {
     "name": "stderr",
     "output_type": "stream",
     "text": [
      "\r",
      " 15%|█████████████████                                                                                                   | 147/1000 [10:03<56:23,  3.97s/it]"
     ]
    },
    {
     "name": "stdout",
     "output_type": "stream",
     "text": [
      "3539091.588611598\n"
     ]
    },
    {
     "name": "stderr",
     "output_type": "stream",
     "text": [
      "\r",
      " 15%|█████████████████▏                                                                                                  | 148/1000 [10:07<57:45,  4.07s/it]"
     ]
    },
    {
     "name": "stdout",
     "output_type": "stream",
     "text": [
      "2677088.4086093707\n"
     ]
    },
    {
     "name": "stderr",
     "output_type": "stream",
     "text": [
      "\r",
      " 15%|█████████████████▎                                                                                                  | 149/1000 [10:11<57:33,  4.06s/it]"
     ]
    },
    {
     "name": "stdout",
     "output_type": "stream",
     "text": [
      "3456570.3697721213\n"
     ]
    },
    {
     "name": "stderr",
     "output_type": "stream",
     "text": [
      "\r",
      " 15%|█████████████████▍                                                                                                  | 150/1000 [10:15<57:49,  4.08s/it]"
     ]
    },
    {
     "name": "stdout",
     "output_type": "stream",
     "text": [
      "2850024.5140523156\n"
     ]
    },
    {
     "name": "stderr",
     "output_type": "stream",
     "text": [
      "\r",
      " 15%|█████████████████▌                                                                                                  | 151/1000 [10:20<59:26,  4.20s/it]"
     ]
    },
    {
     "name": "stdout",
     "output_type": "stream",
     "text": [
      "2718288.527253761\n"
     ]
    },
    {
     "name": "stderr",
     "output_type": "stream",
     "text": [
      "\r",
      " 15%|█████████████████▋                                                                                                  | 152/1000 [10:24<57:57,  4.10s/it]"
     ]
    },
    {
     "name": "stdout",
     "output_type": "stream",
     "text": [
      "3602600.0964525277\n"
     ]
    },
    {
     "name": "stderr",
     "output_type": "stream",
     "text": [
      "\r",
      " 15%|█████████████████▋                                                                                                  | 153/1000 [10:28<56:37,  4.01s/it]"
     ]
    },
    {
     "name": "stdout",
     "output_type": "stream",
     "text": [
      "2282910.1747780647\n"
     ]
    },
    {
     "name": "stderr",
     "output_type": "stream",
     "text": [
      "\r",
      " 15%|█████████████████▊                                                                                                  | 154/1000 [10:32<56:25,  4.00s/it]"
     ]
    },
    {
     "name": "stdout",
     "output_type": "stream",
     "text": [
      "2346903.911582873\n"
     ]
    },
    {
     "name": "stderr",
     "output_type": "stream",
     "text": [
      "\r",
      " 16%|█████████████████▉                                                                                                  | 155/1000 [10:36<57:34,  4.09s/it]"
     ]
    },
    {
     "name": "stdout",
     "output_type": "stream",
     "text": [
      "2674128.128503575\n"
     ]
    },
    {
     "name": "stderr",
     "output_type": "stream",
     "text": [
      "\r",
      " 16%|██████████████████                                                                                                  | 156/1000 [10:40<57:39,  4.10s/it]"
     ]
    },
    {
     "name": "stdout",
     "output_type": "stream",
     "text": [
      "2973393.731658936\n"
     ]
    },
    {
     "name": "stderr",
     "output_type": "stream",
     "text": [
      "\r",
      " 16%|██████████████████▏                                                                                                 | 157/1000 [10:44<56:32,  4.02s/it]"
     ]
    },
    {
     "name": "stdout",
     "output_type": "stream",
     "text": [
      "2555648.191268225\n"
     ]
    },
    {
     "name": "stderr",
     "output_type": "stream",
     "text": [
      "\r",
      " 16%|██████████████████▎                                                                                                 | 158/1000 [10:48<55:55,  3.99s/it]"
     ]
    },
    {
     "name": "stdout",
     "output_type": "stream",
     "text": [
      "2988068.729186044\n"
     ]
    },
    {
     "name": "stderr",
     "output_type": "stream",
     "text": [
      "\r",
      " 16%|██████████████████▍                                                                                                 | 159/1000 [10:52<56:26,  4.03s/it]"
     ]
    },
    {
     "name": "stdout",
     "output_type": "stream",
     "text": [
      "2399499.929688082\n"
     ]
    },
    {
     "name": "stderr",
     "output_type": "stream",
     "text": [
      "\r",
      " 16%|██████████████████▌                                                                                                 | 160/1000 [10:56<56:42,  4.05s/it]"
     ]
    },
    {
     "name": "stdout",
     "output_type": "stream",
     "text": [
      "1935053.4865573067\n"
     ]
    },
    {
     "name": "stderr",
     "output_type": "stream",
     "text": [
      "\r",
      " 16%|██████████████████▋                                                                                                 | 161/1000 [11:00<56:04,  4.01s/it]"
     ]
    },
    {
     "name": "stdout",
     "output_type": "stream",
     "text": [
      "2220138.7914002626\n"
     ]
    },
    {
     "name": "stderr",
     "output_type": "stream",
     "text": [
      "\r",
      " 16%|██████████████████▊                                                                                                 | 162/1000 [11:04<55:27,  3.97s/it]"
     ]
    },
    {
     "name": "stdout",
     "output_type": "stream",
     "text": [
      "2866324.8650598647\n"
     ]
    },
    {
     "name": "stderr",
     "output_type": "stream",
     "text": [
      "\r",
      " 16%|██████████████████▉                                                                                                 | 163/1000 [11:08<55:07,  3.95s/it]"
     ]
    },
    {
     "name": "stdout",
     "output_type": "stream",
     "text": [
      "3521539.1230685916\n"
     ]
    },
    {
     "name": "stderr",
     "output_type": "stream",
     "text": [
      "\r",
      " 16%|███████████████████                                                                                                 | 164/1000 [11:11<54:18,  3.90s/it]"
     ]
    },
    {
     "name": "stdout",
     "output_type": "stream",
     "text": [
      "2585233.577483208\n"
     ]
    },
    {
     "name": "stderr",
     "output_type": "stream",
     "text": [
      "\r",
      " 16%|███████████████████▏                                                                                                | 165/1000 [11:15<54:41,  3.93s/it]"
     ]
    },
    {
     "name": "stdout",
     "output_type": "stream",
     "text": [
      "3160073.979699813\n"
     ]
    },
    {
     "name": "stderr",
     "output_type": "stream",
     "text": [
      "\r",
      " 17%|███████████████████▎                                                                                                | 166/1000 [11:19<54:02,  3.89s/it]"
     ]
    },
    {
     "name": "stdout",
     "output_type": "stream",
     "text": [
      "2604545.10781483\n"
     ]
    },
    {
     "name": "stderr",
     "output_type": "stream",
     "text": [
      "\r",
      " 17%|███████████████████▎                                                                                                | 167/1000 [11:23<54:20,  3.91s/it]"
     ]
    },
    {
     "name": "stdout",
     "output_type": "stream",
     "text": [
      "1596989.7341011807\n"
     ]
    },
    {
     "name": "stderr",
     "output_type": "stream",
     "text": [
      "\r",
      " 17%|███████████████████▍                                                                                                | 168/1000 [11:27<55:18,  3.99s/it]"
     ]
    },
    {
     "name": "stdout",
     "output_type": "stream",
     "text": [
      "2913040.745801106\n"
     ]
    },
    {
     "name": "stderr",
     "output_type": "stream",
     "text": [
      "\r",
      " 17%|███████████████████▌                                                                                                | 169/1000 [11:31<55:23,  4.00s/it]"
     ]
    },
    {
     "name": "stdout",
     "output_type": "stream",
     "text": [
      "2857248.343197834\n"
     ]
    },
    {
     "name": "stderr",
     "output_type": "stream",
     "text": [
      "\r",
      " 17%|███████████████████▋                                                                                                | 170/1000 [11:35<55:23,  4.00s/it]"
     ]
    },
    {
     "name": "stdout",
     "output_type": "stream",
     "text": [
      "3087112.440663441\n"
     ]
    },
    {
     "name": "stderr",
     "output_type": "stream",
     "text": [
      "\r",
      " 17%|███████████████████▊                                                                                                | 171/1000 [11:39<54:51,  3.97s/it]"
     ]
    },
    {
     "name": "stdout",
     "output_type": "stream",
     "text": [
      "2574502.5855180738\n"
     ]
    },
    {
     "name": "stderr",
     "output_type": "stream",
     "text": [
      "\r",
      " 17%|███████████████████▉                                                                                                | 172/1000 [11:43<54:03,  3.92s/it]"
     ]
    },
    {
     "name": "stdout",
     "output_type": "stream",
     "text": [
      "2693415.0190731687\n"
     ]
    },
    {
     "name": "stderr",
     "output_type": "stream",
     "text": [
      "\r",
      " 17%|████████████████████                                                                                                | 173/1000 [11:47<54:31,  3.96s/it]"
     ]
    },
    {
     "name": "stdout",
     "output_type": "stream",
     "text": [
      "2398305.830144866\n"
     ]
    },
    {
     "name": "stderr",
     "output_type": "stream",
     "text": [
      "\r",
      " 17%|████████████████████▏                                                                                               | 174/1000 [11:51<54:41,  3.97s/it]"
     ]
    },
    {
     "name": "stdout",
     "output_type": "stream",
     "text": [
      "2339746.736709737\n"
     ]
    },
    {
     "name": "stderr",
     "output_type": "stream",
     "text": [
      "\r",
      " 18%|████████████████████▎                                                                                               | 175/1000 [11:55<54:49,  3.99s/it]"
     ]
    },
    {
     "name": "stdout",
     "output_type": "stream",
     "text": [
      "2993191.0381097277\n"
     ]
    },
    {
     "name": "stderr",
     "output_type": "stream",
     "text": [
      "\r",
      " 18%|████████████████████▍                                                                                               | 176/1000 [11:59<54:11,  3.95s/it]"
     ]
    },
    {
     "name": "stdout",
     "output_type": "stream",
     "text": [
      "2876630.5054585305\n"
     ]
    },
    {
     "name": "stderr",
     "output_type": "stream",
     "text": [
      "\r",
      " 18%|████████████████████▌                                                                                               | 177/1000 [12:03<53:43,  3.92s/it]"
     ]
    },
    {
     "name": "stdout",
     "output_type": "stream",
     "text": [
      "1930269.8176268162\n"
     ]
    },
    {
     "name": "stderr",
     "output_type": "stream",
     "text": [
      "\r",
      " 18%|████████████████████▋                                                                                               | 178/1000 [12:07<54:40,  3.99s/it]"
     ]
    },
    {
     "name": "stdout",
     "output_type": "stream",
     "text": [
      "2079987.3335163645\n"
     ]
    },
    {
     "name": "stderr",
     "output_type": "stream",
     "text": [
      "\r",
      " 18%|████████████████████▊                                                                                               | 179/1000 [12:11<55:17,  4.04s/it]"
     ]
    },
    {
     "name": "stdout",
     "output_type": "stream",
     "text": [
      "2417126.4842654006\n"
     ]
    },
    {
     "name": "stderr",
     "output_type": "stream",
     "text": [
      "\r",
      " 18%|████████████████████▉                                                                                               | 180/1000 [12:15<55:06,  4.03s/it]"
     ]
    },
    {
     "name": "stdout",
     "output_type": "stream",
     "text": [
      "1997459.2573797675\n"
     ]
    },
    {
     "name": "stderr",
     "output_type": "stream",
     "text": [
      "\r",
      " 18%|████████████████████▉                                                                                               | 181/1000 [12:19<53:29,  3.92s/it]"
     ]
    },
    {
     "name": "stdout",
     "output_type": "stream",
     "text": [
      "2436335.635565739\n"
     ]
    },
    {
     "name": "stderr",
     "output_type": "stream",
     "text": [
      "\r",
      " 18%|█████████████████████                                                                                               | 182/1000 [12:23<52:31,  3.85s/it]"
     ]
    },
    {
     "name": "stdout",
     "output_type": "stream",
     "text": [
      "2194459.1412948696\n"
     ]
    },
    {
     "name": "stderr",
     "output_type": "stream",
     "text": [
      "\r",
      " 18%|█████████████████████▏                                                                                              | 183/1000 [12:26<52:41,  3.87s/it]"
     ]
    },
    {
     "name": "stdout",
     "output_type": "stream",
     "text": [
      "2780368.5194515088\n"
     ]
    },
    {
     "name": "stderr",
     "output_type": "stream",
     "text": [
      "\r",
      " 18%|█████████████████████▎                                                                                              | 184/1000 [12:31<53:42,  3.95s/it]"
     ]
    },
    {
     "name": "stdout",
     "output_type": "stream",
     "text": [
      "2390936.1078430684\n"
     ]
    },
    {
     "name": "stderr",
     "output_type": "stream",
     "text": [
      "\r",
      " 18%|█████████████████████▍                                                                                              | 185/1000 [12:35<54:12,  3.99s/it]"
     ]
    },
    {
     "name": "stdout",
     "output_type": "stream",
     "text": [
      "2262316.7516006916\n"
     ]
    },
    {
     "name": "stderr",
     "output_type": "stream",
     "text": [
      "\r",
      " 19%|█████████████████████▌                                                                                              | 186/1000 [12:39<54:46,  4.04s/it]"
     ]
    },
    {
     "name": "stdout",
     "output_type": "stream",
     "text": [
      "2393558.9806497963\n"
     ]
    },
    {
     "name": "stderr",
     "output_type": "stream",
     "text": [
      "\r",
      " 19%|█████████████████████▋                                                                                              | 187/1000 [12:43<54:39,  4.03s/it]"
     ]
    },
    {
     "name": "stdout",
     "output_type": "stream",
     "text": [
      "2429480.0536801247\n"
     ]
    },
    {
     "name": "stderr",
     "output_type": "stream",
     "text": [
      "\r",
      " 19%|█████████████████████▊                                                                                              | 188/1000 [12:47<54:57,  4.06s/it]"
     ]
    },
    {
     "name": "stdout",
     "output_type": "stream",
     "text": [
      "1854603.987918935\n"
     ]
    },
    {
     "name": "stderr",
     "output_type": "stream",
     "text": [
      "\r",
      " 19%|█████████████████████▉                                                                                              | 189/1000 [12:51<54:26,  4.03s/it]"
     ]
    },
    {
     "name": "stdout",
     "output_type": "stream",
     "text": [
      "1941875.3095604763\n"
     ]
    },
    {
     "name": "stderr",
     "output_type": "stream",
     "text": [
      "\r",
      " 19%|██████████████████████                                                                                              | 190/1000 [12:55<53:28,  3.96s/it]"
     ]
    },
    {
     "name": "stdout",
     "output_type": "stream",
     "text": [
      "2182855.727744815\n"
     ]
    },
    {
     "name": "stderr",
     "output_type": "stream",
     "text": [
      "\r",
      " 19%|██████████████████████▏                                                                                             | 191/1000 [12:59<52:48,  3.92s/it]"
     ]
    },
    {
     "name": "stdout",
     "output_type": "stream",
     "text": [
      "3097754.074505072\n"
     ]
    },
    {
     "name": "stderr",
     "output_type": "stream",
     "text": [
      "\r",
      " 19%|██████████████████████▎                                                                                             | 192/1000 [13:03<53:11,  3.95s/it]"
     ]
    },
    {
     "name": "stdout",
     "output_type": "stream",
     "text": [
      "2199742.2706839535\n"
     ]
    },
    {
     "name": "stderr",
     "output_type": "stream",
     "text": [
      "\r",
      " 19%|██████████████████████▍                                                                                             | 193/1000 [13:07<53:48,  4.00s/it]"
     ]
    },
    {
     "name": "stdout",
     "output_type": "stream",
     "text": [
      "2092794.6161491298\n"
     ]
    },
    {
     "name": "stderr",
     "output_type": "stream",
     "text": [
      "\r",
      " 19%|██████████████████████▌                                                                                             | 194/1000 [13:11<52:49,  3.93s/it]"
     ]
    },
    {
     "name": "stdout",
     "output_type": "stream",
     "text": [
      "1859318.1786146713\n"
     ]
    },
    {
     "name": "stderr",
     "output_type": "stream",
     "text": [
      "\r",
      " 20%|██████████████████████▌                                                                                             | 195/1000 [13:14<52:20,  3.90s/it]"
     ]
    },
    {
     "name": "stdout",
     "output_type": "stream",
     "text": [
      "2211866.9531638534\n"
     ]
    },
    {
     "name": "stderr",
     "output_type": "stream",
     "text": [
      "\r",
      " 20%|██████████████████████▋                                                                                             | 196/1000 [13:18<51:44,  3.86s/it]"
     ]
    },
    {
     "name": "stdout",
     "output_type": "stream",
     "text": [
      "2289717.5788713656\n"
     ]
    },
    {
     "name": "stderr",
     "output_type": "stream",
     "text": [
      "\r",
      " 20%|██████████████████████▊                                                                                             | 197/1000 [13:22<51:54,  3.88s/it]"
     ]
    },
    {
     "name": "stdout",
     "output_type": "stream",
     "text": [
      "1585290.3672968629\n"
     ]
    },
    {
     "name": "stderr",
     "output_type": "stream",
     "text": [
      "\r",
      " 20%|██████████████████████▉                                                                                             | 198/1000 [13:26<52:37,  3.94s/it]"
     ]
    },
    {
     "name": "stdout",
     "output_type": "stream",
     "text": [
      "2329611.0111372746\n"
     ]
    },
    {
     "name": "stderr",
     "output_type": "stream",
     "text": [
      "\r",
      " 20%|███████████████████████                                                                                             | 199/1000 [13:30<52:54,  3.96s/it]"
     ]
    },
    {
     "name": "stdout",
     "output_type": "stream",
     "text": [
      "2110807.0174230877\n"
     ]
    },
    {
     "name": "stderr",
     "output_type": "stream",
     "text": [
      "\r",
      " 20%|███████████████████████▏                                                                                            | 200/1000 [13:34<53:18,  4.00s/it]"
     ]
    },
    {
     "name": "stdout",
     "output_type": "stream",
     "text": [
      "1529591.1512943394\n"
     ]
    },
    {
     "name": "stderr",
     "output_type": "stream",
     "text": [
      "\r",
      " 20%|███████████████████████▎                                                                                            | 201/1000 [13:38<53:26,  4.01s/it]"
     ]
    },
    {
     "name": "stdout",
     "output_type": "stream",
     "text": [
      "1585185.516523259\n"
     ]
    },
    {
     "name": "stderr",
     "output_type": "stream",
     "text": [
      "\r",
      " 20%|███████████████████████▍                                                                                            | 202/1000 [13:43<54:42,  4.11s/it]"
     ]
    },
    {
     "name": "stdout",
     "output_type": "stream",
     "text": [
      "2256627.927870378\n"
     ]
    },
    {
     "name": "stderr",
     "output_type": "stream",
     "text": [
      "\r",
      " 20%|███████████████████████▌                                                                                            | 203/1000 [13:47<55:26,  4.17s/it]"
     ]
    },
    {
     "name": "stdout",
     "output_type": "stream",
     "text": [
      "2318826.1308226422\n"
     ]
    },
    {
     "name": "stderr",
     "output_type": "stream",
     "text": [
      "\r",
      " 20%|███████████████████████▋                                                                                            | 204/1000 [13:51<54:49,  4.13s/it]"
     ]
    },
    {
     "name": "stdout",
     "output_type": "stream",
     "text": [
      "1582015.8545635766\n"
     ]
    },
    {
     "name": "stderr",
     "output_type": "stream",
     "text": [
      "\r",
      " 20%|███████████████████████▊                                                                                            | 205/1000 [13:55<55:06,  4.16s/it]"
     ]
    },
    {
     "name": "stdout",
     "output_type": "stream",
     "text": [
      "2128478.1682358216\n"
     ]
    },
    {
     "name": "stderr",
     "output_type": "stream",
     "text": [
      "\r",
      " 21%|███████████████████████▉                                                                                            | 206/1000 [13:59<54:47,  4.14s/it]"
     ]
    },
    {
     "name": "stdout",
     "output_type": "stream",
     "text": [
      "1787264.57210786\n"
     ]
    },
    {
     "name": "stderr",
     "output_type": "stream",
     "text": [
      "\r",
      " 21%|████████████████████████                                                                                            | 207/1000 [14:03<54:12,  4.10s/it]"
     ]
    },
    {
     "name": "stdout",
     "output_type": "stream",
     "text": [
      "1876076.26144082\n"
     ]
    },
    {
     "name": "stderr",
     "output_type": "stream",
     "text": [
      "\r",
      " 21%|████████████████████████▏                                                                                           | 208/1000 [14:07<54:30,  4.13s/it]"
     ]
    },
    {
     "name": "stdout",
     "output_type": "stream",
     "text": [
      "1862631.1457420364\n"
     ]
    },
    {
     "name": "stderr",
     "output_type": "stream",
     "text": [
      "\r",
      " 21%|████████████████████████▏                                                                                           | 209/1000 [14:12<54:15,  4.12s/it]"
     ]
    },
    {
     "name": "stdout",
     "output_type": "stream",
     "text": [
      "2059937.1361141913\n"
     ]
    },
    {
     "name": "stderr",
     "output_type": "stream",
     "text": [
      "\r",
      " 21%|████████████████████████▎                                                                                           | 210/1000 [14:16<54:08,  4.11s/it]"
     ]
    },
    {
     "name": "stdout",
     "output_type": "stream",
     "text": [
      "1559877.9818659588\n"
     ]
    },
    {
     "name": "stderr",
     "output_type": "stream",
     "text": [
      "\r",
      " 21%|████████████████████████▍                                                                                           | 211/1000 [14:20<54:28,  4.14s/it]"
     ]
    },
    {
     "name": "stdout",
     "output_type": "stream",
     "text": [
      "2130450.7878451403\n"
     ]
    },
    {
     "name": "stderr",
     "output_type": "stream",
     "text": [
      "\r",
      " 21%|████████████████████████▌                                                                                           | 212/1000 [14:24<54:45,  4.17s/it]"
     ]
    },
    {
     "name": "stdout",
     "output_type": "stream",
     "text": [
      "1778464.6245306134\n"
     ]
    },
    {
     "name": "stderr",
     "output_type": "stream",
     "text": [
      "\r",
      " 21%|████████████████████████▋                                                                                           | 213/1000 [14:28<55:07,  4.20s/it]"
     ]
    },
    {
     "name": "stdout",
     "output_type": "stream",
     "text": [
      "1905123.2428352153\n"
     ]
    },
    {
     "name": "stderr",
     "output_type": "stream",
     "text": [
      "\r",
      " 21%|████████████████████████▊                                                                                           | 214/1000 [14:32<54:21,  4.15s/it]"
     ]
    },
    {
     "name": "stdout",
     "output_type": "stream",
     "text": [
      "1781283.4469514242\n"
     ]
    },
    {
     "name": "stderr",
     "output_type": "stream",
     "text": [
      "\r",
      " 22%|████████████████████████▉                                                                                           | 215/1000 [14:37<54:33,  4.17s/it]"
     ]
    },
    {
     "name": "stdout",
     "output_type": "stream",
     "text": [
      "1422990.7194524123\n"
     ]
    },
    {
     "name": "stderr",
     "output_type": "stream",
     "text": [
      "\r",
      " 22%|█████████████████████████                                                                                           | 216/1000 [14:41<54:06,  4.14s/it]"
     ]
    },
    {
     "name": "stdout",
     "output_type": "stream",
     "text": [
      "1710622.6211576953\n"
     ]
    },
    {
     "name": "stderr",
     "output_type": "stream",
     "text": [
      "\r",
      " 22%|█████████████████████████▏                                                                                          | 217/1000 [14:45<54:10,  4.15s/it]"
     ]
    },
    {
     "name": "stdout",
     "output_type": "stream",
     "text": [
      "1666289.8698475687\n"
     ]
    },
    {
     "name": "stderr",
     "output_type": "stream",
     "text": [
      "\r",
      " 22%|█████████████████████████▎                                                                                          | 218/1000 [14:49<54:22,  4.17s/it]"
     ]
    },
    {
     "name": "stdout",
     "output_type": "stream",
     "text": [
      "2065935.719811238\n"
     ]
    },
    {
     "name": "stderr",
     "output_type": "stream",
     "text": [
      "\r",
      " 22%|█████████████████████████▍                                                                                          | 219/1000 [14:53<54:22,  4.18s/it]"
     ]
    },
    {
     "name": "stdout",
     "output_type": "stream",
     "text": [
      "1673775.911042627\n"
     ]
    },
    {
     "name": "stderr",
     "output_type": "stream",
     "text": [
      "\r",
      " 22%|█████████████████████████▌                                                                                          | 220/1000 [14:57<53:45,  4.14s/it]"
     ]
    },
    {
     "name": "stdout",
     "output_type": "stream",
     "text": [
      "1494622.4542936147\n"
     ]
    },
    {
     "name": "stderr",
     "output_type": "stream",
     "text": [
      "\r",
      " 22%|█████████████████████████▋                                                                                          | 221/1000 [15:01<53:28,  4.12s/it]"
     ]
    },
    {
     "name": "stdout",
     "output_type": "stream",
     "text": [
      "1418317.3590732843\n"
     ]
    },
    {
     "name": "stderr",
     "output_type": "stream",
     "text": [
      "\r",
      " 22%|█████████████████████████▊                                                                                          | 222/1000 [15:06<53:25,  4.12s/it]"
     ]
    },
    {
     "name": "stdout",
     "output_type": "stream",
     "text": [
      "1481659.987627992\n"
     ]
    },
    {
     "name": "stderr",
     "output_type": "stream",
     "text": [
      "\r",
      " 22%|█████████████████████████▊                                                                                          | 223/1000 [15:10<53:31,  4.13s/it]"
     ]
    },
    {
     "name": "stdout",
     "output_type": "stream",
     "text": [
      "1589456.5425129165\n"
     ]
    }
   ],
   "source": [
    "n_steps = 1000\n",
    "\n",
    "for step in tqdm(range(n_steps)): # tqdm is just a progress bar thing \n",
    "    loss = svi.step(mu_vals, gene_ids, covariates, sample_sfs)\n",
    "    print(loss)\n",
    "    losses.append(loss)"
   ]
  },
  {
   "cell_type": "code",
   "execution_count": 49,
   "id": "3acfba78",
   "metadata": {},
   "outputs": [
    {
     "data": {
      "text/plain": [
       "3647420"
      ]
     },
     "execution_count": 49,
     "metadata": {},
     "output_type": "execute_result"
    }
   ],
   "source": [
    "# for epoch in range(num_epochs):\n",
    "#     losses = []\n",
    "\n",
    "#     # Take a gradient step for each mini-batch in the dataset\n",
    "#     for x, y in dataloader:\n",
    "#         if y is not None:\n",
    "#             y = y.type_as(x)\n",
    "#         loss = svi.step(x, y)\n",
    "#         losses.append(loss)\n",
    "\n",
    "#     # Tell the scheduler we've done one epoch.\n",
    "#     scheduler.step()\n",
    "\n",
    "#     print(\"[Epoch %02d]  Loss: %.5f\" % (epoch, np.mean(losses)))\n",
    "\n",
    "# print(\"Finished training!\")"
   ]
  },
  {
   "cell_type": "code",
   "execution_count": 97,
   "id": "62880bc8",
   "metadata": {},
   "outputs": [
    {
     "data": {
      "image/png": "[encoded data removed]",
      "text/plain": [
       "<Figure size 1000x400 with 1 Axes>"
      ]
     },
     "metadata": {},
     "output_type": "display_data"
    }
   ],
   "source": [
    "fig, ax = plot_losses(losses)"
   ]
  },
  {
   "cell_type": "markdown",
   "id": "216ab94e",
   "metadata": {},
   "source": [
    "## post inference portion (same as raklette_daniel.py)"
   ]
  },
  {
   "cell_type": "code",
   "execution_count": 109,
   "id": "2af2042a",
   "metadata": {},
   "outputs": [],
   "source": [
    "neut_sfs_full = neutral_sfs\n",
    "\n",
    "ref_mu_ii = -1\n",
    "beta_neut_full = multinomial_trans_torch(neut_sfs_full) #neut_sfs_full is the neutral sfs\n",
    "pdist = \"t\"\n",
    "trans = \"abs\"\n",
    "post_samps=10000\n",
    "\n",
    "# grab gene-DFE prior parameter point estimates\n",
    "beta_neut = beta_neut_full[ref_mu_ii,:]\n",
    "if pdist==\"t\":\n",
    "    beta_prior_df = pyro.param(\"beta_prior_df\")\n",
    "    beta_prior_mean = pyro.param(\"beta_prior_mean\")\n",
    "    beta_prior_L = pyro.param(\"beta_prior_L\")\n",
    "    mix_probs = pyro.param(\"mix_probs\")\n",
    "elif pdist==\"normal\":\n",
    "    mix_probs = pyro.param(\"mix_probs\")\n",
    "    beta_prior_loc = pyro.param(\"beta_prior_loc\")\n",
    "    beta_prior_scale = pyro.param(\"beta_prior_scale\")\n",
    "\n",
    "beta_prior_b = pyro.param(\"beta_prior_b\")\n",
    "\n",
    "# Sample betas from the DFE prior, representing the fit distribution across genes\n",
    "if pdist==\"t\":\n",
    "    prior_dist = dist.MixtureSameFamily(dist.Categorical(mix_probs),\n",
    "                                          dist.MultivariateStudentT(df=torch.cat((beta_prior_df, torch.tensor([1000], dtype=float))), \n",
    "                                                                loc=torch.cat((beta_prior_mean, \n",
    "                                                                                   torch.tensor([0]*n_bins, dtype=float).expand((1, n_bins)))), \n",
    "                                                                scale_tril=torch.cat((beta_prior_L, \n",
    "                                                                            torch.linalg.cholesky(torch.diag(1e-8*torch.ones(n_bins, dtype=float))).expand(1, n_bins, n_bins))))\n",
    "                                                             )\n",
    "elif pdist==\"normal\":\n",
    "    prior_dist = dist.MixtureSameFamily(dist.Categorical(mix_probs),\n",
    "                                        dist.Normal(beta_prior_loc, beta_prior_scale).to_event(1))\n",
    "prior_samps = prior_dist.sample((post_samps,))\n",
    "\n",
    "if trans == \"abs\":\n",
    "    prior_trans = torch.cumsum(torch.abs(prior_samps), axis=-1)\n",
    "elif trans==\"logabs\":\n",
    "    prior_trans = torch.cumsum(torch.log(torch.abs(prior_samps)+1), axis=-1)\n",
    "elif trans==\"relu\":\n",
    "    prior_trans = torch.cumsum(relu(prior_samps), axis=-1)\n",
    "elif trans==\"logrelu\":\n",
    "    prior_trans = torch.cumsum(torch.log(relu(prior_samps)+1), axis=-1)\n",
    "\n",
    "## Prior SFS probabilities for gene effects in the absence of covariates\n",
    "prior_probs = softmax(pad(beta_neut - prior_trans -\n",
    "                          mu_ref[ref_mu_ii]*torch.cumsum(beta_prior_b, -1)*prior_trans\n",
    "                         )\n",
    "                     ).detach().numpy()\n",
    "\n",
    "# take samples from the posterior distribution on all betas\n",
    "with pyro.plate(\"samples\", post_samps, dim=-2):\n",
    "    post_samples = guide()\n",
    "\n",
    "if pdist==\"t\":\n",
    "    result = {\"neut_sfs_full\":neut_sfs_full, \"beta_neut_full\":beta_neut_full, \"ref_mu_ii\":ref_mu_ii,\n",
    "              \"beta_prior_df\":beta_prior_df, \"beta_prior_mean\":beta_prior_mean, \"beta_prior_L\":beta_prior_L,\n",
    "              \"mix_probs\":mix_probs, \n",
    "              \"beta_prior_b\":beta_prior_b, \"trans\":trans,\n",
    "              \"prior_probs\":prior_probs, \"post_samples\":post_samples, \"mu_ref\":mu_ref}\n",
    "elif pdist==\"normal\":\n",
    "    result = {\"neut_sfs_full\":neut_sfs_full, \"beta_neut_full\":beta_neut_full, \"ref_mu_ii\":ref_mu_ii,\n",
    "              \"beta_prior_scale\":beta_prior_scale, \"beta_prior_loc\":beta_prior_loc,\n",
    "              \"mix_probs\":mix_probs,\n",
    "              \"beta_prior_b\":beta_prior_b, \"trans\":trans,\n",
    "              \"prior_probs\":prior_probs, \"post_samples\":post_samples, \"mu_ref\":mu_ref}\n",
    "\n",
    "# calculate the posterior distribution on KL for each gene\n",
    "result = calc_KL_genewise(result)\n",
    "\n",
    "## Then calculate the posteriors for covariate betas\n",
    "result[\"post_beta_cov\"] = torch.cumsum(post_samples['beta_cov'], -1)\n",
    "result[\"losses\"] = losses\n",
    "result[\"fig\"] = (fig, ax)"
   ]
  },
  {
   "cell_type": "code",
   "execution_count": 114,
   "id": "d72145fc",
   "metadata": {},
   "outputs": [
    {
     "data": {
      "text/plain": [
       "array([0.02234882, 0.07125811, 0.03645716])"
      ]
     },
     "execution_count": 114,
     "metadata": {},
     "output_type": "execute_result"
    }
   ],
   "source": [
    "np.mean(result[\"KL_fw_post\"], axis = 0)"
   ]
  },
  {
   "cell_type": "code",
   "execution_count": 117,
   "id": "66d32339",
   "metadata": {},
   "outputs": [
    {
     "data": {
      "text/plain": [
       "array([0.02813324, 0.08264576, 0.04357375])"
      ]
     },
     "execution_count": 117,
     "metadata": {},
     "output_type": "execute_result"
    }
   ],
   "source": [
    "np.mean(result[\"KL_rv_post\"], axis = 0)"
   ]
  },
  {
   "cell_type": "code",
   "execution_count": 124,
   "id": "89e527ba",
   "metadata": {},
   "outputs": [
    {
     "data": {
      "text/plain": [
       "tensor([[4.7091, 6.5744, 7.0886, 7.1499]])"
      ]
     },
     "execution_count": 124,
     "metadata": {},
     "output_type": "execute_result"
    }
   ],
   "source": [
    "torch.mean(result[\"post_beta_cov\"], 0)"
   ]
  },
  {
   "cell_type": "code",
   "execution_count": null,
   "id": "17280f8d",
   "metadata": {},
   "outputs": [],
   "source": []
  }
 ],
 "metadata": {
  "kernelspec": {
   "display_name": "Python 3 (ipykernel)",
   "language": "python",
   "name": "python3"
  },
  "language_info": {
   "codemirror_mode": {
    "name": "ipython",
    "version": 3
   },
   "file_extension": ".py",
   "mimetype": "text/x-python",
   "name": "python",
   "nbconvert_exporter": "python",
   "pygments_lexer": "ipython3",
   "version": "3.10.6"
  }
 },
 "nbformat": 4,
 "nbformat_minor": 5
}
