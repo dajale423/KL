{
 "cells": [
  {
   "cell_type": "markdown",
   "id": "bad947aa",
   "metadata": {},
   "source": [
    "## Run KL analysis for intergenic region, footprinting region, and DHS sites"
   ]
  },
  {
   "cell_type": "code",
   "execution_count": 1,
   "id": "0907441e",
   "metadata": {},
   "outputs": [
    {
     "name": "stderr",
     "output_type": "stream",
     "text": [
      "/home/djl34/.conda/envs/kl/lib/python3.10/site-packages/tqdm/auto.py:22: TqdmWarning: IProgress not found. Please update jupyter and ipywidgets. See https://ipywidgets.readthedocs.io/en/stable/user_install.html\n",
      "  from .autonotebook import tqdm as notebook_tqdm\n"
     ]
    }
   ],
   "source": [
    "import sys\n",
    "import pandas as pd\n",
    "import torch\n",
    "import pyro\n",
    "from tqdm import tqdm\n",
    "\n",
    "\n",
    "sys.path.insert(0, '/home/djl34/lab_pd/kl/git/KL')\n",
    "\n",
    "import raklette_updated\n"
   ]
  },
  {
   "cell_type": "markdown",
   "id": "4f785611",
   "metadata": {},
   "source": [
    "## load file"
   ]
  },
  {
   "cell_type": "code",
   "execution_count": 2,
   "id": "253df319",
   "metadata": {},
   "outputs": [],
   "source": [
    "KL_data_dir = \"/home/djl34/lab_pd/kl/data/\"\n",
    "scratch_dir = \"/n/scratch3/users/d/djl34/\""
   ]
  },
  {
   "cell_type": "code",
   "execution_count": 3,
   "id": "5acd6104",
   "metadata": {},
   "outputs": [],
   "source": [
    "sfs = pd.read_csv(KL_data_dir + \"neutral_SFS_5bins.tsv\", sep = \"\\t\")\n",
    "\n",
    "bin_columns = []\n",
    "\n",
    "for i in range(5):\n",
    "    bin_columns.append(str(i) + \"_bin\")\n",
    "\n",
    "neutral_sfs = torch.tensor(sfs[bin_columns].values)\n",
    "\n",
    "mu_ref = torch.tensor(sfs[\"mu\"].values)"
   ]
  },
  {
   "cell_type": "code",
   "execution_count": 4,
   "id": "160a04af",
   "metadata": {},
   "outputs": [],
   "source": [
    "df = pd.read_csv(scratch_dir + \"kl_input/enhancer_module/22.tsv\", sep = \"\\t\")"
   ]
  },
  {
   "cell_type": "code",
   "execution_count": 5,
   "id": "d0384794",
   "metadata": {},
   "outputs": [],
   "source": [
    "df = df.sort_values(\"e_module\")"
   ]
  },
  {
   "cell_type": "code",
   "execution_count": 6,
   "id": "fb004f6a",
   "metadata": {},
   "outputs": [],
   "source": [
    "df[\"e_module\"] = df[\"e_module\"] + 1"
   ]
  },
  {
   "cell_type": "code",
   "execution_count": 7,
   "id": "8f7340e9",
   "metadata": {},
   "outputs": [],
   "source": [
    "mu_vals = torch.tensor(df[\"mu_index\"].values)\n",
    "gene_ids = torch.tensor(df[\"e_module\"].values)\n",
    "gene_ids = gene_ids.type(torch.LongTensor)\n",
    "sample_sfs = torch.tensor(df[\"Freq_bin\"].values)"
   ]
  },
  {
   "cell_type": "code",
   "execution_count": 8,
   "id": "8fcb05a1",
   "metadata": {},
   "outputs": [
    {
     "data": {
      "text/plain": [
       "torch.Size([77201997])"
      ]
     },
     "execution_count": 8,
     "metadata": {},
     "output_type": "execute_result"
    }
   ],
   "source": [
    "mu_vals.shape"
   ]
  },
  {
   "cell_type": "code",
   "execution_count": 8,
   "id": "d757a449",
   "metadata": {},
   "outputs": [],
   "source": [
    "covariates = torch.tensor([1]*len(mu_vals))\n",
    "covariates = covariates.unsqueeze(0).transpose(0,1).type(torch.FloatTensor)"
   ]
  },
  {
   "cell_type": "markdown",
   "id": "9392e618",
   "metadata": {},
   "source": [
    "## inference portion"
   ]
  },
  {
   "cell_type": "code",
   "execution_count": 9,
   "id": "12b56223",
   "metadata": {},
   "outputs": [],
   "source": [
    "#define variables\n",
    "#define neut_sfs_full, mu_vals, gene_ids, covariates\n",
    "# n_covs = covariates.shape[-1]          # number of covariates included\n",
    "n_genes = len(torch.unique(gene_ids)) + 1  # number of genes\n",
    "\n",
    "n_covs = 0\n",
    "\n",
    "# n_covs = 1\n",
    "# n_genes = 3\n",
    "n_bins = len(neutral_sfs[1]) - 1"
   ]
  },
  {
   "cell_type": "code",
   "execution_count": 10,
   "id": "aae204f1",
   "metadata": {},
   "outputs": [],
   "source": [
    "#define model and guide\n",
    "KL = raklette_updated.raklette(neutral_sfs, n_bins, mu_ref, n_covs, n_genes)\n",
    "model = KL.model\n",
    "guide = pyro.infer.autoguide.AutoNormal(model)"
   ]
  },
  {
   "cell_type": "code",
   "execution_count": 11,
   "id": "f32ced73",
   "metadata": {},
   "outputs": [],
   "source": [
    "#run inference\n",
    "pyro.clear_param_store()\n",
    "# run SVI\n",
    "adam = pyro.optim.Adam({\"lr\":0.005})\n",
    "elbo = pyro.infer.Trace_ELBO(num_particles=1, vectorize_particles=True)\n",
    "svi = pyro.infer.SVI(model, guide, adam, elbo)\n",
    "losses = []"
   ]
  },
  {
   "cell_type": "code",
   "execution_count": null,
   "id": "26964c9a",
   "metadata": {
    "scrolled": true
   },
   "outputs": [
    {
     "name": "stderr",
     "output_type": "stream",
     "text": [
      "\r",
      "  0%|                                                                                                                                                             | 0/1000 [00:00<?, ?it/s]"
     ]
    }
   ],
   "source": [
    "n_steps = 1000\n",
    "\n",
    "for step in tqdm(range(n_steps)): # tqdm is just a progress bar thing \n",
    "    loss = svi.step(mu_vals, gene_ids, None, sample_sfs)\n",
    "    print(loss)\n",
    "    losses.append(loss)"
   ]
  },
  {
   "cell_type": "code",
   "execution_count": 49,
   "id": "3acfba78",
   "metadata": {},
   "outputs": [
    {
     "data": {
      "text/plain": [
       "3647420"
      ]
     },
     "execution_count": 49,
     "metadata": {},
     "output_type": "execute_result"
    }
   ],
   "source": [
    "# for epoch in range(num_epochs):\n",
    "#     losses = []\n",
    "\n",
    "#     # Take a gradient step for each mini-batch in the dataset\n",
    "#     for x, y in dataloader:\n",
    "#         if y is not None:\n",
    "#             y = y.type_as(x)\n",
    "#         loss = svi.step(x, y)\n",
    "#         losses.append(loss)\n",
    "\n",
    "#     # Tell the scheduler we've done one epoch.\n",
    "#     scheduler.step()\n",
    "\n",
    "#     print(\"[Epoch %02d]  Loss: %.5f\" % (epoch, np.mean(losses)))\n",
    "\n",
    "# print(\"Finished training!\")"
   ]
  },
  {
   "cell_type": "code",
   "execution_count": null,
   "id": "62880bc8",
   "metadata": {},
   "outputs": [],
   "source": [
    "fig, ax = raklette_updated.plot_losses(losses)"
   ]
  },
  {
   "cell_type": "markdown",
   "id": "216ab94e",
   "metadata": {},
   "source": [
    "## post inference portion (same as raklette_daniel.py)"
   ]
  },
  {
   "cell_type": "code",
   "execution_count": 29,
   "id": "d72145fc",
   "metadata": {},
   "outputs": [
    {
     "data": {
      "text/plain": [
       "array([7.76460804, 0.37161576, 7.52047177])"
      ]
     },
     "execution_count": 29,
     "metadata": {},
     "output_type": "execute_result"
    }
   ],
   "source": [
    "np.mean(result[\"KL_fw_post\"], axis = 0)"
   ]
  },
  {
   "cell_type": "code",
   "execution_count": 30,
   "id": "66d32339",
   "metadata": {},
   "outputs": [
    {
     "data": {
      "text/plain": [
       "array([3.98525769, 0.52109279, 3.9743914 ])"
      ]
     },
     "execution_count": 30,
     "metadata": {},
     "output_type": "execute_result"
    }
   ],
   "source": [
    "np.mean(result[\"KL_rv_post\"], axis = 0)"
   ]
  },
  {
   "cell_type": "code",
   "execution_count": null,
   "id": "17280f8d",
   "metadata": {},
   "outputs": [],
   "source": []
  }
 ],
 "metadata": {
  "kernelspec": {
   "display_name": "Python 3 (ipykernel)",
   "language": "python",
   "name": "python3"
  },
  "language_info": {
   "codemirror_mode": {
    "name": "ipython",
    "version": 3
   },
   "file_extension": ".py",
   "mimetype": "text/x-python",
   "name": "python",
   "nbconvert_exporter": "python",
   "pygments_lexer": "ipython3",
   "version": "3.10.6"
  }
 },
 "nbformat": 4,
 "nbformat_minor": 5
}
