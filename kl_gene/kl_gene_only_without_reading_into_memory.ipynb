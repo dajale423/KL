{
 "cells": [
  {
   "cell_type": "markdown",
   "id": "bad947aa",
   "metadata": {},
   "source": [
    "## Run KL analysis for intergenic region, footprinting region, and DHS sites"
   ]
  },
  {
   "cell_type": "code",
   "execution_count": 1,
   "id": "0907441e",
   "metadata": {},
   "outputs": [
    {
     "name": "stderr",
     "output_type": "stream",
     "text": [
      "/home/djl34/.conda/envs/kl/lib/python3.10/site-packages/tqdm/auto.py:22: TqdmWarning: IProgress not found. Please update jupyter and ipywidgets. See https://ipywidgets.readthedocs.io/en/stable/user_install.html\n",
      "  from .autonotebook import tqdm as notebook_tqdm\n"
     ]
    }
   ],
   "source": [
    "import sys\n",
    "import pandas as pd\n",
    "import torch\n",
    "import pyro\n",
    "from tqdm import tqdm\n",
    "from torch.utils.data import Dataset, DataLoader\n",
    "\n",
    "sys.path.insert(0, '/home/djl34/lab_pd/kl/git/KL')\n",
    "\n",
    "import raklette_updated"
   ]
  },
  {
   "cell_type": "code",
   "execution_count": 2,
   "id": "5826bf2e",
   "metadata": {},
   "outputs": [],
   "source": [
    "####################################################\n",
    "# Create Dataset\n",
    "####################################################\n",
    "class TSVDataset(Dataset):\n",
    "    def __init__(self, path, chunksize, nb_samples, header_all, features):\n",
    "        self.path = path\n",
    "        self.chunksize = chunksize\n",
    "        self.len = nb_samples // self.chunksize\n",
    "        self.header = header_all\n",
    "        self.features = features\n",
    "        \n",
    "    def __getitem__(self, index):\n",
    "        x = next(\n",
    "            pd.read_csv(\n",
    "                self.path,\n",
    "                sep = \"\\t\",\n",
    "                skiprows=index * self.chunksize + 1,  #+1, since we skip the header\n",
    "                chunksize=self.chunksize,\n",
    "                names=self.header))\n",
    "        \n",
    "        x = x[self.features]\n",
    "        x[\"e_module\"] = x[\"e_module\"] + 1\n",
    "        x = torch.from_numpy(x.values)\n",
    "        return x\n",
    "\n",
    "    def __len__(self):\n",
    "        return self.len"
   ]
  },
  {
   "cell_type": "markdown",
   "id": "4f785611",
   "metadata": {},
   "source": [
    "## load file"
   ]
  },
  {
   "cell_type": "code",
   "execution_count": 5,
   "id": "253df319",
   "metadata": {},
   "outputs": [],
   "source": [
    "KL_data_dir = \"/home/djl34/lab_pd/kl/data/\"\n",
    "scratch_dir = \"/n/scratch3/users/d/djl34/\"\n",
    "\n",
    "sfs = pd.read_csv(KL_data_dir + \"neutral_SFS_5bins.tsv\", sep = \"\\t\")\n",
    "\n",
    "bin_columns = []\n",
    "\n",
    "for i in range(5):\n",
    "    bin_columns.append(str(i) + \"_bin\")\n",
    "\n",
    "neutral_sfs = torch.tensor(sfs[bin_columns].values)\n",
    "\n",
    "mu_ref = torch.tensor(sfs[\"mu\"].values)\n",
    "\n",
    "df = pd.read_csv(scratch_dir + \"kl_input/enhancer_module/22.tsv\", sep = \"\\t\")\n",
    "\n",
    "nb_samples = len(df)\n",
    "header = df.columns\n",
    "\n",
    "dataset = TSVDataset(scratch_dir + \"kl_input/enhancer_module/22.tsv\", chunksize=100000, nb_samples = nb_samples, header_all = header, features = header)\n",
    "\n",
    "loader = DataLoader(dataset, batch_size=10, num_workers=1, shuffle=False)\n"
   ]
  },
  {
   "cell_type": "markdown",
   "id": "7ba2b35e",
   "metadata": {},
   "source": [
    "## run raklette"
   ]
  },
  {
   "cell_type": "code",
   "execution_count": null,
   "id": "17280f8d",
   "metadata": {},
   "outputs": [
    {
     "name": "stdout",
     "output_type": "stream",
     "text": [
      "lets start running\n",
      "0\n",
      "3774122.0995813925\n",
      "1\n",
      "3688026.0496023977\n",
      "2\n",
      "3795006.187812071\n",
      "3\n",
      "3774722.4471480334\n",
      "4\n",
      "3721177.7994393357\n",
      "5\n",
      "3653188.4336485583\n",
      "6\n",
      "3717426.325801814\n"
     ]
    }
   ],
   "source": [
    "n_genes = len(df[\"e_module\"].unique()) + 1\n",
    "n_covs = 0\n",
    "\n",
    "# n_covs = 1\n",
    "# n_genes = 3\n",
    "n_bins = len(neutral_sfs[1]) - 1\n",
    "\n",
    "del df\n",
    "\n",
    "#define model and guide\n",
    "KL = raklette_updated.raklette(neutral_sfs, n_bins, mu_ref, n_covs, n_genes)\n",
    "model = KL.model\n",
    "guide = pyro.infer.autoguide.AutoNormal(model)\n",
    "\n",
    "#run inference\n",
    "pyro.clear_param_store()\n",
    "# run SVI\n",
    "adam = pyro.optim.Adam({\"lr\":0.005})\n",
    "elbo = pyro.infer.Trace_ELBO(num_particles=1, vectorize_particles=True)\n",
    "svi = pyro.infer.SVI(model, guide, adam, elbo)\n",
    "losses = []\n",
    "\n",
    "num_epochs = 1\n",
    "\n",
    "print(\"lets start running\")\n",
    "\n",
    "for epoch in range(num_epochs):\n",
    "    # Take a gradient step for each mini-batch in the dataset\n",
    "    for batch_idx, data in enumerate(loader):\n",
    "        print(batch_idx)\n",
    "        \n",
    "        gene_ids = data[:,:,2].reshape(-1)\n",
    "        gene_ids = gene_ids.type(torch.LongTensor)\n",
    "        \n",
    "        mu_vals = data[:,:,0].reshape(-1)\n",
    "        mu_vals = mu_vals.type(torch.LongTensor)\n",
    "        \n",
    "        loss = svi.step(mu_vals, gene_ids, None, data[:,:,1].reshape(-1))\n",
    "#         if y is not None:\n",
    "#             y = y.type_as(x)\n",
    "#         loss = svi.step(x, y)\n",
    "        losses.append(loss)\n",
    "        print(loss)\n",
    "\n",
    "    # Tell the scheduler we've done one epoch.\n",
    "    scheduler.step()\n",
    "\n",
    "    print(\"[Epoch %02d]  Loss: %.5f\" % (epoch, np.mean(losses)))\n",
    "\n",
    "print(\"Finished training!\")"
   ]
  },
  {
   "cell_type": "code",
   "execution_count": 7,
   "id": "506ea7ad",
   "metadata": {},
   "outputs": [
    {
     "data": {
      "text/plain": [
       "[3774122.0995813925,\n",
       " 3688026.0496023977,\n",
       " 3795006.187812071,\n",
       " 3774722.4471480334,\n",
       " 3721177.7994393357,\n",
       " 3653188.4336485583,\n",
       " 3717426.325801814,\n",
       " 3627309.021757453,\n",
       " 3723481.503836682,\n",
       " 3643854.6385830026,\n",
       " 3720541.5758641926,\n",
       " 3783693.8939951444,\n",
       " 3772715.5778691536,\n",
       " 3734375.7529152613,\n",
       " 3615489.5409375024,\n",
       " 3740072.3755401047,\n",
       " 3728837.6883581844,\n",
       " 3757568.5838964074,\n",
       " 3677971.3174640844,\n",
       " 3649052.3038019505,\n",
       " 3748807.7162428307,\n",
       " 3780207.8677345477,\n",
       " 3768676.1648491253,\n",
       " 3769426.6493610013,\n",
       " 3780196.3918031743,\n",
       " 3639361.445603936,\n",
       " 3695648.295733693,\n",
       " 3749811.3858994436,\n",
       " 3809752.218985416,\n",
       " 3698004.475128364,\n",
       " 3762648.734965913,\n",
       " 3774777.41416014,\n",
       " 3754826.0175651945,\n",
       " 3608521.195523982,\n",
       " 3728258.7287544124,\n",
       " 3700756.6786036496,\n",
       " 3583568.810217082,\n",
       " 3654187.4872947107,\n",
       " 3728170.5515762344,\n",
       " 3681315.8185349638,\n",
       " 3670170.1582644708,\n",
       " 3645550.3723968444,\n",
       " 3586410.191857693,\n",
       " 3526315.8630386377,\n",
       " 3703319.347211928,\n",
       " 3732739.8720382797,\n",
       " 3732698.751738348,\n",
       " 3655957.0159287658,\n",
       " 3637585.7660499862,\n",
       " 3747761.187367535,\n",
       " 3647016.8345486764,\n",
       " 3614705.449324675,\n",
       " 3710045.921100175,\n",
       " 3723006.7865418624,\n",
       " 3707740.350325685,\n",
       " 3676277.6095591774,\n",
       " 3689458.785036506,\n",
       " 3573822.7743336875,\n",
       " 3653398.0771815544,\n",
       " 3729017.269169842,\n",
       " 3753303.6502037477,\n",
       " 3619680.626593084,\n",
       " 3677345.84485751,\n",
       " 3549985.0275880313,\n",
       " 3732565.1618045247,\n",
       " 3670700.3228876563,\n",
       " 3497374.514505738,\n",
       " 3682397.2981305756,\n",
       " 3732156.6280369097,\n",
       " 3741568.752382527,\n",
       " 3684816.9388025096,\n",
       " 3571343.8785638027,\n",
       " 3614719.984411418,\n",
       " 3627524.863796863,\n",
       " 3627513.4833220886,\n",
       " 3599560.597624003,\n",
       " 3711638.364647769,\n",
       " 740979.1781943297]"
      ]
     },
     "execution_count": 7,
     "metadata": {},
     "output_type": "execute_result"
    }
   ],
   "source": [
    "losses"
   ]
  },
  {
   "cell_type": "code",
   "execution_count": null,
   "id": "f5375408",
   "metadata": {},
   "outputs": [],
   "source": []
  }
 ],
 "metadata": {
  "kernelspec": {
   "display_name": "Python 3 (ipykernel)",
   "language": "python",
   "name": "python3"
  },
  "language_info": {
   "codemirror_mode": {
    "name": "ipython",
    "version": 3
   },
   "file_extension": ".py",
   "mimetype": "text/x-python",
   "name": "python",
   "nbconvert_exporter": "python",
   "pygments_lexer": "ipython3",
   "version": "3.10.6"
  }
 },
 "nbformat": 4,
 "nbformat_minor": 5
}
