{
 "cells": [
  {
   "cell_type": "markdown",
   "id": "bad947aa",
   "metadata": {},
   "source": [
    "### Here, I will try to apply bayesian linear regression (http://pyro.ai/examples/bayesian_regression.html) to logistic regression"
   ]
  },
  {
   "cell_type": "code",
   "execution_count": 1,
   "id": "a2c97ef6",
   "metadata": {},
   "outputs": [],
   "source": [
    "import numpy as np\n",
    "import scipy.special as ssp\n",
    "import matplotlib.pyplot as plt\n",
    "\n",
    "import torch\n",
    "import torch.nn as nn\n",
    "import torch.distributions.constraints as constraints\n",
    "\n",
    "from torch.utils.data import DataLoader\n",
    "from torch.utils.data.sampler import SubsetRandomSampler\n",
    "\n",
    "import pyro\n",
    "import pyro.distributions as dist\n",
    "\n",
    "from pyro.nn import PyroModule\n",
    "from pyro.infer import SVI, Trace_ELBO\n",
    "from pyro.optim import Adam, SGD\n",
    "\n",
    "pyro.enable_validation(True)\n",
    "torch.set_default_dtype(torch.double) # this was necessary on the CPU"
   ]
  },
  {
   "cell_type": "code",
   "execution_count": 2,
   "id": "10d6bbfc",
   "metadata": {},
   "outputs": [],
   "source": [
    "def build_logistic_dataset(N, p=1, noise_std=0.01):\n",
    "    X = np.random.randn(N, p)\n",
    "    \n",
    "    w = np.random.randn(p)\n",
    "    w += 2 * np.sign(w)\n",
    "\n",
    "    y = np.round(ssp.expit(np.matmul(X, w) \n",
    "                           + np.repeat(1, N) \n",
    "                           + np.random.normal(0, noise_std, size=N)))\n",
    "    y = y.reshape(N, 1)\n",
    "    X, y = torch.tensor(X).type(torch.Tensor), torch.tensor(y).type(torch.Tensor)\n",
    "    data = torch.cat((X, y), 1)\n",
    "    assert data.shape == (N, p + 1)\n",
    "    return X, y, w"
   ]
  },
  {
   "cell_type": "code",
   "execution_count": 3,
   "id": "5e91fb21",
   "metadata": {},
   "outputs": [],
   "source": [
    "from pyro.nn import PyroSample\n",
    "\n",
    "class BayesianLogisticRegression(PyroModule):\n",
    "    def __init__(self, in_features):\n",
    "        super().__init__()\n",
    "        self.linear = PyroModule[nn.Linear](in_features, 1)\n",
    "        \n",
    "        #set prior\n",
    "        self.linear.weight = PyroSample(dist.Normal(0., 1.).expand([1, in_features]).to_event(2))\n",
    "        self.linear.bias = PyroSample(dist.Normal(0, 10.).expand([1]).to_event(1))\n",
    "        \n",
    "        self.sigmoid = PyroModule[nn.Sigmoid]()\n",
    "\n",
    "    def forward(self, x, y=None):\n",
    "        \n",
    "        model_output = self.sigmoid(self.linear(x)).squeeze(-1)\n",
    "        \n",
    "        with pyro.plate(\"data\", x.shape[0]):\n",
    "                        \n",
    "            obs = pyro.sample(\"obs\", \n",
    "                              dist.Bernoulli(probs=model_output),\n",
    "                              obs=y.squeeze())\n",
    "        return model_output\n",
    "    \n",
    "class BayesianMultiLogisticRegression(PyroModule):\n",
    "    def __init__(self, in_features, out_features):\n",
    "        super().__init__()\n",
    "        self.linear = PyroModule[nn.Linear](in_features, out_features)\n",
    "        \n",
    "        #set prior\n",
    "        self.linear.weight = PyroSample(dist.Normal(0., 1.).expand([out_features, in_features]).to_event(2))\n",
    "        self.linear.bias = PyroSample(dist.Normal(0, 10.).expand([out_features]).to_event(1))\n",
    "        \n",
    "        self.softmax = PyroModule[nn.Softmax]()\n",
    "\n",
    "    def forward(self, x, y=None):\n",
    "        \n",
    "        model_output = self.softmax(self.linear(x)).squeeze(-1)\n",
    "        \n",
    "        with pyro.plate(\"data\", x.shape[0]):\n",
    "                        \n",
    "            obs = pyro.sample(\"obs\", \n",
    "                              dist.Categorical(probs=model_output),\n",
    "                              obs=y.squeeze())\n",
    "        return model_output"
   ]
  },
  {
   "cell_type": "code",
   "execution_count": 4,
   "id": "69b4283e",
   "metadata": {},
   "outputs": [],
   "source": [
    "N, p = 5000, 3\n",
    "num_iterations = 1500\n",
    "\n",
    "X_data, y_data, w = build_logistic_dataset(N, p)"
   ]
  },
  {
   "cell_type": "code",
   "execution_count": 15,
   "id": "4ffd7aad",
   "metadata": {},
   "outputs": [],
   "source": [
    "from pyro.infer.autoguide import AutoDiagonalNormal\n",
    "\n",
    "model = BayesianMultiLogisticRegression(p, 2)\n",
    "# model = BayesianLogisticRegression(p)\n",
    "guide = AutoDiagonalNormal(model)"
   ]
  },
  {
   "cell_type": "code",
   "execution_count": 16,
   "id": "a7362fad",
   "metadata": {},
   "outputs": [],
   "source": [
    "from pyro.infer import SVI, Trace_ELBO\n",
    "\n",
    "adam = pyro.optim.Adam({\"lr\": 0.03})\n",
    "svi = SVI(model, guide, adam, loss=Trace_ELBO())"
   ]
  },
  {
   "cell_type": "code",
   "execution_count": 17,
   "id": "e9942967",
   "metadata": {
    "scrolled": false
   },
   "outputs": [
    {
     "name": "stdout",
     "output_type": "stream",
     "text": [
      "[iteration 0001] loss: 1.7682\n",
      "[iteration 0101] loss: 0.1524\n",
      "[iteration 0201] loss: 0.1130\n",
      "[iteration 0301] loss: 0.0961\n",
      "[iteration 0401] loss: 0.0867\n",
      "[iteration 0501] loss: 0.0781\n",
      "[iteration 0601] loss: 0.0720\n",
      "[iteration 0701] loss: 0.0701\n",
      "[iteration 0801] loss: 0.0665\n",
      "[iteration 0901] loss: 0.0647\n",
      "[iteration 1001] loss: 0.0637\n",
      "[iteration 1101] loss: 0.0624\n",
      "[iteration 1201] loss: 0.0617\n",
      "[iteration 1301] loss: 0.0614\n",
      "[iteration 1401] loss: 0.0601\n"
     ]
    }
   ],
   "source": [
    "pyro.clear_param_store()\n",
    "for j in range(num_iterations):\n",
    "    # calculate the loss and take a gradient step\n",
    "    loss = svi.step(X_data, y_data)\n",
    "    if j % 100 == 0:\n",
    "        print(\"[iteration %04d] loss: %.4f\" % (j + 1, loss / len(X_data)))"
   ]
  },
  {
   "cell_type": "code",
   "execution_count": 8,
   "id": "120acfc4",
   "metadata": {},
   "outputs": [
    {
     "name": "stdout",
     "output_type": "stream",
     "text": [
      "[-2.43097623  2.88986634 -2.95624688]\n"
     ]
    }
   ],
   "source": [
    "print(w)"
   ]
  },
  {
   "cell_type": "code",
   "execution_count": 9,
   "id": "b7a478d4",
   "metadata": {},
   "outputs": [
    {
     "name": "stdout",
     "output_type": "stream",
     "text": [
      "AutoDiagonalNormal.loc Parameter containing:\n",
      "tensor([ 4.4457, -5.1098,  5.1007, -4.0689,  4.9862, -5.2390, -0.9785,  2.3734])\n",
      "AutoDiagonalNormal.scale tensor([0.1014, 0.1020, 0.1127, 0.0987, 0.1096, 0.1087, 0.0872, 0.0903])\n"
     ]
    }
   ],
   "source": [
    "guide.requires_grad_(False)\n",
    "\n",
    "for name, value in pyro.get_param_store().items():\n",
    "    print(name, pyro.param(name))"
   ]
  },
  {
   "cell_type": "code",
   "execution_count": 10,
   "id": "d37d6492",
   "metadata": {},
   "outputs": [
    {
     "data": {
      "text/plain": [
       "{'linear.weight': tensor([[[ 4.4457, -5.1098,  5.1007],\n",
       "          [-4.0689,  4.9862, -5.2390]]]),\n",
       " 'linear.bias': tensor([[-0.9785,  2.3734]])}"
      ]
     },
     "execution_count": 10,
     "metadata": {},
     "output_type": "execute_result"
    }
   ],
   "source": [
    "guide.quantiles([0.5])"
   ]
  },
  {
   "cell_type": "code",
   "execution_count": 11,
   "id": "53b52ff9",
   "metadata": {},
   "outputs": [
    {
     "data": {
      "text/plain": [
       "array([ 2.37880362, -2.82784521,  2.89280111])"
      ]
     },
     "execution_count": 11,
     "metadata": {},
     "output_type": "execute_result"
    }
   ],
   "source": [
    "w * float(guide.quantiles([0.5])['linear.bias'][0][0])"
   ]
  },
  {
   "cell_type": "code",
   "execution_count": 51,
   "id": "70f3438f",
   "metadata": {},
   "outputs": [
    {
     "data": {
      "text/plain": [
       "tensor([[1.],\n",
       "        [0.],\n",
       "        [1.],\n",
       "        ...,\n",
       "        [0.],\n",
       "        [1.],\n",
       "        [1.]])"
      ]
     },
     "execution_count": 51,
     "metadata": {},
     "output_type": "execute_result"
    }
   ],
   "source": [
    "y_data"
   ]
  },
  {
   "cell_type": "code",
   "execution_count": null,
   "id": "fad89adf",
   "metadata": {},
   "outputs": [],
   "source": []
  }
 ],
 "metadata": {
  "kernelspec": {
   "display_name": "Python 3 (ipykernel)",
   "language": "python",
   "name": "python3"
  },
  "language_info": {
   "codemirror_mode": {
    "name": "ipython",
    "version": 3
   },
   "file_extension": ".py",
   "mimetype": "text/x-python",
   "name": "python",
   "nbconvert_exporter": "python",
   "pygments_lexer": "ipython3",
   "version": "3.9.12"
  }
 },
 "nbformat": 4,
 "nbformat_minor": 5
}
