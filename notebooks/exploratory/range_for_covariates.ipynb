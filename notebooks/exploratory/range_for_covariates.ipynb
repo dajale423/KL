{
 "cells": [
  {
   "cell_type": "code",
   "execution_count": null,
   "id": "a7523031",
   "metadata": {},
   "outputs": [],
   "source": [
    "import os\n",
    "import dask.dataframe as dd\n",
    "from dask.distributed import Client\n",
    "import pandas as pd\n",
    "\n",
    "import seaborn as sns\n",
    "import matplotlib.pyplot as plt\n",
    "\n",
    "pd_data_dir = \"/home/djl34/lab_pd/data\"\n",
    "KL_data_dir = \"/home/djl34/lab_pd/kl/data\"\n",
    "scratch_dir = \"/n/scratch3/users/d/djl34\""
   ]
  },
  {
   "cell_type": "code",
   "execution_count": 2,
   "id": "ab06e03d",
   "metadata": {},
   "outputs": [],
   "source": [
    "client = Client()"
   ]
  },
  {
   "cell_type": "markdown",
   "id": "c5e674da",
   "metadata": {},
   "source": [
    "## for DHS"
   ]
  },
  {
   "cell_type": "code",
   "execution_count": 10,
   "id": "f5355579",
   "metadata": {
    "collapsed": true
   },
   "outputs": [
    {
     "name": "stdout",
     "output_type": "stream",
     "text": [
      "1\n",
      "0.0197483\n",
      "34.8427\n",
      "2\n",
      "0.0156797\n",
      "401.418569434783\n",
      "3\n",
      "0.0179196\n",
      "50.9197\n",
      "4\n",
      "0.0201596\n",
      "99.752\n",
      "5\n",
      "0.0179196\n",
      "92.0743769166667\n",
      "6\n",
      "0.0156797\n",
      "102.957\n",
      "7\n",
      "0.0201596\n",
      "99.7226\n",
      "8\n",
      "0.0134397\n",
      "67.8831\n",
      "9\n",
      "0.0223804\n",
      "62.65\n",
      "10\n",
      "0.0223995\n",
      "93.5782\n",
      "11\n",
      "0.0179196\n",
      "105.00615\n",
      "12\n",
      "0.0201596\n",
      "122.274\n",
      "13\n",
      "0.0179196\n",
      "84.8465\n",
      "14\n",
      "0.0223995\n",
      "19.79105\n",
      "15\n",
      "0.0201424\n",
      "72.7634\n",
      "16\n",
      "0.023339\n",
      "61.915\n",
      "17\n",
      "0.0179196\n",
      "73.4691937257669\n",
      "18\n",
      "0.0223995\n",
      "28.662231\n",
      "19\n",
      "0.0211271\n",
      "61.6799\n",
      "20\n",
      "0.0156797\n",
      "65.6194\n",
      "21\n",
      "0.0246185\n",
      "72.5576\n",
      "22\n",
      "0.0201424\n",
      "21.3512\n"
     ]
    }
   ],
   "source": [
    "chrom = 22\n",
    "\n",
    "first = True\n",
    "\n",
    "minimum_list = []\n",
    "maximum_list = []\n",
    "\n",
    "for chrom in range(1, 23):\n",
    "    print(chrom)\n",
    "\n",
    "    df = dd.read_parquet(os.path.join(scratch_dir, \"whole_genome/dhs_core/\" + str(chrom) + \"/\"))\n",
    "    \n",
    "    chr_min = df[\"DHS_mean_signal\"].min().compute()\n",
    "    print(chr_min)\n",
    "    chr_max = df[\"DHS_mean_signal\"].max().compute()\n",
    "    print(chr_max)\n",
    "    \n",
    "    minimum_list.append(chr_min)\n",
    "    maximum_list.append(chr_max)"
   ]
  },
  {
   "cell_type": "code",
   "execution_count": 14,
   "id": "d7411485",
   "metadata": {},
   "outputs": [
    {
     "data": {
      "text/plain": [
       "0.0134397"
      ]
     },
     "execution_count": 14,
     "metadata": {},
     "output_type": "execute_result"
    }
   ],
   "source": [
    "min(minimum_list)"
   ]
  },
  {
   "cell_type": "code",
   "execution_count": 15,
   "id": "429daadc",
   "metadata": {},
   "outputs": [
    {
     "data": {
      "text/plain": [
       "401.418569434783"
      ]
     },
     "execution_count": 15,
     "metadata": {},
     "output_type": "execute_result"
    }
   ],
   "source": [
    "max(maximum_list)"
   ]
  },
  {
   "cell_type": "markdown",
   "id": "f2688c90",
   "metadata": {},
   "source": [
    "## for footprints"
   ]
  },
  {
   "cell_type": "code",
   "execution_count": 4,
   "id": "5f124b9c",
   "metadata": {},
   "outputs": [],
   "source": [
    "chrom = \"22\"\n",
    "df = dd.read_parquet(os.path.join(scratch_dir, \"whole_genome/footprints/\" + str(chrom) + \"/\"))"
   ]
  },
  {
   "cell_type": "code",
   "execution_count": 9,
   "id": "11e49a7b",
   "metadata": {},
   "outputs": [
    {
     "name": "stdout",
     "output_type": "stream",
     "text": [
      "1\n",
      "4.6\n",
      "13704.9\n",
      "2\n",
      "4.6\n",
      "14536.2\n",
      "3\n",
      "4.6\n",
      "14044.3\n",
      "4\n",
      "4.6\n",
      "12947.5\n",
      "5\n",
      "4.6\n",
      "27475.9\n",
      "6\n",
      "4.6\n",
      "13635.6\n",
      "7\n",
      "4.6\n",
      "13243.6\n",
      "8\n",
      "4.6\n",
      "11756.9\n",
      "9\n",
      "4.6\n",
      "13167.3\n",
      "10\n",
      "4.6\n",
      "12324.6\n",
      "11\n",
      "4.6\n",
      "13855.7\n",
      "12\n",
      "4.6\n",
      "16555.9\n",
      "13\n",
      "4.6\n",
      "12840.7\n",
      "14\n",
      "4.6\n",
      "15993.6\n",
      "15\n",
      "4.6\n",
      "14533.2\n",
      "16\n",
      "4.6\n",
      "12739.0\n",
      "17\n",
      "4.6\n",
      "18461.8\n",
      "18\n",
      "4.6\n",
      "12191.9\n",
      "19\n",
      "4.6\n",
      "15494.9\n",
      "20\n",
      "4.6\n",
      "16011.2\n",
      "21\n",
      "4.6\n",
      "11616.2\n",
      "22\n",
      "4.6\n",
      "14271.0\n"
     ]
    }
   ],
   "source": [
    "minimum_list = []\n",
    "maximum_list = []\n",
    "\n",
    "for chrom in range(1, 23):\n",
    "    print(chrom)\n",
    "\n",
    "    df = dd.read_parquet(os.path.join(scratch_dir, \"whole_genome/footprints/\" + str(chrom) + \"/\"))\n",
    "    \n",
    "    chr_min = df[\"footprint_intensity\"].min().compute()\n",
    "    print(chr_min)\n",
    "    chr_max = df[\"footprint_intensity\"].max().compute()\n",
    "    print(chr_max)\n",
    "    \n",
    "    minimum_list.append(chr_min)\n",
    "    maximum_list.append(chr_max)"
   ]
  },
  {
   "cell_type": "code",
   "execution_count": 10,
   "id": "d64b7695",
   "metadata": {},
   "outputs": [
    {
     "data": {
      "text/plain": [
       "4.6"
      ]
     },
     "execution_count": 10,
     "metadata": {},
     "output_type": "execute_result"
    }
   ],
   "source": [
    "min(minimum_list)"
   ]
  },
  {
   "cell_type": "code",
   "execution_count": 11,
   "id": "b575a069",
   "metadata": {},
   "outputs": [
    {
     "data": {
      "text/plain": [
       "27475.9"
      ]
     },
     "execution_count": 11,
     "metadata": {},
     "output_type": "execute_result"
    }
   ],
   "source": [
    "max(maximum_list)"
   ]
  },
  {
   "cell_type": "code",
   "execution_count": null,
   "id": "9acc8898",
   "metadata": {},
   "outputs": [],
   "source": []
  }
 ],
 "metadata": {
  "kernelspec": {
   "display_name": "Python 3 (ipykernel)",
   "language": "python",
   "name": "python3"
  },
  "language_info": {
   "codemirror_mode": {
    "name": "ipython",
    "version": 3
   },
   "file_extension": ".py",
   "mimetype": "text/x-python",
   "name": "python",
   "nbconvert_exporter": "python",
   "pygments_lexer": "ipython3",
   "version": "3.9.17"
  }
 },
 "nbformat": 4,
 "nbformat_minor": 5
}
