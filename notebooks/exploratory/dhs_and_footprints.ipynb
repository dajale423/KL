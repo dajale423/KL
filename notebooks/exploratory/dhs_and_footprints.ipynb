{
 "cells": [
  {
   "cell_type": "code",
   "execution_count": 1,
   "id": "5bbf36bb",
   "metadata": {},
   "outputs": [],
   "source": [
    "import os\n",
    "import dask.dataframe as dd\n",
    "from dask.distributed import Client\n",
    "import pandas as pd\n",
    "\n",
    "import seaborn as sns\n",
    "import matplotlib.pyplot as plt\n",
    "\n",
    "pd.set_option('display.max_columns', None)\n",
    "\n",
    "\n",
    "pd_data_dir = \"/home/djl34/lab_pd/data\"\n",
    "KL_data_dir = \"/home/djl34/lab_pd/kl/data\"\n",
    "scratch_dir = \"/n/scratch3/users/d/djl34\""
   ]
  },
  {
   "cell_type": "code",
   "execution_count": 2,
   "id": "7658af45",
   "metadata": {},
   "outputs": [],
   "source": [
    "client = Client()"
   ]
  },
  {
   "cell_type": "code",
   "execution_count": 3,
   "id": "861fb417",
   "metadata": {},
   "outputs": [],
   "source": [
    "chrom = \"22\"\n",
    "ddf = dd.read_parquet(os.path.join(scratch_dir, \"whole_genome/footprints/\" + str(chrom) + \"/\"))"
   ]
  },
  {
   "cell_type": "code",
   "execution_count": 4,
   "id": "9d7d7b33",
   "metadata": {},
   "outputs": [],
   "source": [
    "ddf[\"footprint_mean_signal\"] = ddf[\"footprint_mean_signal\"].fillna(0)\n",
    "ddf[\"DHS_mean_signal\"] = ddf[\"DHS_mean_signal\"].fillna(0)"
   ]
  },
  {
   "cell_type": "code",
   "execution_count": 5,
   "id": "af9afa15",
   "metadata": {},
   "outputs": [
    {
     "data": {
      "text/html": [
       "<div>\n",
       "<style scoped>\n",
       "    .dataframe tbody tr th:only-of-type {\n",
       "        vertical-align: middle;\n",
       "    }\n",
       "\n",
       "    .dataframe tbody tr th {\n",
       "        vertical-align: top;\n",
       "    }\n",
       "\n",
       "    .dataframe thead th {\n",
       "        text-align: right;\n",
       "    }\n",
       "</style>\n",
       "<table border=\"1\" class=\"dataframe\">\n",
       "  <thead>\n",
       "    <tr style=\"text-align: right;\">\n",
       "      <th></th>\n",
       "      <th>Pos</th>\n",
       "      <th>mu</th>\n",
       "      <th>Allele_ref</th>\n",
       "      <th>Allele</th>\n",
       "      <th>filter_gnomADv3</th>\n",
       "      <th>AC_gnomADv3</th>\n",
       "      <th>AN_gnomADv3</th>\n",
       "      <th>AF_gnomADv3</th>\n",
       "      <th>cov_median_gnomADv3</th>\n",
       "      <th>mu_newbin</th>\n",
       "      <th>Neutral</th>\n",
       "      <th>AF</th>\n",
       "      <th>MAF</th>\n",
       "      <th>Freq_bin_5</th>\n",
       "      <th>Freq_bin_adaptive</th>\n",
       "      <th>mu_index</th>\n",
       "      <th>window_1k</th>\n",
       "      <th>exon</th>\n",
       "      <th>phyloP</th>\n",
       "      <th>phyloP_pos</th>\n",
       "      <th>DHS_mean_signal</th>\n",
       "      <th>DHS_sample</th>\n",
       "      <th>DHS_identifier</th>\n",
       "      <th>DHS_tissue</th>\n",
       "      <th>DHS_core_mean_signal</th>\n",
       "      <th>footprint_mean_signal</th>\n",
       "      <th>footprint_samples</th>\n",
       "      <th>footprint_motif_clusters</th>\n",
       "    </tr>\n",
       "  </thead>\n",
       "  <tbody>\n",
       "    <tr>\n",
       "      <th>0</th>\n",
       "      <td>15934321</td>\n",
       "      <td>0.139</td>\n",
       "      <td>C</td>\n",
       "      <td>A</td>\n",
       "      <td>None</td>\n",
       "      <td>NaN</td>\n",
       "      <td>NaN</td>\n",
       "      <td>0.0</td>\n",
       "      <td>34</td>\n",
       "      <td>0.139</td>\n",
       "      <td>NaN</td>\n",
       "      <td>0.0</td>\n",
       "      <td>0.0</td>\n",
       "      <td>0.0</td>\n",
       "      <td>0.0</td>\n",
       "      <td>12</td>\n",
       "      <td>4681</td>\n",
       "      <td>False</td>\n",
       "      <td>0.117</td>\n",
       "      <td>0.117</td>\n",
       "      <td>0.070159</td>\n",
       "      <td>4.0</td>\n",
       "      <td>22.38198</td>\n",
       "      <td>Placental / trophoblast</td>\n",
       "      <td>0.070159</td>\n",
       "      <td>0.0</td>\n",
       "      <td>NaN</td>\n",
       "      <td>None</td>\n",
       "    </tr>\n",
       "    <tr>\n",
       "      <th>1</th>\n",
       "      <td>15934377</td>\n",
       "      <td>0.062</td>\n",
       "      <td>A</td>\n",
       "      <td>T</td>\n",
       "      <td>None</td>\n",
       "      <td>NaN</td>\n",
       "      <td>NaN</td>\n",
       "      <td>0.0</td>\n",
       "      <td>34</td>\n",
       "      <td>0.062</td>\n",
       "      <td>NaN</td>\n",
       "      <td>0.0</td>\n",
       "      <td>0.0</td>\n",
       "      <td>0.0</td>\n",
       "      <td>0.0</td>\n",
       "      <td>5</td>\n",
       "      <td>4681</td>\n",
       "      <td>False</td>\n",
       "      <td>0.767</td>\n",
       "      <td>0.767</td>\n",
       "      <td>0.000000</td>\n",
       "      <td>NaN</td>\n",
       "      <td>None</td>\n",
       "      <td>None</td>\n",
       "      <td>NaN</td>\n",
       "      <td>0.0</td>\n",
       "      <td>NaN</td>\n",
       "      <td>None</td>\n",
       "    </tr>\n",
       "    <tr>\n",
       "      <th>2</th>\n",
       "      <td>15934890</td>\n",
       "      <td>0.083</td>\n",
       "      <td>G</td>\n",
       "      <td>C</td>\n",
       "      <td>None</td>\n",
       "      <td>NaN</td>\n",
       "      <td>NaN</td>\n",
       "      <td>0.0</td>\n",
       "      <td>34</td>\n",
       "      <td>0.083</td>\n",
       "      <td>NaN</td>\n",
       "      <td>0.0</td>\n",
       "      <td>0.0</td>\n",
       "      <td>0.0</td>\n",
       "      <td>0.0</td>\n",
       "      <td>7</td>\n",
       "      <td>4681</td>\n",
       "      <td>False</td>\n",
       "      <td>-0.184</td>\n",
       "      <td>0.000</td>\n",
       "      <td>0.000000</td>\n",
       "      <td>NaN</td>\n",
       "      <td>None</td>\n",
       "      <td>None</td>\n",
       "      <td>NaN</td>\n",
       "      <td>0.0</td>\n",
       "      <td>NaN</td>\n",
       "      <td>None</td>\n",
       "    </tr>\n",
       "    <tr>\n",
       "      <th>3</th>\n",
       "      <td>15935410</td>\n",
       "      <td>0.139</td>\n",
       "      <td>C</td>\n",
       "      <td>G</td>\n",
       "      <td>None</td>\n",
       "      <td>NaN</td>\n",
       "      <td>NaN</td>\n",
       "      <td>0.0</td>\n",
       "      <td>34</td>\n",
       "      <td>0.139</td>\n",
       "      <td>NaN</td>\n",
       "      <td>0.0</td>\n",
       "      <td>0.0</td>\n",
       "      <td>0.0</td>\n",
       "      <td>0.0</td>\n",
       "      <td>12</td>\n",
       "      <td>4682</td>\n",
       "      <td>False</td>\n",
       "      <td>0.230</td>\n",
       "      <td>0.230</td>\n",
       "      <td>0.090702</td>\n",
       "      <td>4.0</td>\n",
       "      <td>22.382005</td>\n",
       "      <td>Placental / trophoblast</td>\n",
       "      <td>NaN</td>\n",
       "      <td>0.0</td>\n",
       "      <td>NaN</td>\n",
       "      <td>None</td>\n",
       "    </tr>\n",
       "    <tr>\n",
       "      <th>4</th>\n",
       "      <td>15935552</td>\n",
       "      <td>0.041</td>\n",
       "      <td>A</td>\n",
       "      <td>T</td>\n",
       "      <td>None</td>\n",
       "      <td>NaN</td>\n",
       "      <td>NaN</td>\n",
       "      <td>0.0</td>\n",
       "      <td>34</td>\n",
       "      <td>0.041</td>\n",
       "      <td>NaN</td>\n",
       "      <td>0.0</td>\n",
       "      <td>0.0</td>\n",
       "      <td>0.0</td>\n",
       "      <td>0.0</td>\n",
       "      <td>3</td>\n",
       "      <td>4682</td>\n",
       "      <td>False</td>\n",
       "      <td>-0.186</td>\n",
       "      <td>0.000</td>\n",
       "      <td>0.050832</td>\n",
       "      <td>1.0</td>\n",
       "      <td>22.382014</td>\n",
       "      <td>Digestive</td>\n",
       "      <td>NaN</td>\n",
       "      <td>0.0</td>\n",
       "      <td>NaN</td>\n",
       "      <td>None</td>\n",
       "    </tr>\n",
       "  </tbody>\n",
       "</table>\n",
       "</div>"
      ],
      "text/plain": [
       "        Pos     mu Allele_ref Allele filter_gnomADv3  AC_gnomADv3  \\\n",
       "0  15934321  0.139          C      A            None          NaN   \n",
       "1  15934377  0.062          A      T            None          NaN   \n",
       "2  15934890  0.083          G      C            None          NaN   \n",
       "3  15935410  0.139          C      G            None          NaN   \n",
       "4  15935552  0.041          A      T            None          NaN   \n",
       "\n",
       "   AN_gnomADv3  AF_gnomADv3  cov_median_gnomADv3  mu_newbin  Neutral   AF  \\\n",
       "0          NaN          0.0                   34      0.139      NaN  0.0   \n",
       "1          NaN          0.0                   34      0.062      NaN  0.0   \n",
       "2          NaN          0.0                   34      0.083      NaN  0.0   \n",
       "3          NaN          0.0                   34      0.139      NaN  0.0   \n",
       "4          NaN          0.0                   34      0.041      NaN  0.0   \n",
       "\n",
       "   MAF  Freq_bin_5  Freq_bin_adaptive  mu_index  window_1k   exon  phyloP  \\\n",
       "0  0.0         0.0                0.0        12       4681  False   0.117   \n",
       "1  0.0         0.0                0.0         5       4681  False   0.767   \n",
       "2  0.0         0.0                0.0         7       4681  False  -0.184   \n",
       "3  0.0         0.0                0.0        12       4682  False   0.230   \n",
       "4  0.0         0.0                0.0         3       4682  False  -0.186   \n",
       "\n",
       "   phyloP_pos  DHS_mean_signal  DHS_sample DHS_identifier  \\\n",
       "0       0.117         0.070159         4.0       22.38198   \n",
       "1       0.767         0.000000         NaN           None   \n",
       "2       0.000         0.000000         NaN           None   \n",
       "3       0.230         0.090702         4.0      22.382005   \n",
       "4       0.000         0.050832         1.0      22.382014   \n",
       "\n",
       "                DHS_tissue  DHS_core_mean_signal  footprint_mean_signal  \\\n",
       "0  Placental / trophoblast              0.070159                    0.0   \n",
       "1                     None                   NaN                    0.0   \n",
       "2                     None                   NaN                    0.0   \n",
       "3  Placental / trophoblast                   NaN                    0.0   \n",
       "4                Digestive                   NaN                    0.0   \n",
       "\n",
       "   footprint_samples footprint_motif_clusters  \n",
       "0                NaN                     None  \n",
       "1                NaN                     None  \n",
       "2                NaN                     None  \n",
       "3                NaN                     None  \n",
       "4                NaN                     None  "
      ]
     },
     "execution_count": 5,
     "metadata": {},
     "output_type": "execute_result"
    }
   ],
   "source": [
    "ddf.head()"
   ]
  },
  {
   "cell_type": "code",
   "execution_count": 5,
   "id": "61844f21",
   "metadata": {},
   "outputs": [],
   "source": [
    "ddf[\"dhs_only\"] = ddf[\"DHS_mean_signal\"].where((ddf[\"DHS_mean_signal\"] > 0) & (ddf[\"footprint_mean_signal\"] == 0), 0)\n",
    "ddf[\"footprints_only\"] = ddf[\"footprint_mean_signal\"].where((ddf[\"footprint_mean_signal\"] > 0) & (ddf[\"DHS_mean_signal\"] == 0), 0)\n",
    "\n",
    "ddf[\"dhs\"] = ddf[\"DHS_mean_signal\"].astype(bool).astype(int)\n",
    "ddf[\"footprints\"] = ddf[\"footprint_mean_signal\"].astype(bool).astype(int)\n",
    "\n",
    "ddf[\"dhs_only\"] = ddf[\"dhs_only\"].astype(bool).astype(int)\n",
    "ddf[\"footprints_only\"] = ddf[\"footprints_only\"].astype(bool).astype(int)"
   ]
  },
  {
   "cell_type": "code",
   "execution_count": 6,
   "id": "fe9b5d07",
   "metadata": {},
   "outputs": [
    {
     "data": {
      "text/plain": [
       "83362823"
      ]
     },
     "execution_count": 6,
     "metadata": {},
     "output_type": "execute_result"
    }
   ],
   "source": [
    "len(ddf)"
   ]
  },
  {
   "cell_type": "code",
   "execution_count": 27,
   "id": "e3763764",
   "metadata": {},
   "outputs": [
    {
     "data": {
      "text/plain": [
       "2910186"
      ]
     },
     "execution_count": 27,
     "metadata": {},
     "output_type": "execute_result"
    }
   ],
   "source": [
    "len(ddf[ddf[\"dhs\"] == 1])"
   ]
  },
  {
   "cell_type": "code",
   "execution_count": null,
   "id": "a0f38f8b",
   "metadata": {},
   "outputs": [],
   "source": [
    "len(ddf[ddf[\"dhs\"] == 1])"
   ]
  },
  {
   "cell_type": "code",
   "execution_count": 6,
   "id": "56b92a3f",
   "metadata": {},
   "outputs": [
    {
     "data": {
      "text/plain": [
       "27741533"
      ]
     },
     "execution_count": 6,
     "metadata": {},
     "output_type": "execute_result"
    }
   ],
   "source": [
    "len(ddf[ddf[\"dhs_only\"] == 1])"
   ]
  },
  {
   "cell_type": "code",
   "execution_count": 7,
   "id": "050b8474",
   "metadata": {},
   "outputs": [
    {
     "data": {
      "text/plain": [
       "488802"
      ]
     },
     "execution_count": 7,
     "metadata": {},
     "output_type": "execute_result"
    }
   ],
   "source": [
    "len(ddf[ddf[\"footprints_only\"] == 1])"
   ]
  },
  {
   "cell_type": "code",
   "execution_count": 8,
   "id": "a170b7e9",
   "metadata": {},
   "outputs": [
    {
     "data": {
      "text/plain": [
       "3398988"
      ]
     },
     "execution_count": 8,
     "metadata": {},
     "output_type": "execute_result"
    }
   ],
   "source": [
    "len(ddf[ddf[\"footprints\"] == 1])"
   ]
  },
  {
   "cell_type": "code",
   "execution_count": null,
   "id": "2cd40f2d",
   "metadata": {},
   "outputs": [],
   "source": []
  }
 ],
 "metadata": {
  "kernelspec": {
   "display_name": "Python 3 (ipykernel)",
   "language": "python",
   "name": "python3"
  },
  "language_info": {
   "codemirror_mode": {
    "name": "ipython",
    "version": 3
   },
   "file_extension": ".py",
   "mimetype": "text/x-python",
   "name": "python",
   "nbconvert_exporter": "python",
   "pygments_lexer": "ipython3",
   "version": "3.9.17"
  }
 },
 "nbformat": 4,
 "nbformat_minor": 5
}
