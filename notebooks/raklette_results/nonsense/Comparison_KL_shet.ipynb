{
 "cells": [
  {
   "cell_type": "code",
   "execution_count": 1,
   "id": "3d3b05a8",
   "metadata": {},
   "outputs": [],
   "source": [
    "import os\n",
    "import dask.dataframe as dd\n",
    "from dask.distributed import Client\n",
    "import pandas as pd\n",
    "\n",
    "import seaborn as sns\n",
    "import matplotlib.pyplot as plt\n",
    "\n",
    "pd.set_option('display.max_columns', None)\n",
    "\n",
    "\n",
    "pd_data_dir = \"/home/djl34/lab_pd/data\"\n",
    "aso_data_dir = \"/home/djl34/lab_pd/aso/data\"\n",
    "KL_data_dir = \"/home/djl34/lab_pd/kl/data\"\n",
    "scratch_dir = \"/n/scratch3/users/d/djl34\""
   ]
  },
  {
   "cell_type": "code",
   "execution_count": 2,
   "id": "0b187226",
   "metadata": {},
   "outputs": [
    {
     "name": "stderr",
     "output_type": "stream",
     "text": [
      "/home/djl34/mambaforge/envs/raklette/lib/python3.9/site-packages/distributed/node.py:182: UserWarning: Port 8787 is already in use.\n",
      "Perhaps you already have a cluster running?\n",
      "Hosting the HTTP server on port 39440 instead\n",
      "  warnings.warn(\n"
     ]
    }
   ],
   "source": [
    "client = Client()"
   ]
  },
  {
   "cell_type": "code",
   "execution_count": 3,
   "id": "bd05c596",
   "metadata": {},
   "outputs": [],
   "source": [
    "file_directory = \"single_feature/nonsense/\"\n",
    "\n",
    "all_chrom_set = [str(x) for x in range(1, 23)]\n",
    "chrom_set = all_chrom_set\n",
    "\n",
    "header_list = [\"nonsense_below_5_pivot_\", \"nonsense_above_5_pivot_\"]\n",
    "\n",
    "file_list = [os.path.join(KL_data_dir, \"raklette_output/\" + file_directory + header + \"chr_\" + chrom + \"_chunksize_1000000_covonly_lr_0.01_gamma_0.5_epoch_800_covprior_0.1_KL.tsv\") for chrom in chrom_set for header in header_list]"
   ]
  },
  {
   "cell_type": "code",
   "execution_count": 48,
   "id": "eb90fcd6",
   "metadata": {},
   "outputs": [
    {
     "data": {
      "text/plain": [
       "44"
      ]
     },
     "execution_count": 48,
     "metadata": {},
     "output_type": "execute_result"
    }
   ],
   "source": [
    "len(file_list)"
   ]
  },
  {
   "cell_type": "code",
   "execution_count": 26,
   "id": "e14b7bd0",
   "metadata": {},
   "outputs": [],
   "source": [
    "df = dd.read_csv(file_list, sep = \"\\t\")\n",
    "\n",
    "df = df.compute()"
   ]
  },
  {
   "cell_type": "code",
   "execution_count": 27,
   "id": "201d9cfd",
   "metadata": {},
   "outputs": [],
   "source": [
    "shet = pd.read_csv(pd_data_dir + \"/shet_gnomAD_Roulette_0.01cutoff_v2.csv\")\n",
    "\n",
    "ad = pd.read_csv(KL_data_dir + \"/clinical/CGD_AD_HQ_ENSG.tsv\", sep = \"\\t\")\n",
    "\n",
    "ad[\"AD\"] = 1\n",
    "\n",
    "shet = shet.rename({\"Gene_stable_ID\": \"Gene\"}, axis = 1)\n",
    "\n",
    "df = df.merge(shet[[\"Gene\", \"mean_s_het\"]], on = \"Gene\", how = \"inner\")\n",
    "\n",
    "df = df.merge(ad[[\"Gene\", \"AD\"]], on = \"Gene\", how = \"left\")\n",
    "\n",
    "df = df.fillna(0)"
   ]
  },
  {
   "cell_type": "code",
   "execution_count": 35,
   "id": "50949232",
   "metadata": {},
   "outputs": [],
   "source": [
    "df['KL_fw_decile'] = pd.qcut(df['KL_fw'], 10, labels=False)\n",
    "df['KL_rv_decile'] = pd.qcut(df['KL_rv'], 10, labels=False)\n",
    "df['mean_s_het_decile'] = pd.qcut(df['mean_s_het'], 10, labels=False)"
   ]
  },
  {
   "cell_type": "code",
   "execution_count": 47,
   "id": "68831e38",
   "metadata": {},
   "outputs": [
    {
     "name": "stdout",
     "output_type": "stream",
     "text": [
      "KL_fw_decile\n",
      "0.36607142857142855\n",
      "KL_rv_decile\n",
      "0.38839285714285715\n",
      "mean_s_het_decile\n",
      "0.45089285714285715\n"
     ]
    }
   ],
   "source": [
    "for column in ['KL_fw_decile', 'KL_rv_decile', 'mean_s_het_decile']:\n",
    "    print(column)\n",
    "    df_decile = df[df[column] == 9]\n",
    "    \n",
    "    print(len(df_decile[df_decile[\"AD\"] == 1])/df[\"AD\"].sum())"
   ]
  },
  {
   "cell_type": "code",
   "execution_count": 37,
   "id": "d314af7f",
   "metadata": {},
   "outputs": [
    {
     "data": {
      "text/plain": [
       "array([2, 7, 4, 3, 1, 5, 9, 6, 0, 8])"
      ]
     },
     "execution_count": 37,
     "metadata": {},
     "output_type": "execute_result"
    }
   ],
   "source": [
    "df[\"KL_fw_decile\"] == 0"
   ]
  },
  {
   "cell_type": "code",
   "execution_count": 45,
   "id": "463c162d",
   "metadata": {},
   "outputs": [
    {
     "data": {
      "text/html": [
       "<div>\n",
       "<style scoped>\n",
       "    .dataframe tbody tr th:only-of-type {\n",
       "        vertical-align: middle;\n",
       "    }\n",
       "\n",
       "    .dataframe tbody tr th {\n",
       "        vertical-align: top;\n",
       "    }\n",
       "\n",
       "    .dataframe thead th {\n",
       "        text-align: right;\n",
       "    }\n",
       "</style>\n",
       "<table border=\"1\" class=\"dataframe\">\n",
       "  <thead>\n",
       "    <tr style=\"text-align: right;\">\n",
       "      <th></th>\n",
       "      <th>Gene</th>\n",
       "      <th>KL_fw</th>\n",
       "      <th>KL_rv</th>\n",
       "      <th>mean_s_het</th>\n",
       "      <th>AD</th>\n",
       "      <th>KL_fw_decile</th>\n",
       "      <th>KL_rv_decile</th>\n",
       "      <th>mean_s_het_decile</th>\n",
       "    </tr>\n",
       "  </thead>\n",
       "  <tbody>\n",
       "    <tr>\n",
       "      <th>12725</th>\n",
       "      <td>ENSG00000178852</td>\n",
       "      <td>0.009174</td>\n",
       "      <td>0.009350</td>\n",
       "      <td>0.005927</td>\n",
       "      <td>0.0</td>\n",
       "      <td>0</td>\n",
       "      <td>0</td>\n",
       "      <td>0</td>\n",
       "    </tr>\n",
       "    <tr>\n",
       "      <th>7553</th>\n",
       "      <td>ENSG00000187922</td>\n",
       "      <td>0.009536</td>\n",
       "      <td>0.009832</td>\n",
       "      <td>0.010814</td>\n",
       "      <td>0.0</td>\n",
       "      <td>0</td>\n",
       "      <td>0</td>\n",
       "      <td>1</td>\n",
       "    </tr>\n",
       "    <tr>\n",
       "      <th>14298</th>\n",
       "      <td>ENSG00000105136</td>\n",
       "      <td>0.009744</td>\n",
       "      <td>0.009952</td>\n",
       "      <td>0.022303</td>\n",
       "      <td>0.0</td>\n",
       "      <td>0</td>\n",
       "      <td>0</td>\n",
       "      <td>4</td>\n",
       "    </tr>\n",
       "    <tr>\n",
       "      <th>15628</th>\n",
       "      <td>ENSG00000183569</td>\n",
       "      <td>0.010672</td>\n",
       "      <td>0.010955</td>\n",
       "      <td>0.004043</td>\n",
       "      <td>0.0</td>\n",
       "      <td>0</td>\n",
       "      <td>0</td>\n",
       "      <td>0</td>\n",
       "    </tr>\n",
       "    <tr>\n",
       "      <th>10826</th>\n",
       "      <td>ENSG00000170054</td>\n",
       "      <td>0.010904</td>\n",
       "      <td>0.011192</td>\n",
       "      <td>0.004221</td>\n",
       "      <td>0.0</td>\n",
       "      <td>0</td>\n",
       "      <td>0</td>\n",
       "      <td>0</td>\n",
       "    </tr>\n",
       "    <tr>\n",
       "      <th>...</th>\n",
       "      <td>...</td>\n",
       "      <td>...</td>\n",
       "      <td>...</td>\n",
       "      <td>...</td>\n",
       "      <td>...</td>\n",
       "      <td>...</td>\n",
       "      <td>...</td>\n",
       "      <td>...</td>\n",
       "    </tr>\n",
       "    <tr>\n",
       "      <th>7041</th>\n",
       "      <td>ENSG00000104517</td>\n",
       "      <td>5.321619</td>\n",
       "      <td>3.832190</td>\n",
       "      <td>0.612819</td>\n",
       "      <td>0.0</td>\n",
       "      <td>9</td>\n",
       "      <td>9</td>\n",
       "      <td>9</td>\n",
       "    </tr>\n",
       "    <tr>\n",
       "      <th>7898</th>\n",
       "      <td>ENSG00000107581</td>\n",
       "      <td>5.332687</td>\n",
       "      <td>3.832646</td>\n",
       "      <td>0.311606</td>\n",
       "      <td>0.0</td>\n",
       "      <td>9</td>\n",
       "      <td>9</td>\n",
       "      <td>9</td>\n",
       "    </tr>\n",
       "    <tr>\n",
       "      <th>4611</th>\n",
       "      <td>ENSG00000164190</td>\n",
       "      <td>5.770188</td>\n",
       "      <td>3.846273</td>\n",
       "      <td>1.000000</td>\n",
       "      <td>1.0</td>\n",
       "      <td>9</td>\n",
       "      <td>9</td>\n",
       "      <td>9</td>\n",
       "    </tr>\n",
       "    <tr>\n",
       "      <th>5052</th>\n",
       "      <td>ENSG00000242419</td>\n",
       "      <td>5.911559</td>\n",
       "      <td>3.078976</td>\n",
       "      <td>0.136610</td>\n",
       "      <td>0.0</td>\n",
       "      <td>9</td>\n",
       "      <td>9</td>\n",
       "      <td>8</td>\n",
       "    </tr>\n",
       "    <tr>\n",
       "      <th>4762</th>\n",
       "      <td>ENSG00000243232</td>\n",
       "      <td>6.093288</td>\n",
       "      <td>2.791723</td>\n",
       "      <td>0.149788</td>\n",
       "      <td>0.0</td>\n",
       "      <td>9</td>\n",
       "      <td>9</td>\n",
       "      <td>8</td>\n",
       "    </tr>\n",
       "  </tbody>\n",
       "</table>\n",
       "<p>15668 rows × 8 columns</p>\n",
       "</div>"
      ],
      "text/plain": [
       "                  Gene     KL_fw     KL_rv  mean_s_het   AD  KL_fw_decile  \\\n",
       "12725  ENSG00000178852  0.009174  0.009350    0.005927  0.0             0   \n",
       "7553   ENSG00000187922  0.009536  0.009832    0.010814  0.0             0   \n",
       "14298  ENSG00000105136  0.009744  0.009952    0.022303  0.0             0   \n",
       "15628  ENSG00000183569  0.010672  0.010955    0.004043  0.0             0   \n",
       "10826  ENSG00000170054  0.010904  0.011192    0.004221  0.0             0   \n",
       "...                ...       ...       ...         ...  ...           ...   \n",
       "7041   ENSG00000104517  5.321619  3.832190    0.612819  0.0             9   \n",
       "7898   ENSG00000107581  5.332687  3.832646    0.311606  0.0             9   \n",
       "4611   ENSG00000164190  5.770188  3.846273    1.000000  1.0             9   \n",
       "5052   ENSG00000242419  5.911559  3.078976    0.136610  0.0             9   \n",
       "4762   ENSG00000243232  6.093288  2.791723    0.149788  0.0             9   \n",
       "\n",
       "       KL_rv_decile  mean_s_het_decile  \n",
       "12725             0                  0  \n",
       "7553              0                  1  \n",
       "14298             0                  4  \n",
       "15628             0                  0  \n",
       "10826             0                  0  \n",
       "...             ...                ...  \n",
       "7041              9                  9  \n",
       "7898              9                  9  \n",
       "4611              9                  9  \n",
       "5052              9                  8  \n",
       "4762              9                  8  \n",
       "\n",
       "[15668 rows x 8 columns]"
      ]
     },
     "execution_count": 45,
     "metadata": {},
     "output_type": "execute_result"
    }
   ],
   "source": [
    "df.sort_values(\"KL_fw\")"
   ]
  },
  {
   "cell_type": "code",
   "execution_count": null,
   "id": "121e077c",
   "metadata": {},
   "outputs": [],
   "source": []
  }
 ],
 "metadata": {
  "kernelspec": {
   "display_name": "Python 3 (ipykernel)",
   "language": "python",
   "name": "python3"
  },
  "language_info": {
   "codemirror_mode": {
    "name": "ipython",
    "version": 3
   },
   "file_extension": ".py",
   "mimetype": "text/x-python",
   "name": "python",
   "nbconvert_exporter": "python",
   "pygments_lexer": "ipython3",
   "version": "3.9.17"
  }
 },
 "nbformat": 4,
 "nbformat_minor": 5
}
