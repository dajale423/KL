{
 "cells": [
  {
   "cell_type": "code",
   "execution_count": 1,
   "id": "f9e356d1",
   "metadata": {},
   "outputs": [
    {
     "name": "stderr",
     "output_type": "stream",
     "text": [
      "/home/djl34/mambaforge/envs/raklette/lib/python3.9/site-packages/dask/dataframe/_pyarrow_compat.py:17: FutureWarning: Minimal version of pyarrow will soon be increased to 14.0.1. You are using 11.0.0. Please consider upgrading.\n",
      "  warnings.warn(\n"
     ]
    }
   ],
   "source": [
    "import os\n",
    "import dask.dataframe as dd\n",
    "from dask.distributed import Client\n",
    "import pandas as pd\n",
    "import numpy as np\n",
    "\n",
    "import seaborn as sns\n",
    "import matplotlib.pyplot as plt\n",
    "\n",
    "import sys\n",
    "sys.path.insert(0, '/home/djl34/lab_pd/kl/git/KL/scripts')\n",
    "import post_analysis\n",
    "\n",
    "pd.set_option('display.max_columns', None)\n",
    "\n",
    "pd_data_dir = \"/home/djl34/lab_pd/data\"\n",
    "aso_data_dir = \"/home/djl34/lab_pd/aso/data\"\n",
    "KL_data_dir = \"/home/djl34/lab_pd/kl/data\"\n",
    "scratch_dir = \"/n/scratch/users/d/djl34\"\n",
    "\n",
    "all_chrom_set = [str(x) for x in range(1, 23)]\n",
    "chrom_set = all_chrom_set"
   ]
  },
  {
   "cell_type": "code",
   "execution_count": 2,
   "id": "fd3c6a98",
   "metadata": {},
   "outputs": [],
   "source": [
    "client = Client()"
   ]
  },
  {
   "cell_type": "code",
   "execution_count": 3,
   "id": "22bdb076",
   "metadata": {},
   "outputs": [],
   "source": [
    "filename = os.path.join(KL_data_dir, \"results/footprints/mu_sum/{chrom}.tsv\")\n",
    "filename = filename.replace(\"{chrom}\", \"*\")"
   ]
  },
  {
   "cell_type": "code",
   "execution_count": 4,
   "id": "06fb7cf5",
   "metadata": {},
   "outputs": [],
   "source": [
    "ddf = dd.read_csv(filename, sep = \"\\t\", dtype={'Spliceai_info': 'object'})"
   ]
  },
  {
   "cell_type": "code",
   "execution_count": 5,
   "id": "e4622e3d",
   "metadata": {},
   "outputs": [
    {
     "name": "stderr",
     "output_type": "stream",
     "text": [
      "/home/djl34/mambaforge/envs/raklette/lib/python3.9/site-packages/dask/dataframe/_pyarrow_compat.py:17: FutureWarning: Minimal version of pyarrow will soon be increased to 14.0.1. You are using 11.0.0. Please consider upgrading.\n",
      "  warnings.warn(\n"
     ]
    }
   ],
   "source": [
    "df = ddf.compute()"
   ]
  },
  {
   "cell_type": "code",
   "execution_count": 6,
   "id": "e2a0dced",
   "metadata": {},
   "outputs": [],
   "source": [
    "filename = os.path.join(KL_data_dir, \"results/footprints/phyloP/{chrom}.tsv\")\n",
    "filename = filename.replace(\"{chrom}\", \"*\")\n",
    "ddf = dd.read_csv(filename, sep = \"\\t\")\n",
    "df_phyloP = ddf.compute()\n",
    "\n",
    "df = df.merge(df_phyloP, on = \"footprint_identifier\", how = \"left\")"
   ]
  },
  {
   "cell_type": "code",
   "execution_count": 42,
   "id": "7252dfa3",
   "metadata": {},
   "outputs": [
    {
     "data": {
      "text/html": [
       "<div>\n",
       "<style scoped>\n",
       "    .dataframe tbody tr th:only-of-type {\n",
       "        vertical-align: middle;\n",
       "    }\n",
       "\n",
       "    .dataframe tbody tr th {\n",
       "        vertical-align: top;\n",
       "    }\n",
       "\n",
       "    .dataframe thead th {\n",
       "        text-align: right;\n",
       "    }\n",
       "</style>\n",
       "<table border=\"1\" class=\"dataframe\">\n",
       "  <thead>\n",
       "    <tr style=\"text-align: right;\">\n",
       "      <th></th>\n",
       "      <th>footprint_identifier</th>\n",
       "      <th>mu</th>\n",
       "      <th>expected_AC</th>\n",
       "      <th>AC_var</th>\n",
       "      <th>AC_total</th>\n",
       "      <th>denovo_an_case</th>\n",
       "      <th>denovo_an_control</th>\n",
       "      <th>AN_mean</th>\n",
       "      <th>sites</th>\n",
       "      <th>phyloP</th>\n",
       "      <th>phyloP_pos</th>\n",
       "      <th>phyloP_max</th>\n",
       "      <th>phyloP_median</th>\n",
       "    </tr>\n",
       "  </thead>\n",
       "  <tbody>\n",
       "    <tr>\n",
       "      <th>0</th>\n",
       "      <td>1.102814.3</td>\n",
       "      <td>4.278</td>\n",
       "      <td>564.329566</td>\n",
       "      <td>5.723804e+06</td>\n",
       "      <td>21.0</td>\n",
       "      <td>0.0</td>\n",
       "      <td>0.0</td>\n",
       "      <td>550917.515152</td>\n",
       "      <td>33</td>\n",
       "      <td>-0.672000</td>\n",
       "      <td>0.102909</td>\n",
       "      <td>0.568</td>\n",
       "      <td>-0.3530</td>\n",
       "    </tr>\n",
       "    <tr>\n",
       "      <th>1</th>\n",
       "      <td>1.102814.44</td>\n",
       "      <td>11.287</td>\n",
       "      <td>1496.473430</td>\n",
       "      <td>1.509851e+07</td>\n",
       "      <td>432.0</td>\n",
       "      <td>0.0</td>\n",
       "      <td>0.0</td>\n",
       "      <td>549097.975309</td>\n",
       "      <td>81</td>\n",
       "      <td>-0.962383</td>\n",
       "      <td>0.155370</td>\n",
       "      <td>0.545</td>\n",
       "      <td>-0.4060</td>\n",
       "    </tr>\n",
       "    <tr>\n",
       "      <th>2</th>\n",
       "      <td>1.102814.47</td>\n",
       "      <td>16.900</td>\n",
       "      <td>2219.699413</td>\n",
       "      <td>2.249524e+07</td>\n",
       "      <td>134.0</td>\n",
       "      <td>0.0</td>\n",
       "      <td>0.0</td>\n",
       "      <td>550766.588235</td>\n",
       "      <td>136</td>\n",
       "      <td>-0.580324</td>\n",
       "      <td>0.056081</td>\n",
       "      <td>0.545</td>\n",
       "      <td>0.0520</td>\n",
       "    </tr>\n",
       "    <tr>\n",
       "      <th>3</th>\n",
       "      <td>1.102821.4</td>\n",
       "      <td>6.963</td>\n",
       "      <td>902.101016</td>\n",
       "      <td>9.095739e+06</td>\n",
       "      <td>473.0</td>\n",
       "      <td>0.0</td>\n",
       "      <td>0.0</td>\n",
       "      <td>552212.023810</td>\n",
       "      <td>84</td>\n",
       "      <td>-0.301964</td>\n",
       "      <td>0.278643</td>\n",
       "      <td>1.083</td>\n",
       "      <td>-0.0540</td>\n",
       "    </tr>\n",
       "    <tr>\n",
       "      <th>4</th>\n",
       "      <td>1.1029632.1</td>\n",
       "      <td>6.412</td>\n",
       "      <td>833.497037</td>\n",
       "      <td>8.489607e+06</td>\n",
       "      <td>197.0</td>\n",
       "      <td>0.0</td>\n",
       "      <td>0.0</td>\n",
       "      <td>552300.055556</td>\n",
       "      <td>90</td>\n",
       "      <td>0.230933</td>\n",
       "      <td>0.340833</td>\n",
       "      <td>0.572</td>\n",
       "      <td>0.4375</td>\n",
       "    </tr>\n",
       "  </tbody>\n",
       "</table>\n",
       "</div>"
      ],
      "text/plain": [
       "  footprint_identifier      mu  expected_AC        AC_var  AC_total  \\\n",
       "0           1.102814.3   4.278   564.329566  5.723804e+06      21.0   \n",
       "1          1.102814.44  11.287  1496.473430  1.509851e+07     432.0   \n",
       "2          1.102814.47  16.900  2219.699413  2.249524e+07     134.0   \n",
       "3           1.102821.4   6.963   902.101016  9.095739e+06     473.0   \n",
       "4          1.1029632.1   6.412   833.497037  8.489607e+06     197.0   \n",
       "\n",
       "   denovo_an_case  denovo_an_control        AN_mean  sites    phyloP  \\\n",
       "0             0.0                0.0  550917.515152     33 -0.672000   \n",
       "1             0.0                0.0  549097.975309     81 -0.962383   \n",
       "2             0.0                0.0  550766.588235    136 -0.580324   \n",
       "3             0.0                0.0  552212.023810     84 -0.301964   \n",
       "4             0.0                0.0  552300.055556     90  0.230933   \n",
       "\n",
       "   phyloP_pos  phyloP_max  phyloP_median  \n",
       "0    0.102909       0.568        -0.3530  \n",
       "1    0.155370       0.545        -0.4060  \n",
       "2    0.056081       0.545         0.0520  \n",
       "3    0.278643       1.083        -0.0540  \n",
       "4    0.340833       0.572         0.4375  "
      ]
     },
     "execution_count": 42,
     "metadata": {},
     "output_type": "execute_result"
    }
   ],
   "source": [
    "df.head()"
   ]
  },
  {
   "cell_type": "code",
   "execution_count": 43,
   "id": "e257473d",
   "metadata": {},
   "outputs": [],
   "source": [
    "## calculate z_score\n",
    "df[\"Z_score\"] = (df[\"AC_total\"] - df[\"expected_AC\"])/np.sqrt(df[\"AC_var\"])"
   ]
  },
  {
   "cell_type": "code",
   "execution_count": 44,
   "id": "412700b5",
   "metadata": {},
   "outputs": [
    {
     "name": "stdout",
     "output_type": "stream",
     "text": [
      "-2.7309230501550448\n",
      "57.304889797978035\n",
      "-0.03433378906555952\n"
     ]
    }
   ],
   "source": [
    "print(df[\"Z_score\"].min())\n",
    "print(df[\"Z_score\"].max())\n",
    "print(df[\"Z_score\"].mean())"
   ]
  },
  {
   "cell_type": "code",
   "execution_count": 45,
   "id": "773b5a79",
   "metadata": {},
   "outputs": [
    {
     "data": {
      "text/plain": [
       "3.032569305213916e-05"
      ]
     },
     "execution_count": 45,
     "metadata": {},
     "output_type": "execute_result"
    }
   ],
   "source": [
    "len(df[df[\"Z_score\"] < -1])/len(df)"
   ]
  },
  {
   "cell_type": "code",
   "execution_count": 46,
   "id": "b076a682",
   "metadata": {},
   "outputs": [
    {
     "data": {
      "text/plain": [
       "124"
      ]
     },
     "execution_count": 46,
     "metadata": {},
     "output_type": "execute_result"
    }
   ],
   "source": [
    "len(df[df[\"Z_score\"] < -1])"
   ]
  },
  {
   "cell_type": "code",
   "execution_count": 47,
   "id": "5914313a",
   "metadata": {},
   "outputs": [
    {
     "data": {
      "text/html": [
       "<div>\n",
       "<style scoped>\n",
       "    .dataframe tbody tr th:only-of-type {\n",
       "        vertical-align: middle;\n",
       "    }\n",
       "\n",
       "    .dataframe tbody tr th {\n",
       "        vertical-align: top;\n",
       "    }\n",
       "\n",
       "    .dataframe thead th {\n",
       "        text-align: right;\n",
       "    }\n",
       "</style>\n",
       "<table border=\"1\" class=\"dataframe\">\n",
       "  <thead>\n",
       "    <tr style=\"text-align: right;\">\n",
       "      <th></th>\n",
       "      <th>footprint_identifier</th>\n",
       "      <th>mu</th>\n",
       "      <th>expected_AC</th>\n",
       "      <th>AC_var</th>\n",
       "      <th>AC_total</th>\n",
       "      <th>denovo_an_case</th>\n",
       "      <th>denovo_an_control</th>\n",
       "      <th>AN_mean</th>\n",
       "      <th>sites</th>\n",
       "      <th>phyloP</th>\n",
       "      <th>phyloP_pos</th>\n",
       "      <th>phyloP_max</th>\n",
       "      <th>phyloP_median</th>\n",
       "      <th>Z_score</th>\n",
       "    </tr>\n",
       "  </thead>\n",
       "  <tbody>\n",
       "    <tr>\n",
       "      <th>0</th>\n",
       "      <td>1.102814.3</td>\n",
       "      <td>4.278</td>\n",
       "      <td>564.329566</td>\n",
       "      <td>5.723804e+06</td>\n",
       "      <td>21.0</td>\n",
       "      <td>0.0</td>\n",
       "      <td>0.0</td>\n",
       "      <td>550917.515152</td>\n",
       "      <td>33</td>\n",
       "      <td>-0.672000</td>\n",
       "      <td>0.102909</td>\n",
       "      <td>0.568</td>\n",
       "      <td>-0.3530</td>\n",
       "      <td>-0.227102</td>\n",
       "    </tr>\n",
       "    <tr>\n",
       "      <th>1</th>\n",
       "      <td>1.102814.44</td>\n",
       "      <td>11.287</td>\n",
       "      <td>1496.473430</td>\n",
       "      <td>1.509851e+07</td>\n",
       "      <td>432.0</td>\n",
       "      <td>0.0</td>\n",
       "      <td>0.0</td>\n",
       "      <td>549097.975309</td>\n",
       "      <td>81</td>\n",
       "      <td>-0.962383</td>\n",
       "      <td>0.155370</td>\n",
       "      <td>0.545</td>\n",
       "      <td>-0.4060</td>\n",
       "      <td>-0.273948</td>\n",
       "    </tr>\n",
       "    <tr>\n",
       "      <th>2</th>\n",
       "      <td>1.102814.47</td>\n",
       "      <td>16.900</td>\n",
       "      <td>2219.699413</td>\n",
       "      <td>2.249524e+07</td>\n",
       "      <td>134.0</td>\n",
       "      <td>0.0</td>\n",
       "      <td>0.0</td>\n",
       "      <td>550766.588235</td>\n",
       "      <td>136</td>\n",
       "      <td>-0.580324</td>\n",
       "      <td>0.056081</td>\n",
       "      <td>0.545</td>\n",
       "      <td>0.0520</td>\n",
       "      <td>-0.439751</td>\n",
       "    </tr>\n",
       "    <tr>\n",
       "      <th>3</th>\n",
       "      <td>1.102821.4</td>\n",
       "      <td>6.963</td>\n",
       "      <td>902.101016</td>\n",
       "      <td>9.095739e+06</td>\n",
       "      <td>473.0</td>\n",
       "      <td>0.0</td>\n",
       "      <td>0.0</td>\n",
       "      <td>552212.023810</td>\n",
       "      <td>84</td>\n",
       "      <td>-0.301964</td>\n",
       "      <td>0.278643</td>\n",
       "      <td>1.083</td>\n",
       "      <td>-0.0540</td>\n",
       "      <td>-0.142279</td>\n",
       "    </tr>\n",
       "    <tr>\n",
       "      <th>4</th>\n",
       "      <td>1.1029632.1</td>\n",
       "      <td>6.412</td>\n",
       "      <td>833.497037</td>\n",
       "      <td>8.489607e+06</td>\n",
       "      <td>197.0</td>\n",
       "      <td>0.0</td>\n",
       "      <td>0.0</td>\n",
       "      <td>552300.055556</td>\n",
       "      <td>90</td>\n",
       "      <td>0.230933</td>\n",
       "      <td>0.340833</td>\n",
       "      <td>0.572</td>\n",
       "      <td>0.4375</td>\n",
       "      <td>-0.218450</td>\n",
       "    </tr>\n",
       "  </tbody>\n",
       "</table>\n",
       "</div>"
      ],
      "text/plain": [
       "  footprint_identifier      mu  expected_AC        AC_var  AC_total  \\\n",
       "0           1.102814.3   4.278   564.329566  5.723804e+06      21.0   \n",
       "1          1.102814.44  11.287  1496.473430  1.509851e+07     432.0   \n",
       "2          1.102814.47  16.900  2219.699413  2.249524e+07     134.0   \n",
       "3           1.102821.4   6.963   902.101016  9.095739e+06     473.0   \n",
       "4          1.1029632.1   6.412   833.497037  8.489607e+06     197.0   \n",
       "\n",
       "   denovo_an_case  denovo_an_control        AN_mean  sites    phyloP  \\\n",
       "0             0.0                0.0  550917.515152     33 -0.672000   \n",
       "1             0.0                0.0  549097.975309     81 -0.962383   \n",
       "2             0.0                0.0  550766.588235    136 -0.580324   \n",
       "3             0.0                0.0  552212.023810     84 -0.301964   \n",
       "4             0.0                0.0  552300.055556     90  0.230933   \n",
       "\n",
       "   phyloP_pos  phyloP_max  phyloP_median   Z_score  \n",
       "0    0.102909       0.568        -0.3530 -0.227102  \n",
       "1    0.155370       0.545        -0.4060 -0.273948  \n",
       "2    0.056081       0.545         0.0520 -0.439751  \n",
       "3    0.278643       1.083        -0.0540 -0.142279  \n",
       "4    0.340833       0.572         0.4375 -0.218450  "
      ]
     },
     "execution_count": 47,
     "metadata": {},
     "output_type": "execute_result"
    }
   ],
   "source": [
    "df.head()"
   ]
  },
  {
   "cell_type": "code",
   "execution_count": 48,
   "id": "0f210b88",
   "metadata": {},
   "outputs": [],
   "source": [
    "per_generation_factor = 1.015 * 10 **-7\n",
    "\n",
    "df[\"rate_pergen\"] = df[\"mu\"] * per_generation_factor * 1902"
   ]
  },
  {
   "cell_type": "code",
   "execution_count": 80,
   "id": "c2cee892",
   "metadata": {},
   "outputs": [],
   "source": [
    "df_footprint_mean = pd.DataFrame(df[[\"phyloP\", \"phyloP_pos\", \"phyloP_max\", \"phyloP_median\"]].mean(), columns= [\"all\"])"
   ]
  },
  {
   "cell_type": "markdown",
   "id": "c05d9e65",
   "metadata": {},
   "source": [
    "## do it for a cutoff"
   ]
  },
  {
   "cell_type": "markdown",
   "id": "c130d63a",
   "metadata": {},
   "source": [
    "### Z_score < -1"
   ]
  },
  {
   "cell_type": "code",
   "execution_count": 81,
   "id": "d39146f9",
   "metadata": {},
   "outputs": [],
   "source": [
    "df_zscore_1 = df[df[\"Z_score\"] < -1]\n",
    "\n",
    "df_zscore_1[\"denovo_an_case\"].sum()/df_zscore_1[\"rate_pergen\"].sum()\n",
    "\n",
    "df_zscore_1[\"denovo_an_control\"].sum()/df_zscore_1[\"rate_pergen\"].sum()\n",
    "\n",
    "df_footprint_mean[\"Zscore < -1\"] = df_zscore_1[[\"phyloP\", \"phyloP_pos\", \"phyloP_max\", \"phyloP_median\"]].mean()"
   ]
  },
  {
   "cell_type": "code",
   "execution_count": 57,
   "id": "35091223",
   "metadata": {},
   "outputs": [
    {
     "data": {
      "text/html": [
       "<div>\n",
       "<style scoped>\n",
       "    .dataframe tbody tr th:only-of-type {\n",
       "        vertical-align: middle;\n",
       "    }\n",
       "\n",
       "    .dataframe tbody tr th {\n",
       "        vertical-align: top;\n",
       "    }\n",
       "\n",
       "    .dataframe thead th {\n",
       "        text-align: right;\n",
       "    }\n",
       "</style>\n",
       "<table border=\"1\" class=\"dataframe\">\n",
       "  <thead>\n",
       "    <tr style=\"text-align: right;\">\n",
       "      <th></th>\n",
       "      <th>all</th>\n",
       "      <th>Zscore &lt; 1</th>\n",
       "    </tr>\n",
       "  </thead>\n",
       "  <tbody>\n",
       "    <tr>\n",
       "      <th>phyloP</th>\n",
       "      <td>0.500888</td>\n",
       "      <td>2.104707</td>\n",
       "    </tr>\n",
       "    <tr>\n",
       "      <th>phyloP_pos</th>\n",
       "      <td>0.839108</td>\n",
       "      <td>2.377669</td>\n",
       "    </tr>\n",
       "    <tr>\n",
       "      <th>phyloP_max</th>\n",
       "      <td>2.503774</td>\n",
       "      <td>5.509202</td>\n",
       "    </tr>\n",
       "    <tr>\n",
       "      <th>phyloP_median</th>\n",
       "      <td>0.547084</td>\n",
       "      <td>2.128012</td>\n",
       "    </tr>\n",
       "  </tbody>\n",
       "</table>\n",
       "</div>"
      ],
      "text/plain": [
       "                    all  Zscore < 1\n",
       "phyloP         0.500888    2.104707\n",
       "phyloP_pos     0.839108    2.377669\n",
       "phyloP_max     2.503774    5.509202\n",
       "phyloP_median  0.547084    2.128012"
      ]
     },
     "execution_count": 57,
     "metadata": {},
     "output_type": "execute_result"
    }
   ],
   "source": [
    "df_footprint_mean"
   ]
  },
  {
   "cell_type": "markdown",
   "id": "e8098e9c",
   "metadata": {},
   "source": [
    "### Z_score < 0.5"
   ]
  },
  {
   "cell_type": "code",
   "execution_count": 85,
   "id": "15d66c52",
   "metadata": {},
   "outputs": [
    {
     "name": "stdout",
     "output_type": "stream",
     "text": [
      "5567\n",
      "1.0454997190594053\n",
      "0.6571712519801975\n"
     ]
    }
   ],
   "source": [
    "df_zscore = df[df[\"Z_score\"] < -0.5]\n",
    "\n",
    "print(len(df_zscore))\n",
    "\n",
    "print(df_zscore[\"denovo_an_case\"].sum()/df_zscore[\"rate_pergen\"].sum())\n",
    "print(df_zscore[\"denovo_an_control\"].sum()/df_zscore[\"rate_pergen\"].sum())\n",
    "\n",
    "df_footprint_mean[\"Zscore < -0.5\"] = df_zscore[[\"phyloP\", \"phyloP_pos\", \"phyloP_max\", \"phyloP_median\"]].mean()"
   ]
  },
  {
   "cell_type": "code",
   "execution_count": 73,
   "id": "fa3e4100",
   "metadata": {},
   "outputs": [
    {
     "data": {
      "text/plain": [
       "35.0"
      ]
     },
     "execution_count": 73,
     "metadata": {},
     "output_type": "execute_result"
    }
   ],
   "source": [
    "df_zscore[\"denovo_an_case\"].sum()"
   ]
  },
  {
   "cell_type": "code",
   "execution_count": 74,
   "id": "4b1fc444",
   "metadata": {},
   "outputs": [
    {
     "data": {
      "text/plain": [
       "22.0"
      ]
     },
     "execution_count": 74,
     "metadata": {},
     "output_type": "execute_result"
    }
   ],
   "source": [
    "df_zscore[\"denovo_an_control\"].sum()"
   ]
  },
  {
   "cell_type": "markdown",
   "id": "d59c7da5",
   "metadata": {},
   "source": [
    "## other cutoffs"
   ]
  },
  {
   "cell_type": "code",
   "execution_count": 87,
   "id": "a813da1f",
   "metadata": {},
   "outputs": [
    {
     "name": "stdout",
     "output_type": "stream",
     "text": [
      "435\n",
      "0.7295795988401905\n",
      "5.0\n",
      "0.0\n"
     ]
    }
   ],
   "source": [
    "df_zscore = df[df[\"Z_score\"] < - 0.7]\n",
    "\n",
    "print(len(df_zscore))\n",
    "\n",
    "print(df_zscore[\"denovo_an_case\"].sum()/df_zscore[\"rate_pergen\"].sum())\n",
    "print(df_zscore[\"denovo_an_case\"].sum())\n",
    "print(df_zscore[\"denovo_an_control\"].sum()/df_zscore[\"rate_pergen\"].sum())\n",
    "\n",
    "df_footprint_mean[\"Zscore < -0.7\"] = df_zscore[[\"phyloP\", \"phyloP_pos\", \"phyloP_max\", \"phyloP_median\"]].mean()"
   ]
  },
  {
   "cell_type": "code",
   "execution_count": 82,
   "id": "79da766c",
   "metadata": {},
   "outputs": [
    {
     "name": "stdout",
     "output_type": "stream",
     "text": [
      "250\n",
      "0.0\n",
      "0.0\n"
     ]
    }
   ],
   "source": [
    "df_zscore = df[df[\"Z_score\"] < - 0.8]\n",
    "\n",
    "print(len(df_zscore))\n",
    "\n",
    "print(df_zscore[\"denovo_an_case\"].sum()/df_zscore[\"rate_pergen\"].sum())\n",
    "print(df_zscore[\"denovo_an_control\"].sum()/df_zscore[\"rate_pergen\"].sum())\n",
    "\n",
    "df_footprint_mean[\"Zscore < -0.8\"] = df_zscore[[\"phyloP\", \"phyloP_pos\", \"phyloP_max\", \"phyloP_median\"]].mean()"
   ]
  },
  {
   "cell_type": "code",
   "execution_count": 88,
   "id": "6e84444c",
   "metadata": {},
   "outputs": [
    {
     "name": "stdout",
     "output_type": "stream",
     "text": [
      "1156\n",
      "0.8410047203935402\n",
      "10.0\n",
      "0.3364018881574161\n",
      "4.0\n"
     ]
    }
   ],
   "source": [
    "df_zscore = df[df[\"Z_score\"] < - 0.6]\n",
    "\n",
    "print(len(df_zscore))\n",
    "\n",
    "print(df_zscore[\"denovo_an_case\"].sum()/df_zscore[\"rate_pergen\"].sum())\n",
    "print(df_zscore[\"denovo_an_case\"].sum())\n",
    "print(df_zscore[\"denovo_an_control\"].sum()/df_zscore[\"rate_pergen\"].sum())\n",
    "print(df_zscore[\"denovo_an_control\"].sum())\n",
    "\n",
    "\n",
    "df_footprint_mean[\"Zscore < -0.6\"] = df_zscore[[\"phyloP\", \"phyloP_pos\", \"phyloP_max\", \"phyloP_median\"]].mean()"
   ]
  },
  {
   "cell_type": "code",
   "execution_count": 86,
   "id": "12961ac9",
   "metadata": {},
   "outputs": [
    {
     "data": {
      "text/html": [
       "<div>\n",
       "<style scoped>\n",
       "    .dataframe tbody tr th:only-of-type {\n",
       "        vertical-align: middle;\n",
       "    }\n",
       "\n",
       "    .dataframe tbody tr th {\n",
       "        vertical-align: top;\n",
       "    }\n",
       "\n",
       "    .dataframe thead th {\n",
       "        text-align: right;\n",
       "    }\n",
       "</style>\n",
       "<table border=\"1\" class=\"dataframe\">\n",
       "  <thead>\n",
       "    <tr style=\"text-align: right;\">\n",
       "      <th></th>\n",
       "      <th>all</th>\n",
       "      <th>Zscore &lt; -1</th>\n",
       "      <th>Zscore &lt; -0.8</th>\n",
       "      <th>Zscore &lt; -0.7</th>\n",
       "      <th>Zscore &lt; -0.6</th>\n",
       "      <th>Zscore &lt; -0.5</th>\n",
       "    </tr>\n",
       "  </thead>\n",
       "  <tbody>\n",
       "    <tr>\n",
       "      <th>phyloP</th>\n",
       "      <td>0.500888</td>\n",
       "      <td>2.104707</td>\n",
       "      <td>1.978092</td>\n",
       "      <td>1.805940</td>\n",
       "      <td>1.346052</td>\n",
       "      <td>0.988912</td>\n",
       "    </tr>\n",
       "    <tr>\n",
       "      <th>phyloP_pos</th>\n",
       "      <td>0.839108</td>\n",
       "      <td>2.377669</td>\n",
       "      <td>2.247573</td>\n",
       "      <td>2.098740</td>\n",
       "      <td>1.687538</td>\n",
       "      <td>1.377093</td>\n",
       "    </tr>\n",
       "    <tr>\n",
       "      <th>phyloP_max</th>\n",
       "      <td>2.503774</td>\n",
       "      <td>5.509202</td>\n",
       "      <td>5.239268</td>\n",
       "      <td>5.156821</td>\n",
       "      <td>4.770325</td>\n",
       "      <td>4.366154</td>\n",
       "    </tr>\n",
       "    <tr>\n",
       "      <th>phyloP_median</th>\n",
       "      <td>0.547084</td>\n",
       "      <td>2.128012</td>\n",
       "      <td>2.016986</td>\n",
       "      <td>1.861807</td>\n",
       "      <td>1.417084</td>\n",
       "      <td>1.073150</td>\n",
       "    </tr>\n",
       "  </tbody>\n",
       "</table>\n",
       "</div>"
      ],
      "text/plain": [
       "                    all  Zscore < -1  Zscore < -0.8  Zscore < -0.7  \\\n",
       "phyloP         0.500888     2.104707       1.978092       1.805940   \n",
       "phyloP_pos     0.839108     2.377669       2.247573       2.098740   \n",
       "phyloP_max     2.503774     5.509202       5.239268       5.156821   \n",
       "phyloP_median  0.547084     2.128012       2.016986       1.861807   \n",
       "\n",
       "               Zscore < -0.6  Zscore < -0.5  \n",
       "phyloP              1.346052       0.988912  \n",
       "phyloP_pos          1.687538       1.377093  \n",
       "phyloP_max          4.770325       4.366154  \n",
       "phyloP_median       1.417084       1.073150  "
      ]
     },
     "execution_count": 86,
     "metadata": {},
     "output_type": "execute_result"
    }
   ],
   "source": [
    "df_footprint_mean"
   ]
  },
  {
   "cell_type": "code",
   "execution_count": null,
   "id": "f65d5e57",
   "metadata": {},
   "outputs": [],
   "source": []
  }
 ],
 "metadata": {
  "kernelspec": {
   "display_name": "Python 3 (ipykernel)",
   "language": "python",
   "name": "python3"
  },
  "language_info": {
   "codemirror_mode": {
    "name": "ipython",
    "version": 3
   },
   "file_extension": ".py",
   "mimetype": "text/x-python",
   "name": "python",
   "nbconvert_exporter": "python",
   "pygments_lexer": "ipython3",
   "version": "3.9.18"
  }
 },
 "nbformat": 4,
 "nbformat_minor": 5
}
