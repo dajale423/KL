{
 "cells": [
  {
   "cell_type": "code",
   "execution_count": 73,
   "id": "0161f72d",
   "metadata": {},
   "outputs": [],
   "source": [
    "import os\n",
    "import sys\n",
    "\n",
    "import seaborn as sns\n",
    "\n",
    "sys.path.insert(0, '/home/djl34/lab_pd/kl/git/KL/scripts')\n",
    "sys.path.insert(0, '/home/djl34/lab_pd/kl/git/KL/simulation')\n",
    "\n",
    "# sys.path.append('../../Programs/KL/raklette/')\n",
    "# sys.path.append('../../Programs/KL/scripts/')\n",
    "# sys.path.append('../../Programs/KL/simulation/')\n",
    "\n",
    "import pickle\n",
    "import pandas as pd\n",
    "import numpy as np\n",
    "import matplotlib.pyplot as plt\n",
    "from tqdm import tqdm_notebook\n",
    "\n",
    "import raklette\n",
    "import simulation_tools as simt\n",
    "import ml_raklette as mlr\n",
    "\n",
    "import importlib\n",
    "importlib.reload(simt)\n",
    "importlib.reload(mlr)\n",
    "\n",
    "pd_data_dir = \"/home/djl34/lab_pd/data\"\n",
    "KL_data_dir = \"/home/djl34/lab_pd/kl/data\"\n",
    "scratch_dir = \"/n/scratch/users/d/djl34/\""
   ]
  },
  {
   "cell_type": "markdown",
   "id": "6b6edf37",
   "metadata": {},
   "source": [
    "## January 30: get the expected LL for neutral, footprints, etc."
   ]
  },
  {
   "cell_type": "code",
   "execution_count": 87,
   "id": "d52c5c4d",
   "metadata": {},
   "outputs": [],
   "source": [
    "def get_expected_ll(mut_type, bin_num):\n",
    "    df = pd.read_csv(os.path.join(KL_data_dir, \"results/method_validation/split/\"+ mut_type + \n",
    "                                  \"/pivot_bin_\"+ str(bin_num)+\".tsv\"), sep = \"\\t\")\n",
    "    \n",
    "    value_list = [str(x) for x in range(bin_num)]\n",
    "    \n",
    "    df = pd.melt(df, value_vars=value_list)\n",
    "\n",
    "    df_neutral = pd.read_csv(os.path.join(KL_data_dir, \"results/method_validation/split/neutral/pivot_bin_\" \n",
    "                                          + str(bin_num)+\".tsv\"), sep = \"\\t\")\n",
    "    \n",
    "    df_neutral = df_neutral.div(df_neutral.sum(axis=1), axis=0)\n",
    "\n",
    "    df_neutral = pd.melt(df_neutral, value_vars=value_list)\n",
    "    \n",
    "    return sum(df[\"value\"] * np.log10(df_neutral[\"value\"]))/sum(df[\"value\"])\n",
    "\n",
    "def get_expected_ll_final_bin(mut_type, bin_num):\n",
    "    df = pd.read_csv(os.path.join(KL_data_dir, \"results/method_validation/split/\"+ mut_type + \n",
    "                                  \"/pivot_bin_\"+ str(bin_num)+\".tsv\"), sep = \"\\t\")\n",
    "    \n",
    "    value_list = [str(x) for x in range(bin_num)]\n",
    "    value_list = [str(0), str(bin_num - 1)]\n",
    "    \n",
    "    df = pd.melt(df, value_vars=value_list)\n",
    "\n",
    "    df_neutral = pd.read_csv(os.path.join(KL_data_dir, \"results/method_validation/split/neutral/pivot_bin_\" \n",
    "                                          + str(bin_num)+\".tsv\"), sep = \"\\t\")\n",
    "    \n",
    "    \n",
    "    df_neutral = df_neutral[value_list]\n",
    "    df_neutral = df_neutral.div(df_neutral.sum(axis=1), axis=0)\n",
    "\n",
    "    df_neutral = pd.melt(df_neutral, value_vars=value_list)\n",
    "    \n",
    "    return sum(df[\"value\"] * np.log10(df_neutral[\"value\"]))/sum(df[\"value\"])\n",
    "    \n",
    "\n",
    "    "
   ]
  },
  {
   "cell_type": "code",
   "execution_count": 64,
   "id": "7cd2de38",
   "metadata": {},
   "outputs": [],
   "source": [
    "types = [\"neutral\", \"cds\", \"footprints\", \"non_footprint_dhs\"]\n",
    "# types = [\"neutral\", \"cds\", \"footprints\"]"
   ]
  },
  {
   "cell_type": "code",
   "execution_count": 65,
   "id": "8956230c",
   "metadata": {
    "scrolled": false
   },
   "outputs": [],
   "source": [
    "list_of_list = []\n",
    "\n",
    "for mut_type in types:\n",
    "    for bin_num in [2, 9, 10]:\n",
    "        expected_ll = get_expected_ll(mut_type, bin_num)\n",
    "        \n",
    "        list_of_list.append([mut_type, bin_num, expected_ll])"
   ]
  },
  {
   "cell_type": "code",
   "execution_count": 66,
   "id": "0d5ca0ee",
   "metadata": {},
   "outputs": [],
   "source": [
    "df_expected = pd.DataFrame(list_of_list, columns = [\"mut_type\", \"bin_number\", \"expected_ll\"])"
   ]
  },
  {
   "cell_type": "code",
   "execution_count": 68,
   "id": "112eb8c9",
   "metadata": {},
   "outputs": [],
   "source": [
    "def get_relative_ll(df_expected, bin_num , ll):\n",
    "    \n",
    "    ll_neutral = df_expected[(df_expected[\"mut_type\"] == \"neutral\") & (df_expected[\"bin_number\"] == bin_num)][\"expected_ll\"].iloc[0]\n",
    "    \n",
    "    return ll - ll_neutral"
   ]
  },
  {
   "cell_type": "code",
   "execution_count": 69,
   "id": "6c07d7b3",
   "metadata": {},
   "outputs": [],
   "source": [
    "df_expected['relative_ll'] = df_expected.apply(lambda x: get_relative_ll(df_expected, x['bin_number'], x['expected_ll']), axis=1)"
   ]
  },
  {
   "cell_type": "code",
   "execution_count": 88,
   "id": "4a0dc503",
   "metadata": {},
   "outputs": [],
   "source": [
    "list_of_list = []\n",
    "\n",
    "for mut_type in types:\n",
    "    for bin_num in [2, 9, 10]:\n",
    "        expected_ll = get_expected_ll_final_bin(mut_type, bin_num)\n",
    "        \n",
    "        list_of_list.append([mut_type, bin_num, expected_ll])\n",
    "\n",
    "df_expected_final = pd.DataFrame(list_of_list, columns = [\"mut_type\", \"bin_number\", \"expected_ll\"])\n",
    "\n",
    "def get_relative_ll(df_expected, bin_num , ll):\n",
    "    \n",
    "    ll_neutral = df_expected[(df_expected[\"mut_type\"] == \"neutral\") & (df_expected[\"bin_number\"] == bin_num)][\"expected_ll\"].iloc[0]\n",
    "    \n",
    "    return ll - ll_neutral\n",
    "\n",
    "df_expected_final['relative_ll'] = df_expected_final.apply(lambda x: get_relative_ll(df_expected_final, x['bin_number'], x['expected_ll']), axis=1)"
   ]
  },
  {
   "cell_type": "code",
   "execution_count": 82,
   "id": "bae73b6c",
   "metadata": {},
   "outputs": [
    {
     "data": {
      "text/plain": [
       "<seaborn.axisgrid.FacetGrid at 0x7feafb225d30>"
      ]
     },
     "execution_count": 82,
     "metadata": {},
     "output_type": "execute_result"
    },
    {
     "data": {
      "image/png": "[encoded data removed]",
      "text/plain": [
       "<Figure size 593.736x500 with 1 Axes>"
      ]
     },
     "metadata": {},
     "output_type": "display_data"
    }
   ],
   "source": [
    "sns.catplot(data=df_expected, y=\"mut_type\", x=\"relative_ll\", hue=\"bin_number\", kind=\"bar\")\n"
   ]
  },
  {
   "cell_type": "code",
   "execution_count": 89,
   "id": "c852f1a1",
   "metadata": {},
   "outputs": [
    {
     "data": {
      "text/plain": [
       "<seaborn.axisgrid.FacetGrid at 0x7feafc6a4160>"
      ]
     },
     "execution_count": 89,
     "metadata": {},
     "output_type": "execute_result"
    },
    {
     "data": {
      "image/png": "[encoded data removed]",
      "text/plain": [
       "<Figure size 593.736x500 with 1 Axes>"
      ]
     },
     "metadata": {},
     "output_type": "display_data"
    }
   ],
   "source": [
    "sns.catplot(data=df_expected_final, y=\"mut_type\", x=\"relative_ll\", hue=\"bin_number\", kind=\"bar\")\n"
   ]
  },
  {
   "cell_type": "code",
   "execution_count": 100,
   "id": "8b089123",
   "metadata": {},
   "outputs": [
    {
     "data": {
      "text/html": [
       "<div>\n",
       "<style scoped>\n",
       "    .dataframe tbody tr th:only-of-type {\n",
       "        vertical-align: middle;\n",
       "    }\n",
       "\n",
       "    .dataframe tbody tr th {\n",
       "        vertical-align: top;\n",
       "    }\n",
       "\n",
       "    .dataframe thead th {\n",
       "        text-align: right;\n",
       "    }\n",
       "</style>\n",
       "<table border=\"1\" class=\"dataframe\">\n",
       "  <thead>\n",
       "    <tr style=\"text-align: right;\">\n",
       "      <th></th>\n",
       "      <th>0</th>\n",
       "      <th>1</th>\n",
       "      <th>2</th>\n",
       "      <th>3</th>\n",
       "      <th>4</th>\n",
       "      <th>5</th>\n",
       "      <th>6</th>\n",
       "      <th>7</th>\n",
       "      <th>8</th>\n",
       "    </tr>\n",
       "  </thead>\n",
       "  <tbody>\n",
       "    <tr>\n",
       "      <th>0</th>\n",
       "      <td>0.975298</td>\n",
       "      <td>0.013958</td>\n",
       "      <td>0.003420</td>\n",
       "      <td>0.002570</td>\n",
       "      <td>0.001719</td>\n",
       "      <td>0.001588</td>\n",
       "      <td>0.000899</td>\n",
       "      <td>0.000276</td>\n",
       "      <td>0.000272</td>\n",
       "    </tr>\n",
       "    <tr>\n",
       "      <th>1</th>\n",
       "      <td>0.961509</td>\n",
       "      <td>0.021408</td>\n",
       "      <td>0.005431</td>\n",
       "      <td>0.004093</td>\n",
       "      <td>0.002756</td>\n",
       "      <td>0.002537</td>\n",
       "      <td>0.001431</td>\n",
       "      <td>0.000444</td>\n",
       "      <td>0.000391</td>\n",
       "    </tr>\n",
       "    <tr>\n",
       "      <th>2</th>\n",
       "      <td>0.944296</td>\n",
       "      <td>0.030620</td>\n",
       "      <td>0.007961</td>\n",
       "      <td>0.006004</td>\n",
       "      <td>0.004050</td>\n",
       "      <td>0.003766</td>\n",
       "      <td>0.002134</td>\n",
       "      <td>0.000634</td>\n",
       "      <td>0.000536</td>\n",
       "    </tr>\n",
       "    <tr>\n",
       "      <th>3</th>\n",
       "      <td>0.926091</td>\n",
       "      <td>0.040284</td>\n",
       "      <td>0.010638</td>\n",
       "      <td>0.008072</td>\n",
       "      <td>0.005456</td>\n",
       "      <td>0.005051</td>\n",
       "      <td>0.002857</td>\n",
       "      <td>0.000847</td>\n",
       "      <td>0.000704</td>\n",
       "    </tr>\n",
       "    <tr>\n",
       "      <th>4</th>\n",
       "      <td>0.907500</td>\n",
       "      <td>0.050000</td>\n",
       "      <td>0.013458</td>\n",
       "      <td>0.010140</td>\n",
       "      <td>0.006897</td>\n",
       "      <td>0.006361</td>\n",
       "      <td>0.003631</td>\n",
       "      <td>0.001091</td>\n",
       "      <td>0.000922</td>\n",
       "    </tr>\n",
       "  </tbody>\n",
       "</table>\n",
       "</div>"
      ],
      "text/plain": [
       "          0         1         2         3         4         5         6  \\\n",
       "0  0.975298  0.013958  0.003420  0.002570  0.001719  0.001588  0.000899   \n",
       "1  0.961509  0.021408  0.005431  0.004093  0.002756  0.002537  0.001431   \n",
       "2  0.944296  0.030620  0.007961  0.006004  0.004050  0.003766  0.002134   \n",
       "3  0.926091  0.040284  0.010638  0.008072  0.005456  0.005051  0.002857   \n",
       "4  0.907500  0.050000  0.013458  0.010140  0.006897  0.006361  0.003631   \n",
       "\n",
       "          7         8  \n",
       "0  0.000276  0.000272  \n",
       "1  0.000444  0.000391  \n",
       "2  0.000634  0.000536  \n",
       "3  0.000847  0.000704  \n",
       "4  0.001091  0.000922  "
      ]
     },
     "execution_count": 100,
     "metadata": {},
     "output_type": "execute_result"
    }
   ],
   "source": [
    "mut_type = \"footprints\"\n",
    "bin_num = 9\n",
    "\n",
    "df = pd.read_csv(os.path.join(KL_data_dir, \"results/method_validation/split/\"+ mut_type + \n",
    "                              \"/pivot_bin_\"+ str(bin_num)+\".tsv\"), sep = \"\\t\")\n",
    "\n",
    "df = df.div(df.sum(axis=1), axis=0)\n",
    "\n",
    "df.head()"
   ]
  },
  {
   "cell_type": "code",
   "execution_count": 96,
   "id": "ff77326f",
   "metadata": {},
   "outputs": [
    {
     "data": {
      "text/html": [
       "<div>\n",
       "<style scoped>\n",
       "    .dataframe tbody tr th:only-of-type {\n",
       "        vertical-align: middle;\n",
       "    }\n",
       "\n",
       "    .dataframe tbody tr th {\n",
       "        vertical-align: top;\n",
       "    }\n",
       "\n",
       "    .dataframe thead th {\n",
       "        text-align: right;\n",
       "    }\n",
       "</style>\n",
       "<table border=\"1\" class=\"dataframe\">\n",
       "  <thead>\n",
       "    <tr style=\"text-align: right;\">\n",
       "      <th></th>\n",
       "      <th>0</th>\n",
       "      <th>1</th>\n",
       "      <th>2</th>\n",
       "      <th>3</th>\n",
       "      <th>4</th>\n",
       "      <th>5</th>\n",
       "      <th>6</th>\n",
       "      <th>7</th>\n",
       "      <th>8</th>\n",
       "    </tr>\n",
       "  </thead>\n",
       "  <tbody>\n",
       "    <tr>\n",
       "      <th>49</th>\n",
       "      <td>0.013808</td>\n",
       "      <td>0.027349</td>\n",
       "      <td>0.036504</td>\n",
       "      <td>0.085113</td>\n",
       "      <td>0.158715</td>\n",
       "      <td>0.339857</td>\n",
       "      <td>0.247233</td>\n",
       "      <td>0.059852</td>\n",
       "      <td>0.031570</td>\n",
       "    </tr>\n",
       "    <tr>\n",
       "      <th>50</th>\n",
       "      <td>0.011427</td>\n",
       "      <td>0.021766</td>\n",
       "      <td>0.032019</td>\n",
       "      <td>0.075564</td>\n",
       "      <td>0.152868</td>\n",
       "      <td>0.344756</td>\n",
       "      <td>0.264114</td>\n",
       "      <td>0.063175</td>\n",
       "      <td>0.034310</td>\n",
       "    </tr>\n",
       "    <tr>\n",
       "      <th>51</th>\n",
       "      <td>0.009082</td>\n",
       "      <td>0.018097</td>\n",
       "      <td>0.028275</td>\n",
       "      <td>0.069949</td>\n",
       "      <td>0.139674</td>\n",
       "      <td>0.338023</td>\n",
       "      <td>0.287961</td>\n",
       "      <td>0.071537</td>\n",
       "      <td>0.037402</td>\n",
       "    </tr>\n",
       "    <tr>\n",
       "      <th>52</th>\n",
       "      <td>0.007089</td>\n",
       "      <td>0.013765</td>\n",
       "      <td>0.020442</td>\n",
       "      <td>0.055556</td>\n",
       "      <td>0.120013</td>\n",
       "      <td>0.339268</td>\n",
       "      <td>0.317301</td>\n",
       "      <td>0.081273</td>\n",
       "      <td>0.045293</td>\n",
       "    </tr>\n",
       "    <tr>\n",
       "      <th>53</th>\n",
       "      <td>0.004279</td>\n",
       "      <td>0.010024</td>\n",
       "      <td>0.014425</td>\n",
       "      <td>0.042787</td>\n",
       "      <td>0.103912</td>\n",
       "      <td>0.324817</td>\n",
       "      <td>0.349511</td>\n",
       "      <td>0.098411</td>\n",
       "      <td>0.051834</td>\n",
       "    </tr>\n",
       "  </tbody>\n",
       "</table>\n",
       "</div>"
      ],
      "text/plain": [
       "           0         1         2         3         4         5         6  \\\n",
       "49  0.013808  0.027349  0.036504  0.085113  0.158715  0.339857  0.247233   \n",
       "50  0.011427  0.021766  0.032019  0.075564  0.152868  0.344756  0.264114   \n",
       "51  0.009082  0.018097  0.028275  0.069949  0.139674  0.338023  0.287961   \n",
       "52  0.007089  0.013765  0.020442  0.055556  0.120013  0.339268  0.317301   \n",
       "53  0.004279  0.010024  0.014425  0.042787  0.103912  0.324817  0.349511   \n",
       "\n",
       "           7         8  \n",
       "49  0.059852  0.031570  \n",
       "50  0.063175  0.034310  \n",
       "51  0.071537  0.037402  \n",
       "52  0.081273  0.045293  \n",
       "53  0.098411  0.051834  "
      ]
     },
     "execution_count": 96,
     "metadata": {},
     "output_type": "execute_result"
    }
   ],
   "source": [
    "df.tail()"
   ]
  },
  {
   "cell_type": "code",
   "execution_count": 97,
   "id": "fda3fdd5",
   "metadata": {},
   "outputs": [
    {
     "data": {
      "text/html": [
       "<div>\n",
       "<style scoped>\n",
       "    .dataframe tbody tr th:only-of-type {\n",
       "        vertical-align: middle;\n",
       "    }\n",
       "\n",
       "    .dataframe tbody tr th {\n",
       "        vertical-align: top;\n",
       "    }\n",
       "\n",
       "    .dataframe thead th {\n",
       "        text-align: right;\n",
       "    }\n",
       "</style>\n",
       "<table border=\"1\" class=\"dataframe\">\n",
       "  <thead>\n",
       "    <tr style=\"text-align: right;\">\n",
       "      <th></th>\n",
       "      <th>0</th>\n",
       "      <th>1</th>\n",
       "      <th>2</th>\n",
       "      <th>3</th>\n",
       "      <th>4</th>\n",
       "      <th>5</th>\n",
       "      <th>6</th>\n",
       "      <th>7</th>\n",
       "      <th>8</th>\n",
       "    </tr>\n",
       "  </thead>\n",
       "  <tbody>\n",
       "    <tr>\n",
       "      <th>0</th>\n",
       "      <td>0.975749</td>\n",
       "      <td>0.013715</td>\n",
       "      <td>0.003351</td>\n",
       "      <td>0.002510</td>\n",
       "      <td>0.001692</td>\n",
       "      <td>0.001552</td>\n",
       "      <td>0.000879</td>\n",
       "      <td>0.000277</td>\n",
       "      <td>0.000275</td>\n",
       "    </tr>\n",
       "    <tr>\n",
       "      <th>1</th>\n",
       "      <td>0.962205</td>\n",
       "      <td>0.021078</td>\n",
       "      <td>0.005314</td>\n",
       "      <td>0.003991</td>\n",
       "      <td>0.002692</td>\n",
       "      <td>0.002480</td>\n",
       "      <td>0.001407</td>\n",
       "      <td>0.000434</td>\n",
       "      <td>0.000400</td>\n",
       "    </tr>\n",
       "    <tr>\n",
       "      <th>2</th>\n",
       "      <td>0.945046</td>\n",
       "      <td>0.030323</td>\n",
       "      <td>0.007842</td>\n",
       "      <td>0.005885</td>\n",
       "      <td>0.003965</td>\n",
       "      <td>0.003679</td>\n",
       "      <td>0.002075</td>\n",
       "      <td>0.000639</td>\n",
       "      <td>0.000546</td>\n",
       "    </tr>\n",
       "    <tr>\n",
       "      <th>3</th>\n",
       "      <td>0.926790</td>\n",
       "      <td>0.040119</td>\n",
       "      <td>0.010522</td>\n",
       "      <td>0.007900</td>\n",
       "      <td>0.005332</td>\n",
       "      <td>0.004943</td>\n",
       "      <td>0.002803</td>\n",
       "      <td>0.000861</td>\n",
       "      <td>0.000731</td>\n",
       "    </tr>\n",
       "    <tr>\n",
       "      <th>4</th>\n",
       "      <td>0.908244</td>\n",
       "      <td>0.049853</td>\n",
       "      <td>0.013280</td>\n",
       "      <td>0.009982</td>\n",
       "      <td>0.006762</td>\n",
       "      <td>0.006267</td>\n",
       "      <td>0.003553</td>\n",
       "      <td>0.001099</td>\n",
       "      <td>0.000960</td>\n",
       "    </tr>\n",
       "  </tbody>\n",
       "</table>\n",
       "</div>"
      ],
      "text/plain": [
       "          0         1         2         3         4         5         6  \\\n",
       "0  0.975749  0.013715  0.003351  0.002510  0.001692  0.001552  0.000879   \n",
       "1  0.962205  0.021078  0.005314  0.003991  0.002692  0.002480  0.001407   \n",
       "2  0.945046  0.030323  0.007842  0.005885  0.003965  0.003679  0.002075   \n",
       "3  0.926790  0.040119  0.010522  0.007900  0.005332  0.004943  0.002803   \n",
       "4  0.908244  0.049853  0.013280  0.009982  0.006762  0.006267  0.003553   \n",
       "\n",
       "          7         8  \n",
       "0  0.000277  0.000275  \n",
       "1  0.000434  0.000400  \n",
       "2  0.000639  0.000546  \n",
       "3  0.000861  0.000731  \n",
       "4  0.001099  0.000960  "
      ]
     },
     "execution_count": 97,
     "metadata": {},
     "output_type": "execute_result"
    }
   ],
   "source": [
    "mut_type = \"non_footprint_dhs\"\n",
    "bin_num = 9\n",
    "\n",
    "df = pd.read_csv(os.path.join(KL_data_dir, \"results/method_validation/split/\"+ mut_type + \n",
    "                              \"/pivot_bin_\"+ str(bin_num)+\".tsv\"), sep = \"\\t\")\n",
    "df = df.div(df.sum(axis=1), axis=0)\n",
    "\n",
    "df.head()"
   ]
  },
  {
   "cell_type": "code",
   "execution_count": 98,
   "id": "b2f56d64",
   "metadata": {},
   "outputs": [
    {
     "data": {
      "text/html": [
       "<div>\n",
       "<style scoped>\n",
       "    .dataframe tbody tr th:only-of-type {\n",
       "        vertical-align: middle;\n",
       "    }\n",
       "\n",
       "    .dataframe tbody tr th {\n",
       "        vertical-align: top;\n",
       "    }\n",
       "\n",
       "    .dataframe thead th {\n",
       "        text-align: right;\n",
       "    }\n",
       "</style>\n",
       "<table border=\"1\" class=\"dataframe\">\n",
       "  <thead>\n",
       "    <tr style=\"text-align: right;\">\n",
       "      <th></th>\n",
       "      <th>0</th>\n",
       "      <th>1</th>\n",
       "      <th>2</th>\n",
       "      <th>3</th>\n",
       "      <th>4</th>\n",
       "      <th>5</th>\n",
       "      <th>6</th>\n",
       "      <th>7</th>\n",
       "      <th>8</th>\n",
       "    </tr>\n",
       "  </thead>\n",
       "  <tbody>\n",
       "    <tr>\n",
       "      <th>49</th>\n",
       "      <td>0.015685</td>\n",
       "      <td>0.026369</td>\n",
       "      <td>0.035178</td>\n",
       "      <td>0.082101</td>\n",
       "      <td>0.155857</td>\n",
       "      <td>0.337915</td>\n",
       "      <td>0.251824</td>\n",
       "      <td>0.060957</td>\n",
       "      <td>0.034115</td>\n",
       "    </tr>\n",
       "    <tr>\n",
       "      <th>50</th>\n",
       "      <td>0.012328</td>\n",
       "      <td>0.021691</td>\n",
       "      <td>0.030172</td>\n",
       "      <td>0.074354</td>\n",
       "      <td>0.147703</td>\n",
       "      <td>0.342017</td>\n",
       "      <td>0.269525</td>\n",
       "      <td>0.065636</td>\n",
       "      <td>0.036574</td>\n",
       "    </tr>\n",
       "    <tr>\n",
       "      <th>51</th>\n",
       "      <td>0.009499</td>\n",
       "      <td>0.017838</td>\n",
       "      <td>0.025820</td>\n",
       "      <td>0.065275</td>\n",
       "      <td>0.136751</td>\n",
       "      <td>0.342580</td>\n",
       "      <td>0.288949</td>\n",
       "      <td>0.072730</td>\n",
       "      <td>0.040558</td>\n",
       "    </tr>\n",
       "    <tr>\n",
       "      <th>52</th>\n",
       "      <td>0.006522</td>\n",
       "      <td>0.013529</td>\n",
       "      <td>0.019724</td>\n",
       "      <td>0.052656</td>\n",
       "      <td>0.119505</td>\n",
       "      <td>0.336464</td>\n",
       "      <td>0.321705</td>\n",
       "      <td>0.082437</td>\n",
       "      <td>0.047458</td>\n",
       "    </tr>\n",
       "    <tr>\n",
       "      <th>53</th>\n",
       "      <td>0.003533</td>\n",
       "      <td>0.009216</td>\n",
       "      <td>0.013581</td>\n",
       "      <td>0.040899</td>\n",
       "      <td>0.100733</td>\n",
       "      <td>0.326739</td>\n",
       "      <td>0.355659</td>\n",
       "      <td>0.096840</td>\n",
       "      <td>0.052800</td>\n",
       "    </tr>\n",
       "  </tbody>\n",
       "</table>\n",
       "</div>"
      ],
      "text/plain": [
       "           0         1         2         3         4         5         6  \\\n",
       "49  0.015685  0.026369  0.035178  0.082101  0.155857  0.337915  0.251824   \n",
       "50  0.012328  0.021691  0.030172  0.074354  0.147703  0.342017  0.269525   \n",
       "51  0.009499  0.017838  0.025820  0.065275  0.136751  0.342580  0.288949   \n",
       "52  0.006522  0.013529  0.019724  0.052656  0.119505  0.336464  0.321705   \n",
       "53  0.003533  0.009216  0.013581  0.040899  0.100733  0.326739  0.355659   \n",
       "\n",
       "           7         8  \n",
       "49  0.060957  0.034115  \n",
       "50  0.065636  0.036574  \n",
       "51  0.072730  0.040558  \n",
       "52  0.082437  0.047458  \n",
       "53  0.096840  0.052800  "
      ]
     },
     "execution_count": 98,
     "metadata": {},
     "output_type": "execute_result"
    }
   ],
   "source": [
    "df.tail()"
   ]
  },
  {
   "cell_type": "markdown",
   "id": "7b170fe1",
   "metadata": {},
   "source": [
    "## January 29:  let's check if the expected log-likelihood is the same for all of the AF bins"
   ]
  },
  {
   "cell_type": "code",
   "execution_count": 2,
   "id": "cf70788f",
   "metadata": {},
   "outputs": [],
   "source": [
    "# read pivot\n",
    "#make offset\n",
    "# read into file\n",
    "# calculate log-likelihood"
   ]
  },
  {
   "cell_type": "code",
   "execution_count": 34,
   "id": "57f99d19",
   "metadata": {},
   "outputs": [
    {
     "name": "stdout",
     "output_type": "stream",
     "text": [
      "0.6931471805599452\n",
      "0.0\n",
      "0.0\n"
     ]
    }
   ],
   "source": [
    "df = pd.read_csv(os.path.join(KL_data_dir, \"results/method_validation/split/neutral/pivot_bin_2.tsv\"), sep = \"\\t\")\n",
    "\n",
    "data = np.array(df)\n",
    "\n",
    "betas = raklette.multinomial_trans(df)\n",
    "\n",
    "winsfs_test = mlr.WinSFS(data = data, mut_offset = betas)\n",
    "\n",
    "print(winsfs_test.ll_expected())\n",
    "\n",
    "winsfs_test.ml_optim( verbose = False)\n",
    "print(winsfs_test.KL(4))\n",
    "winsfs_test.ml_boostrap(verbose = False)\n",
    "print(winsfs_test.KL(4))"
   ]
  },
  {
   "cell_type": "code",
   "execution_count": 36,
   "id": "47300253",
   "metadata": {},
   "outputs": [],
   "source": [
    "alpha_bs, fit_probs_bs = winsfs_test.ml_boostrap(verbose = False)"
   ]
  },
  {
   "cell_type": "code",
   "execution_count": 40,
   "id": "c17fc0c4",
   "metadata": {},
   "outputs": [
    {
     "data": {
      "text/plain": [
       "(100, 1)"
      ]
     },
     "execution_count": 40,
     "metadata": {},
     "output_type": "execute_result"
    }
   ],
   "source": [
    "alpha_bs.shape"
   ]
  },
  {
   "cell_type": "code",
   "execution_count": 39,
   "id": "ab337915",
   "metadata": {},
   "outputs": [
    {
     "data": {
      "text/plain": [
       "(100, 54, 2)"
      ]
     },
     "execution_count": 39,
     "metadata": {},
     "output_type": "execute_result"
    }
   ],
   "source": [
    "fit_probs_bs.shape"
   ]
  },
  {
   "cell_type": "code",
   "execution_count": 31,
   "id": "d3ed478f",
   "metadata": {},
   "outputs": [
    {
     "name": "stdout",
     "output_type": "stream",
     "text": [
      "-2.0841207734821743e-17\n",
      "-2.0841207734821743e-17\n"
     ]
    }
   ],
   "source": [
    "df = pd.read_csv(os.path.join(KL_data_dir, \"results/method_validation/split/neutral/pivot_bin_9.tsv\"), sep = \"\\t\")\n",
    "\n",
    "data = np.array(df)\n",
    "\n",
    "betas = raklette.multinomial_trans(df)\n",
    "\n",
    "winsfs_test = mlr.WinSFS(data = data, mut_offset = betas)\n",
    "\n",
    "winsfs_test.ll_expected()\n",
    "\n",
    "winsfs_test.ml_optim( verbose = False)\n",
    "print(winsfs_test.KL(4))\n",
    "winsfs_test.ml_boostrap(verbose = False)\n",
    "print(winsfs_test.KL(4))"
   ]
  },
  {
   "cell_type": "code",
   "execution_count": 30,
   "id": "ffd4f399",
   "metadata": {},
   "outputs": [
    {
     "name": "stdout",
     "output_type": "stream",
     "text": [
      "0.0\n",
      "0.0\n"
     ]
    }
   ],
   "source": [
    "df = pd.read_csv(os.path.join(KL_data_dir, \"results/method_validation/split/neutral/pivot_bin_10.tsv\"), sep = \"\\t\")\n",
    "\n",
    "data = np.array(df)\n",
    "\n",
    "betas = raklette.multinomial_trans(df)\n",
    "\n",
    "winsfs_test = mlr.WinSFS(data = data, mut_offset = betas)\n",
    "\n",
    "winsfs_test.ll_expected()\n",
    "\n",
    "winsfs_test.ml_optim( verbose = False)\n",
    "print(winsfs_test.KL(4))\n",
    "winsfs_test.ml_boostrap(verbose = False)\n",
    "print(winsfs_test.KL(4))"
   ]
  },
  {
   "cell_type": "code",
   "execution_count": null,
   "id": "eda5bc72",
   "metadata": {},
   "outputs": [],
   "source": []
  }
 ],
 "metadata": {
  "kernelspec": {
   "display_name": "Python 3 (ipykernel)",
   "language": "python",
   "name": "python3"
  },
  "language_info": {
   "codemirror_mode": {
    "name": "ipython",
    "version": 3
   },
   "file_extension": ".py",
   "mimetype": "text/x-python",
   "name": "python",
   "nbconvert_exporter": "python",
   "pygments_lexer": "ipython3",
   "version": "3.9.18"
  }
 },
 "nbformat": 4,
 "nbformat_minor": 5
}
